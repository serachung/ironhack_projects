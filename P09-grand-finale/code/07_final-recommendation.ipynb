{
 "cells": [
  {
   "cell_type": "code",
   "execution_count": 1,
   "metadata": {
    "ExecuteTime": {
     "end_time": "2020-05-25T23:52:26.194080Z",
     "start_time": "2020-05-25T23:52:25.446369Z"
    }
   },
   "outputs": [],
   "source": [
    "from getpass import getpass\n",
    "import pandas as pd\n",
    "import numpy as np\n",
    "import seaborn as sns"
   ]
  },
  {
   "cell_type": "markdown",
   "metadata": {},
   "source": [
    "# Recommender System Model"
   ]
  },
  {
   "cell_type": "markdown",
   "metadata": {},
   "source": [
    "> `database`:\n",
    "- import\n",
    "- preprocess\n",
    "\n",
    "> `input`: \n",
    "- música\n",
    "- gênero\n",
    "\n",
    "> `processamento`:\n",
    "- buscar na base de dados de música atual, encontrar artista, separar\n",
    "- filtrar DB por target (recomendável)\n",
    "- filtrar por cluster POR FEATURES\n",
    "- análise word2vec gêneros\n",
    "- análise word2vec para a música do input\n",
    "- calcular dist cosine\n",
    "\n",
    "- standardizar dados\n",
    "- incluir no sistema de recomendação\n",
    "- filtrar os 10 mais semelhantes\n",
    "\n",
    "> `output`:\n",
    "- retornar página com top 5 músicas e artistas\n",
    "- links para ouvir a música"
   ]
  },
  {
   "cell_type": "markdown",
   "metadata": {},
   "source": [
    "# Pipeline"
   ]
  },
  {
   "cell_type": "code",
   "execution_count": 17,
   "metadata": {
    "ExecuteTime": {
     "end_time": "2020-05-25T23:56:31.152652Z",
     "start_time": "2020-05-25T23:56:31.148032Z"
    }
   },
   "outputs": [],
   "source": [
    "from sklearn.pipeline import Pipeline\n",
    "from sklearn.preprocessing import StandardScaler\n",
    "from sklearn.impute import SimpleImputer, KNNImputer\n",
    "from scipy.spatial import distance\n",
    "from sklearn.cluster import KMeans"
   ]
  },
  {
   "cell_type": "code",
   "execution_count": 365,
   "metadata": {
    "ExecuteTime": {
     "end_time": "2020-05-26T03:37:06.547080Z",
     "start_time": "2020-05-26T03:37:06.542785Z"
    }
   },
   "outputs": [],
   "source": [
    "# feat_selection = ['danceability','energy','key','loudness','mode','speechiness','acousticness',\n",
    "#          'instrumentalness','liveness','valence','tempo','time_signature']\n",
    "\n",
    "# feat_selection = ['danceability','energy','loudness','speechiness','acousticness',\n",
    "#                  'instrumentalness','liveness','valence']\n",
    "\n",
    "feat_selection = ['danceability','energy','speechiness','acousticness',\n",
    "         'instrumentalness','valence']"
   ]
  },
  {
   "cell_type": "code",
   "execution_count": 380,
   "metadata": {
    "ExecuteTime": {
     "end_time": "2020-05-26T03:42:29.285504Z",
     "start_time": "2020-05-26T03:42:29.280249Z"
    }
   },
   "outputs": [],
   "source": [
    "pipeline = Pipeline(steps=[('features_selection', AudioFeatures()),\n",
    "                           ('missing', KNNImputer(n_neighbors=30)),\n",
    "                           ('preprocessing', StandardScaler()),\n",
    "                           ('feature_clusterization', KMeans(30))])"
   ]
  },
  {
   "cell_type": "code",
   "execution_count": 381,
   "metadata": {
    "ExecuteTime": {
     "end_time": "2020-05-26T03:42:39.660833Z",
     "start_time": "2020-05-26T03:42:29.463908Z"
    }
   },
   "outputs": [],
   "source": [
    "songs = pd.read_csv('../data/final/songs.csv')\n",
    "pipeline.fit(songs)\n",
    "X = pipeline.named_steps['features_selection'].transform(songs)\n",
    "pipeline.named_steps['preprocessing'].transform(X)\n",
    "songs['cluster'] = pipeline.predict(X)\n",
    "songs.to_csv('../data/final/songs.csv', index=False)"
   ]
  },
  {
   "cell_type": "markdown",
   "metadata": {},
   "source": [
    "# Input & Validation"
   ]
  },
  {
   "cell_type": "markdown",
   "metadata": {},
   "source": [
    "## Speech recognition"
   ]
  },
  {
   "cell_type": "code",
   "execution_count": 161,
   "metadata": {
    "ExecuteTime": {
     "end_time": "2020-05-26T01:24:03.418557Z",
     "start_time": "2020-05-26T01:23:49.842304Z"
    },
    "scrolled": true
   },
   "outputs": [
    {
     "name": "stdout",
     "output_type": "stream",
     "text": [
      "Tell us the title of a song you like :)\n",
      "Listening... (you've got 4 seconds)\n",
      "Processing...\n",
      "Tell us the artist who sings that song\n",
      "Listening... (you've got 4 seconds)\n",
      "Processing...\n",
      "You chose \"good news\" by Mac Miller, right? (y/n)y\n"
     ]
    }
   ],
   "source": [
    "user_input=check_input(song_input=get_audio('title'), artist_input=get_audio('artist'))"
   ]
  },
  {
   "cell_type": "markdown",
   "metadata": {},
   "source": [
    "## Written song"
   ]
  },
  {
   "cell_type": "code",
   "execution_count": 382,
   "metadata": {
    "ExecuteTime": {
     "end_time": "2020-05-26T03:43:07.707420Z",
     "start_time": "2020-05-26T03:42:41.383932Z"
    },
    "scrolled": true
   },
   "outputs": [
    {
     "name": "stdout",
     "output_type": "stream",
     "text": [
      "Tell us the title of a song you like :)photograph\n",
      "Tell us the artist who sings that songnickelback\n",
      "You chose \"Photograph\" by Nickelback, right? (y/n)y\n"
     ]
    }
   ],
   "source": [
    "user_input=check_input(song_input=get_text('title'), artist_input=get_text('artist'))"
   ]
  },
  {
   "cell_type": "markdown",
   "metadata": {},
   "source": [
    "# Processing"
   ]
  },
  {
   "cell_type": "code",
   "execution_count": 383,
   "metadata": {
    "ExecuteTime": {
     "end_time": "2020-05-26T03:43:09.651364Z",
     "start_time": "2020-05-26T03:43:09.346833Z"
    }
   },
   "outputs": [
    {
     "name": "stdout",
     "output_type": "stream",
     "text": [
      "found in the database\n"
     ]
    }
   ],
   "source": [
    "# processing the input and saving to dabase new information\n",
    "process = target_process(user_input)\n",
    "target_song = process[0]\n",
    "target_cluster = process[1]"
   ]
  },
  {
   "cell_type": "code",
   "execution_count": 384,
   "metadata": {
    "ExecuteTime": {
     "end_time": "2020-05-26T03:43:11.197367Z",
     "start_time": "2020-05-26T03:43:11.177176Z"
    }
   },
   "outputs": [
    {
     "data": {
      "text/html": [
       "<div>\n",
       "<style scoped>\n",
       "    .dataframe tbody tr th:only-of-type {\n",
       "        vertical-align: middle;\n",
       "    }\n",
       "\n",
       "    .dataframe tbody tr th {\n",
       "        vertical-align: top;\n",
       "    }\n",
       "\n",
       "    .dataframe thead th {\n",
       "        text-align: right;\n",
       "    }\n",
       "</style>\n",
       "<table border=\"1\" class=\"dataframe\">\n",
       "  <thead>\n",
       "    <tr style=\"text-align: right;\">\n",
       "      <th></th>\n",
       "      <th>track</th>\n",
       "      <th>artist</th>\n",
       "      <th>tracks_uri</th>\n",
       "      <th>decade</th>\n",
       "      <th>billboard</th>\n",
       "      <th>art_genres</th>\n",
       "      <th>danceability</th>\n",
       "      <th>energy</th>\n",
       "      <th>key</th>\n",
       "      <th>loudness</th>\n",
       "      <th>mode</th>\n",
       "      <th>speechiness</th>\n",
       "      <th>acousticness</th>\n",
       "      <th>instrumentalness</th>\n",
       "      <th>liveness</th>\n",
       "      <th>valence</th>\n",
       "      <th>tempo</th>\n",
       "      <th>time_signature</th>\n",
       "      <th>cluster</th>\n",
       "    </tr>\n",
       "  </thead>\n",
       "  <tbody>\n",
       "    <tr>\n",
       "      <th>29490</th>\n",
       "      <td>Photograph</td>\n",
       "      <td>Nickelback</td>\n",
       "      <td>spotify:track:3hb2ScEVkGchcAQqrPLP0R</td>\n",
       "      <td>2000.0</td>\n",
       "      <td>1.0</td>\n",
       "      <td>['alternative metal', 'canadian rock', 'nu met...</td>\n",
       "      <td>0.513</td>\n",
       "      <td>0.877</td>\n",
       "      <td>8.0</td>\n",
       "      <td>-3.756</td>\n",
       "      <td>1.0</td>\n",
       "      <td>0.0292</td>\n",
       "      <td>0.000932</td>\n",
       "      <td>0.000163</td>\n",
       "      <td>0.136</td>\n",
       "      <td>0.389</td>\n",
       "      <td>145.919</td>\n",
       "      <td>4.0</td>\n",
       "      <td>11</td>\n",
       "    </tr>\n",
       "  </tbody>\n",
       "</table>\n",
       "</div>"
      ],
      "text/plain": [
       "            track      artist                            tracks_uri  decade  \\\n",
       "29490  Photograph  Nickelback  spotify:track:3hb2ScEVkGchcAQqrPLP0R  2000.0   \n",
       "\n",
       "       billboard                                         art_genres  \\\n",
       "29490        1.0  ['alternative metal', 'canadian rock', 'nu met...   \n",
       "\n",
       "       danceability  energy  key  loudness  mode  speechiness  acousticness  \\\n",
       "29490         0.513   0.877  8.0    -3.756   1.0       0.0292      0.000932   \n",
       "\n",
       "       instrumentalness  liveness  valence    tempo  time_signature  cluster  \n",
       "29490          0.000163     0.136    0.389  145.919             4.0       11  "
      ]
     },
     "execution_count": 384,
     "metadata": {},
     "output_type": "execute_result"
    }
   ],
   "source": [
    "target_song"
   ]
  },
  {
   "cell_type": "code",
   "execution_count": 385,
   "metadata": {
    "ExecuteTime": {
     "end_time": "2020-05-26T03:43:13.698698Z",
     "start_time": "2020-05-26T03:43:13.692574Z"
    }
   },
   "outputs": [
    {
     "data": {
      "text/plain": [
       "11"
      ]
     },
     "execution_count": 385,
     "metadata": {},
     "output_type": "execute_result"
    }
   ],
   "source": [
    "target_cluster"
   ]
  },
  {
   "cell_type": "code",
   "execution_count": 386,
   "metadata": {
    "ExecuteTime": {
     "end_time": "2020-05-26T03:43:17.584644Z",
     "start_time": "2020-05-26T03:43:15.432751Z"
    }
   },
   "outputs": [
    {
     "name": "stderr",
     "output_type": "stream",
     "text": [
      "<ipython-input-116-e920a43962ff>:18: SettingWithCopyWarning: \n",
      "A value is trying to be set on a copy of a slice from a DataFrame.\n",
      "Try using .loc[row_indexer,col_indexer] = value instead\n",
      "\n",
      "See the caveats in the documentation: https://pandas.pydata.org/pandas-docs/stable/user_guide/indexing.html#returning-a-view-versus-a-copy\n",
      "  cluster_songs['is_recommended'] = cluster_songs.artist.apply(lambda x: 1 if x in list(recomm_artists.artist) else 0)\n"
     ]
    }
   ],
   "source": [
    "# now it's time to filter by the 10 nearest songs and artists\n",
    "cluster_songs = get_recomm_songs(target_cluster)\n",
    "recomm_songs = cluster_songs.copy().reset_index(drop=True)\n",
    "\n",
    "# defining X and y \n",
    "X = pipeline.named_steps['features_selection'].transform(recomm_songs)\n",
    "y = pipeline.named_steps['features_selection'].transform(target_song)\n",
    "\n",
    "#Standardizing\n",
    "X_std = pd.DataFrame(pipeline.named_steps['preprocessing'].transform(X), columns=X.columns)\n",
    "y_std = pd.DataFrame(pipeline.named_steps['preprocessing'].transform(y), columns=y.columns)"
   ]
  },
  {
   "cell_type": "markdown",
   "metadata": {},
   "source": [
    "# Ball Tree"
   ]
  },
  {
   "cell_type": "code",
   "execution_count": null,
   "metadata": {},
   "outputs": [],
   "source": [
    "#Calculate distance based on cluster center"
   ]
  },
  {
   "cell_type": "code",
   "execution_count": null,
   "metadata": {},
   "outputs": [],
   "source": []
  },
  {
   "cell_type": "code",
   "execution_count": 387,
   "metadata": {
    "ExecuteTime": {
     "end_time": "2020-05-26T03:43:21.254706Z",
     "start_time": "2020-05-26T03:43:21.248706Z"
    }
   },
   "outputs": [],
   "source": [
    "from sklearn.neighbors import BallTree\n",
    "\n",
    "#Calculating the distance between the target song to all the rest of the same cluster\n",
    "tree = BallTree(X_std, metric= 'euclidean')    \n",
    "dist, ind = tree.query(y, k=10)    "
   ]
  },
  {
   "cell_type": "markdown",
   "metadata": {},
   "source": [
    "# Recommendation"
   ]
  },
  {
   "cell_type": "code",
   "execution_count": null,
   "metadata": {},
   "outputs": [],
   "source": [
    "# Think of a way to speed up this process: "
   ]
  },
  {
   "cell_type": "code",
   "execution_count": 388,
   "metadata": {
    "ExecuteTime": {
     "end_time": "2020-05-26T03:46:07.423291Z",
     "start_time": "2020-05-26T03:43:23.122352Z"
    },
    "scrolled": true
   },
   "outputs": [],
   "source": [
    "# retrieving artist's popularity info \n",
    "final_recomm = get_pop_link(recomm_songs)\n",
    "final_target = get_pop_link(target_song)"
   ]
  },
  {
   "cell_type": "code",
   "execution_count": 389,
   "metadata": {
    "ExecuteTime": {
     "end_time": "2020-05-26T03:46:07.456578Z",
     "start_time": "2020-05-26T03:46:07.428940Z"
    }
   },
   "outputs": [
    {
     "data": {
      "text/html": [
       "<div>\n",
       "<style scoped>\n",
       "    .dataframe tbody tr th:only-of-type {\n",
       "        vertical-align: middle;\n",
       "    }\n",
       "\n",
       "    .dataframe tbody tr th {\n",
       "        vertical-align: top;\n",
       "    }\n",
       "\n",
       "    .dataframe thead th {\n",
       "        text-align: right;\n",
       "    }\n",
       "</style>\n",
       "<table border=\"1\" class=\"dataframe\">\n",
       "  <thead>\n",
       "    <tr style=\"text-align: right;\">\n",
       "      <th></th>\n",
       "      <th>track</th>\n",
       "      <th>artist</th>\n",
       "      <th>art_genres</th>\n",
       "      <th>link</th>\n",
       "      <th>cluster</th>\n",
       "    </tr>\n",
       "  </thead>\n",
       "  <tbody>\n",
       "    <tr>\n",
       "      <th>0</th>\n",
       "      <td>Photograph</td>\n",
       "      <td>Nickelback</td>\n",
       "      <td>['alternative metal', 'canadian rock', 'nu met...</td>\n",
       "      <td>https://open.spotify.com/track/3hb2ScEVkGchcAQ...</td>\n",
       "      <td>11</td>\n",
       "    </tr>\n",
       "    <tr>\n",
       "      <th>1</th>\n",
       "      <td>Damn I Wish I Was Your Lover</td>\n",
       "      <td>Sophie B. Hawkins</td>\n",
       "      <td>['lilith', 'new wave pop', 'pop rock']</td>\n",
       "      <td>https://open.spotify.com/track/0RmEn2jcbyrLV4e...</td>\n",
       "      <td>11</td>\n",
       "    </tr>\n",
       "    <tr>\n",
       "      <th>2</th>\n",
       "      <td>Aao Milo Chalo</td>\n",
       "      <td>Shaan</td>\n",
       "      <td>['desi pop', 'filmi', 'modern bollywood', 'sufi']</td>\n",
       "      <td>https://open.spotify.com/track/6ocOeSjnWPcSTaS...</td>\n",
       "      <td>11</td>\n",
       "    </tr>\n",
       "    <tr>\n",
       "      <th>3</th>\n",
       "      <td>Little Darlin'</td>\n",
       "      <td>Sheila</td>\n",
       "      <td>['background music']</td>\n",
       "      <td>https://open.spotify.com/track/3t7iwbVkBY3vT8z...</td>\n",
       "      <td>11</td>\n",
       "    </tr>\n",
       "    <tr>\n",
       "      <th>4</th>\n",
       "      <td>When I Think About Angels</td>\n",
       "      <td>Jamie O'Neal</td>\n",
       "      <td>['contemporary country', 'country', 'country d...</td>\n",
       "      <td>https://open.spotify.com/track/6X1MOfJSjBT54Vc...</td>\n",
       "      <td>11</td>\n",
       "    </tr>\n",
       "    <tr>\n",
       "      <th>5</th>\n",
       "      <td>Slow Dance In A Parking Lot</td>\n",
       "      <td>Jordan Davis</td>\n",
       "      <td>['contemporary country']</td>\n",
       "      <td>https://open.spotify.com/track/6MBUUSIWCzaXW4q...</td>\n",
       "      <td>11</td>\n",
       "    </tr>\n",
       "    <tr>\n",
       "      <th>6</th>\n",
       "      <td>Rock This Town</td>\n",
       "      <td>Daniel Johnston</td>\n",
       "      <td>['alternative rock', 'anti-folk', 'freak folk'...</td>\n",
       "      <td>https://open.spotify.com/track/3PaSRhmdsbY3GTQ...</td>\n",
       "      <td>11</td>\n",
       "    </tr>\n",
       "    <tr>\n",
       "      <th>7</th>\n",
       "      <td>Barlights</td>\n",
       "      <td>fun.</td>\n",
       "      <td>['axe', 'pagode', 'partido alto', 'samba', 'sa...</td>\n",
       "      <td>https://open.spotify.com/track/4HBeHxm71PBKrc6...</td>\n",
       "      <td>11</td>\n",
       "    </tr>\n",
       "    <tr>\n",
       "      <th>8</th>\n",
       "      <td>Rani</td>\n",
       "      <td>Faun</td>\n",
       "      <td>['hurdy-gurdy', 'medieval folk', 'medieval roc...</td>\n",
       "      <td>https://open.spotify.com/track/4f5hVnrSBAPuVfE...</td>\n",
       "      <td>11</td>\n",
       "    </tr>\n",
       "    <tr>\n",
       "      <th>9</th>\n",
       "      <td>California Girls</td>\n",
       "      <td>David Lee Roth</td>\n",
       "      <td>['album rock', 'classic rock', 'glam metal', '...</td>\n",
       "      <td>https://open.spotify.com/track/4H3vuLX59XPqdtT...</td>\n",
       "      <td>11</td>\n",
       "    </tr>\n",
       "    <tr>\n",
       "      <th>10</th>\n",
       "      <td>Song Of Mor'du - From \"Brave\"/Soundtrack</td>\n",
       "      <td>Patrick Doyle</td>\n",
       "      <td>['british soundtrack', 'hollywood', 'scorecore...</td>\n",
       "      <td>https://open.spotify.com/track/3AVQq5hpwkuJxAz...</td>\n",
       "      <td>11</td>\n",
       "    </tr>\n",
       "  </tbody>\n",
       "</table>\n",
       "</div>"
      ],
      "text/plain": [
       "                                       track             artist  \\\n",
       "0                                 Photograph         Nickelback   \n",
       "1               Damn I Wish I Was Your Lover  Sophie B. Hawkins   \n",
       "2                             Aao Milo Chalo              Shaan   \n",
       "3                             Little Darlin'             Sheila   \n",
       "4                  When I Think About Angels       Jamie O'Neal   \n",
       "5                Slow Dance In A Parking Lot       Jordan Davis   \n",
       "6                             Rock This Town    Daniel Johnston   \n",
       "7                                  Barlights               fun.   \n",
       "8                                       Rani               Faun   \n",
       "9                           California Girls     David Lee Roth   \n",
       "10  Song Of Mor'du - From \"Brave\"/Soundtrack      Patrick Doyle   \n",
       "\n",
       "                                           art_genres  \\\n",
       "0   ['alternative metal', 'canadian rock', 'nu met...   \n",
       "1              ['lilith', 'new wave pop', 'pop rock']   \n",
       "2   ['desi pop', 'filmi', 'modern bollywood', 'sufi']   \n",
       "3                                ['background music']   \n",
       "4   ['contemporary country', 'country', 'country d...   \n",
       "5                            ['contemporary country']   \n",
       "6   ['alternative rock', 'anti-folk', 'freak folk'...   \n",
       "7   ['axe', 'pagode', 'partido alto', 'samba', 'sa...   \n",
       "8   ['hurdy-gurdy', 'medieval folk', 'medieval roc...   \n",
       "9   ['album rock', 'classic rock', 'glam metal', '...   \n",
       "10  ['british soundtrack', 'hollywood', 'scorecore...   \n",
       "\n",
       "                                                 link  cluster  \n",
       "0   https://open.spotify.com/track/3hb2ScEVkGchcAQ...       11  \n",
       "1   https://open.spotify.com/track/0RmEn2jcbyrLV4e...       11  \n",
       "2   https://open.spotify.com/track/6ocOeSjnWPcSTaS...       11  \n",
       "3   https://open.spotify.com/track/3t7iwbVkBY3vT8z...       11  \n",
       "4   https://open.spotify.com/track/6X1MOfJSjBT54Vc...       11  \n",
       "5   https://open.spotify.com/track/6MBUUSIWCzaXW4q...       11  \n",
       "6   https://open.spotify.com/track/3PaSRhmdsbY3GTQ...       11  \n",
       "7   https://open.spotify.com/track/4HBeHxm71PBKrc6...       11  \n",
       "8   https://open.spotify.com/track/4f5hVnrSBAPuVfE...       11  \n",
       "9   https://open.spotify.com/track/4H3vuLX59XPqdtT...       11  \n",
       "10  https://open.spotify.com/track/3AVQq5hpwkuJxAz...       11  "
      ]
     },
     "execution_count": 389,
     "metadata": {},
     "output_type": "execute_result"
    }
   ],
   "source": [
    "# data to be shown\n",
    "final_feat = ['track', 'artist','art_genres','link','cluster']\n",
    "\n",
    "# Tuning by some other parameters and showing the final results\n",
    "recommendation = final_recomm.loc[list(ind[0]),:].sort_values(by=['liveness','popularity'], ascending=False)\n",
    "\n",
    "# showing final results\n",
    "recom = pd.concat([final_target[final_feat],recommendation[final_feat]]).reset_index(drop=True)\n",
    "recom"
   ]
  },
  {
   "cell_type": "markdown",
   "metadata": {},
   "source": [
    "# Classes & Functions"
   ]
  },
  {
   "cell_type": "markdown",
   "metadata": {},
   "source": [
    "## Pipeline"
   ]
  },
  {
   "cell_type": "code",
   "execution_count": 379,
   "metadata": {
    "ExecuteTime": {
     "end_time": "2020-05-26T03:42:15.281387Z",
     "start_time": "2020-05-26T03:42:15.274969Z"
    }
   },
   "outputs": [],
   "source": [
    "class AudioFeatures():\n",
    "    \n",
    "    def __init__(self):     \n",
    "        pass\n",
    "    \n",
    "    def fit(self, X, y=None):\n",
    "        '''\n",
    "        `.fit()` method needs to return the object itself\n",
    "        '''\n",
    "        return self\n",
    "    \n",
    "    def transform(self, X):\n",
    "        '''\n",
    "        `.transform()` method needs to return a transformed data like X\n",
    "        '''\n",
    "        # feat_selection = ['danceability','energy','key','loudness','mode','speechiness','acousticness',\n",
    "        #          'instrumentalness','liveness','valence','tempo','time_signature']\n",
    "        \n",
    "        # feat_selection = ['danceability','energy','loudness','speechiness','acousticness',\n",
    "        #          'instrumentalness','liveness','valence']\n",
    "        \n",
    "        feat_selection = ['danceability','energy','speechiness','acousticness',\n",
    "         'instrumentalness','valence']\n",
    "        \n",
    "        X = X[feat_selection ]\n",
    "        \n",
    "        return X\n",
    "        "
   ]
  },
  {
   "cell_type": "code",
   "execution_count": 363,
   "metadata": {
    "ExecuteTime": {
     "end_time": "2020-05-26T03:36:43.801290Z",
     "start_time": "2020-05-26T03:36:43.797345Z"
    }
   },
   "outputs": [
    {
     "data": {
      "text/plain": [
       "Index(['track', 'artist', 'tracks_uri', 'decade', 'billboard', 'art_genres',\n",
       "       'danceability', 'energy', 'key', 'loudness', 'mode', 'speechiness',\n",
       "       'acousticness', 'instrumentalness', 'liveness', 'valence', 'tempo',\n",
       "       'time_signature', 'cluster'],\n",
       "      dtype='object')"
      ]
     },
     "execution_count": 363,
     "metadata": {},
     "output_type": "execute_result"
    }
   ],
   "source": [
    "songs.columns"
   ]
  },
  {
   "cell_type": "markdown",
   "metadata": {},
   "source": [
    "## Clean Artist's names "
   ]
  },
  {
   "cell_type": "code",
   "execution_count": 71,
   "metadata": {
    "ExecuteTime": {
     "end_time": "2020-05-26T00:48:53.686245Z",
     "start_time": "2020-05-26T00:48:53.677162Z"
    }
   },
   "outputs": [],
   "source": [
    "def clean_name(df:pd.DataFrame, column_name:str)-> pd.DataFrame:\n",
    "    '''\n",
    "    This function cleans the artist's name column of a dataframe and \n",
    "    returns the df with the respective column containing only the main name\n",
    "    '''\n",
    "    \n",
    "    import re\n",
    "    \n",
    "    df = df.reset_index(drop=True)\n",
    "\n",
    "    for i in range(df.shape[0]):\n",
    "        string = df.loc[i,'artist']\n",
    "        pattern ='(?:Feat(?:\\. |uring )|, |\\/|\\+|&| [Xx] | \\(|\\)| [Ww]ith | And | y )'\n",
    "        artists = re.split(pattern, string)\n",
    "        df.loc[i, 'artist'] = artists[0]\n",
    "    return df"
   ]
  },
  {
   "cell_type": "markdown",
   "metadata": {},
   "source": [
    "## Spotify API functions"
   ]
  },
  {
   "cell_type": "code",
   "execution_count": 73,
   "metadata": {
    "ExecuteTime": {
     "end_time": "2020-05-26T00:48:54.151701Z",
     "start_time": "2020-05-26T00:48:54.144379Z"
    },
    "code_folding": [
     0
    ]
   },
   "outputs": [],
   "source": [
    "def access_spotify():\n",
    "    '''\n",
    "    this function initializes spotify access \n",
    "    '''\n",
    "    import spotipy\n",
    "    import spotipy.util as util\n",
    "    from spotipy.oauth2 import SpotifyClientCredentials\n",
    "    \n",
    "    # Credentials\n",
    "    client_id= '1337a27731b840f98acd0c79f0d011f3'\n",
    "    client_secret = '98f2df2fdde44f40ad768a8142b20074'\n",
    "    response_type = 'code'\n",
    "    redirect_uri = 'https://aceworld.com.br/'\n",
    "    state= 'https%3A%2F%2Faceworld.com.br%2F'\n",
    "    scope = 'playlist-read-private scope'\n",
    "    username = 'dnekdiptrsu4rr1heu145y07j'\n",
    "    playlist = 'spotify:playlist:2QDyvRV0Ct7bGg3AREkL6P'\n",
    "\n",
    "    #Accessing with token\n",
    "    scope = 'user-library-read playlist-read-private'\n",
    "    try:\n",
    "        token = util.prompt_for_user_token(username, scope,client_id=client_id, \n",
    "                                           client_secret=client_secret, \n",
    "                                           redirect_uri=redirect_uri)\n",
    "        sp=spotipy.Spotify(auth= token)\n",
    "    except:\n",
    "        print('Token is not accesible for ' + username)\n",
    "\n",
    "    return sp"
   ]
  },
  {
   "cell_type": "code",
   "execution_count": 181,
   "metadata": {
    "ExecuteTime": {
     "end_time": "2020-05-26T01:33:46.296364Z",
     "start_time": "2020-05-26T01:33:46.280583Z"
    },
    "code_folding": [
     0,
     13,
     15,
     49,
     53,
     57,
     61,
     71,
     73
    ]
   },
   "outputs": [],
   "source": [
    "def get_artist_stats(df=False, artist_name: str = 'None', billboard_col: bool = False)-> pd.DataFrame:\n",
    "    \n",
    "    '''\n",
    "    This function receives a dataframe containing a column with artists' names ('artist')\n",
    "    or a single artist name and the spotify authenticated access to make the requests, \n",
    "    and returns a new dataframe, containing the spotify attributes for that artist:\n",
    "        - artist spotify id (uri)\n",
    "        - number of followers\n",
    "        - genres\n",
    "        - popularity\n",
    "    \n",
    "    <parameters>\n",
    "    df: a DataFrame or 'False' if the request will be for a single artist\n",
    "    billboard_col: True if the input df already contains a target \n",
    "                    column named 'billboard'.\n",
    "    spotify_access: function that accesses spotify authorization token, \n",
    "                    by default: access_spotify()\n",
    "    '''\n",
    "    import time\n",
    "    \n",
    "    sp = access_spotify()\n",
    "    artists=[]\n",
    "    uris = []\n",
    "    followers = []\n",
    "    genres =[]\n",
    "    popularities = []\n",
    "    error_artists = []\n",
    "    billboard_targets = []\n",
    "    \n",
    "    if df == False and artist_name != 'None':\n",
    "        artist = artist_name\n",
    "        q = f'artist:{artist}'\n",
    "        try:\n",
    "            results = sp.search(q=q, limit=1, type='artist')['artists']['items'][0]\n",
    "        except:\n",
    "            try:\n",
    "                sp=access_spotify()\n",
    "                results = sp.search(q=q, limit=1, type='artist')['artists']['items'][0]\n",
    "            except:\n",
    "                pass\n",
    "            \n",
    "        df_final = pd.DataFrame({'artist': artist,\n",
    "                     'uri': results['uri'],\n",
    "                     'followers': results['followers']['total'],\n",
    "                     'genres': [results['genres']],\n",
    "                     'popularity': results['popularity'],\n",
    "                     'billboard': ''})\n",
    "        \n",
    "    else: \n",
    "        for i in range(df.index[0], df.shape[0]):\n",
    "            artist = df.loc[i, 'artist']\n",
    "            q = f'artist:{artist}'\n",
    "\n",
    "            try:\n",
    "                results = sp.search(q=q, limit=1, type='artist')['artists']['items'][0]\n",
    "                print (artist)\n",
    "            except:\n",
    "                try:\n",
    "                    print ('refreshing token')\n",
    "                    sp=access_spotify()\n",
    "                    results = sp.search(q=q, limit=1, type='artist')['artists']['items'][0]\n",
    "                except:\n",
    "                    print ('error:', artist)\n",
    "                    pass\n",
    "\n",
    "            artists.append(artist)\n",
    "            uris.append(results['uri'])\n",
    "            followers.append(results['followers']['total'])\n",
    "            genres.append(results['genres'])\n",
    "            popularities.append(results['popularity'])\n",
    "            # if input df contains 'billboard' column\n",
    "            if billboard_col == True:\n",
    "                billboard_targets.append(df.loc[i, 'billboard'])\n",
    "            else:\n",
    "                pass\n",
    "\n",
    "            df_2 = pd.DataFrame({'artist': artists,\n",
    "                                 'uri': uris,\n",
    "                                 'followers': followers,\n",
    "                                 'genres': genres,\n",
    "                                 'popularity': popularities,\n",
    "                                 'billboard': billboard_targets})\n",
    "            # saving a version to .csv\n",
    "            df_2.to_csv('data/processed/artists_stats_process.csv', index=False)\n",
    "\n",
    "    # saving final version to .csv    \n",
    "        df_final = df_2\n",
    "        df_final.to_csv('../data/processed/artists_stats_final.csv', index=False)\n",
    "\n",
    "    return df_final"
   ]
  },
  {
   "cell_type": "code",
   "execution_count": 201,
   "metadata": {
    "ExecuteTime": {
     "end_time": "2020-05-26T01:46:31.466312Z",
     "start_time": "2020-05-26T01:46:31.450455Z"
    },
    "code_folding": [
     0
    ]
   },
   "outputs": [],
   "source": [
    "def get_audio_features(df=False, track_title:str='None', artist_name:str='None')-> pd.DataFrame:\n",
    "    '''\n",
    "    This function receives a dataframe containing tracks' Spotify uris \n",
    "    or a single track title and\n",
    "    and returns a dataframe with the track's audio features.\n",
    "    \n",
    "    <parameters>\n",
    "    df: a DataFrame or 'False' if the request will be made for a single track\n",
    "    spotify_access: function that accesses spotify authorization token, \n",
    "                    by default: access_spotify()\n",
    "    '''\n",
    "\n",
    "    feat_df = pd.DataFrame()\n",
    "    pop=[]\n",
    "    art_genres=[]\n",
    "    cluster=[]\n",
    "    sp = access_spotify()\n",
    "    \n",
    "    if df == False :\n",
    "        q= f'track:{track_title} artist:{artist_name}'    \n",
    "        results = sp.search(q=q, limit=1, type='track')\n",
    "        \n",
    "        try:\n",
    "            track_title =results['tracks']['items'][0]['name']\n",
    "        except: \n",
    "            print('Couldn\\'t find this track in spotify. Did you type everything correctly?')\n",
    "        tracks_uri = results['tracks']['items'][0]['uri']\n",
    "        artist_name = results['tracks']['items'][0]['artists'][0]['name']\n",
    "        artist_uri = results['tracks']['items'][0]['artists'][0]['uri'] \n",
    "        \n",
    "        audio_feat = sp.audio_features(tracks_uri)\n",
    "        art_genres = sp.artist(artist_uri)['genres']\n",
    "        cluster= ''\n",
    "        \n",
    "        new_df = pd.concat([pd.DataFrame([[\n",
    "            track_title, artist_name,tracks_uri, artist_uri, art_genres,cluster]], \n",
    "            columns=['track','artist','tracks_uri','artist_uri','art_genres', 'cluster']), \n",
    "                            pd.DataFrame(audio_feat)], axis=1)\n",
    "    else:\n",
    "        saved_uris = list(df.tracks_uri)\n",
    "\n",
    "        for uri in saved_uris:\n",
    "            feat_df = feat_df.append(pd.DataFrame(sp.audio_features(uri)))\n",
    "            track_req=sp.track(uri)\n",
    "            pop.append(track_req['popularity'])\n",
    "            art_genres.append(sp.artist(track_req['artists'][0]['uri'])['genres'])\n",
    "            cluster.append('')\n",
    "\n",
    "        new_df = pd.concat([df, feat_df.reset_index(drop=True), \n",
    "                            pd.DataFrame(pop, columns=['popularity']),\n",
    "                            pd.DataFrame(art_genres, columns=['art_genres']),\n",
    "                            pd.DataFrame(cluster, columns=['cluster'])], axis=1)\n",
    "    \n",
    "    \n",
    "    new_df = new_df [['track', 'artist', 'tracks_uri', 'art_genres',\n",
    "       'danceability', 'energy', 'key', 'loudness', 'mode', 'speechiness',\n",
    "       'acousticness', 'instrumentalness', 'liveness', 'valence', 'tempo',\n",
    "       'time_signature', 'cluster']]\n",
    "    \n",
    "    return new_df"
   ]
  },
  {
   "cell_type": "code",
   "execution_count": 198,
   "metadata": {
    "ExecuteTime": {
     "end_time": "2020-05-26T01:42:16.141425Z",
     "start_time": "2020-05-26T01:42:16.132173Z"
    },
    "code_folding": []
   },
   "outputs": [],
   "source": [
    "def get_pop_link (df):\n",
    "    \n",
    "    sp = access_spotify()\n",
    "    index_list = list(df.index)\n",
    "    popularity = []\n",
    "    url =[]\n",
    "    \n",
    "    df = df.reset_index(drop=True)\n",
    "    for artist in df.artist:\n",
    "        try:\n",
    "            result= sp.search(q=f\"artist:{artist}\", limit=1, type='artist')\n",
    "            url.append(result['artists']['items'][0]['external_urls']['spotify'])\n",
    "            popularity.append(result['artists']['items'][0]['popularity'])\n",
    "        except: \n",
    "            url.append(\"\")\n",
    "            popularity.append(\"\")\n",
    "            \n",
    "    df_req = pd.DataFrame({'popularity': popularity,\n",
    "                           'link':url})\n",
    "\n",
    "    df_final = pd.concat([df, df_req], axis=1)\n",
    "    df_final.index=index_list\n",
    "    \n",
    "    return df_final"
   ]
  },
  {
   "cell_type": "code",
   "execution_count": 336,
   "metadata": {
    "ExecuteTime": {
     "end_time": "2020-05-26T02:59:54.823701Z",
     "start_time": "2020-05-26T02:59:54.814426Z"
    }
   },
   "outputs": [],
   "source": [
    "def get_pop_link (df):\n",
    "    \n",
    "    sp = access_spotify()\n",
    "    index_list = list(df.index)\n",
    "    popularity = []\n",
    "    url = 'https://open.spotify.com/'\n",
    "    \n",
    "    df = df.reset_index(drop=True)\n",
    "    for artist in df.artist:\n",
    "        try:\n",
    "            result= sp.search(q=f\"artist:{artist}\", limit=1, type='artist')\n",
    "            popularity.append(result['artists']['items'][0]['popularity'])\n",
    "        except: \n",
    "            popularity.append(\"\")\n",
    "            \n",
    "    df_req = pd.DataFrame({'popularity': popularity})\n",
    "    df_req['link'] = df.tracks_uri.apply(lambda x: 'track/'.join ([url, x.split(':')[-1]]))\n",
    "\n",
    "    df_final = pd.concat([df, df_req], axis=1)\n",
    "    df_final.index=index_list\n",
    "    \n",
    "    return df_final"
   ]
  },
  {
   "cell_type": "code",
   "execution_count": null,
   "metadata": {},
   "outputs": [],
   "source": [
    "def artist_popularity_link(df):\n",
    "    # Adding new target based on number of followers:\n",
    "    \n",
    "    artists=pd.read_csv('../data/final/artists.csv')\n",
    "    artist_popularities = []\n",
    "    url = 'https://open.spotify.com/'\n",
    "\n",
    "    for artist in list(df_temp.artist):\n",
    "        try:\n",
    "            art_index = artists.query(f'artist==\"{artist}\"').index[0]        \n",
    "            artist_popularities.append(artists.loc[art_index,'popularity'])\n",
    "        except:\n",
    "            artist_popularities.append(\"\")\n",
    "    df['popularity'] = artist_pop\n",
    "    df['link'] = df.tracks_uri.apply(lambda x: 'track/'.join ([url, x.split(':')[-1]]))\n",
    "    \n",
    "    return df"
   ]
  },
  {
   "cell_type": "markdown",
   "metadata": {
    "heading_collapsed": true
   },
   "source": [
    "## Billboard API functions"
   ]
  },
  {
   "cell_type": "code",
   "execution_count": 77,
   "metadata": {
    "ExecuteTime": {
     "end_time": "2020-05-26T00:48:54.891868Z",
     "start_time": "2020-05-26T00:48:54.883489Z"
    },
    "hidden": true
   },
   "outputs": [],
   "source": [
    "def get_billboard_charts_data(chart_types: list) -> pd.DataFrame:\n",
    "    '''\n",
    "    This function retrieves data from the given list of chart types:\n",
    "        - song title\n",
    "        - artist name\n",
    "        - chart name\n",
    "    > for more information about chart_types: access 'billboard.charts()'\n",
    "    '''\n",
    "    \n",
    "    df=pd.DataFrame()\n",
    "    title_list=[]\n",
    "    artist_list=[]\n",
    "    chart_name=[]\n",
    "\n",
    "    for chart_type in chart_types:\n",
    "        chart = billboard.ChartData(chart_type)\n",
    "        for song in chart:\n",
    "            title_list.append(song.title)\n",
    "            artist_list.append(song.artist)\n",
    "            chart_name.append(chart.name)\n",
    "\n",
    "        df = pd.DataFrame({'title':title_list, \n",
    "                       'artist':artist_list, \n",
    "                       'chart':chart_name})\n",
    "        df.to_csv('../data/raw/billboard_artists_process.csv', index=False)\n",
    "    \n",
    "    df=df.drop_duplicates()\n",
    "    df.to_csv('../data/raw/billboard_artists.csv', index=False)\n",
    "    \n",
    "    return df"
   ]
  },
  {
   "cell_type": "markdown",
   "metadata": {},
   "source": [
    "## Recommendation System Flow"
   ]
  },
  {
   "cell_type": "code",
   "execution_count": 78,
   "metadata": {
    "ExecuteTime": {
     "end_time": "2020-05-26T00:48:55.213913Z",
     "start_time": "2020-05-26T00:48:55.209605Z"
    },
    "code_folding": [
     0
    ]
   },
   "outputs": [],
   "source": [
    "def artist_recommended(df):\n",
    "    # Adding new target based on number of followers:\n",
    "    df['is_recommended'] = df.followers.apply(lambda x: 0 if x > 400000 else 1)\n",
    "    return df"
   ]
  },
  {
   "cell_type": "code",
   "execution_count": 79,
   "metadata": {
    "ExecuteTime": {
     "end_time": "2020-05-26T00:48:55.376113Z",
     "start_time": "2020-05-26T00:48:55.368183Z"
    },
    "code_folding": [
     0
    ]
   },
   "outputs": [],
   "source": [
    "def get_audio(audio_type:str)-> str:\n",
    "    '''\n",
    "    this function receives a speaked audio and transforms it into written text\n",
    "    you must specify the type between: 'artist' or 'title'\n",
    "    '''\n",
    "    import speech_recognition as sr\n",
    "    import time\n",
    "    \n",
    "    r = sr.Recognizer()\n",
    "    sec = 4\n",
    "    \n",
    "    if audio_type == 'title':\n",
    "        print(f'Tell us the title of a song you like :)')\n",
    "    elif audio_type == 'artist':\n",
    "        print(f'Tell us the artist who sings that song')\n",
    "    else:\n",
    "        raise ValueError ('audio_type must be \"artist\" or \"title\"')\n",
    "    \n",
    "    with sr.Microphone() as source:\n",
    "        # read the audio data from the default microphone\n",
    "        print(f\"Listening... (you've got {sec} seconds)\")\n",
    "        try:\n",
    "            audio_data = r.record(source, duration=sec)\n",
    "        except:\n",
    "            print(f\"I didn't hear you, would you repeat please?\")\n",
    "            print(f\"Listening... (you've got {sec} seconds)\")\n",
    "        # convert speech to text\n",
    "        print(\"Processing...\")\n",
    "        user_input = r.recognize_google(audio_data)\n",
    "        \n",
    "        return user_input"
   ]
  },
  {
   "cell_type": "code",
   "execution_count": 80,
   "metadata": {
    "ExecuteTime": {
     "end_time": "2020-05-26T00:48:55.544892Z",
     "start_time": "2020-05-26T00:48:55.539970Z"
    },
    "code_folding": [
     0
    ]
   },
   "outputs": [],
   "source": [
    "def get_text(text_type:str)-> str:\n",
    "    '''\n",
    "    this function receives a written text\n",
    "    you must specify the type between: 'artist' or 'title'\n",
    "    '''\n",
    "    if text_type == 'title':\n",
    "        user_input = str(input(f'Tell us the title of a song you like :)'))\n",
    "    elif text_type == 'artist':\n",
    "        user_input = str(input(f'Tell us the artist who sings that song'))\n",
    "    else:\n",
    "        raise ValueError ('audio_type must be \"artist\" or \"title\"')    \n",
    "\n",
    "    return user_input"
   ]
  },
  {
   "cell_type": "code",
   "execution_count": 81,
   "metadata": {
    "ExecuteTime": {
     "end_time": "2020-05-26T00:48:55.735674Z",
     "start_time": "2020-05-26T00:48:55.726747Z"
    },
    "code_folding": [
     0
    ]
   },
   "outputs": [],
   "source": [
    "def check_input(song_input: str, artist_input: str)-> list:\n",
    "    '''\n",
    "    this function receives an input and confirms if the title was well captured.\n",
    "    returns a list containing:\n",
    "        - in position [0]: string (the song title)\n",
    "        - in position [1]: string (the artist name)\n",
    "        - in position [2]: bool (0 if not found in database, 1 if found in database)\n",
    "    '''\n",
    "    import textdistance\n",
    "    import time\n",
    "    n=4\n",
    "\n",
    "    # assuring if it got the song correctly:     \n",
    "    try:\n",
    "        song_lev_dists = songs.track.apply(lambda x:textdistance.levenshtein.normalized_similarity(\n",
    "                           song_input, x)).sort_values(ascending=False).head(n)\n",
    "        song_recomm_index = list(song_lev_dists.index)\n",
    "        song_recomm = songs.loc[song_recomm_index,['track', 'artist']]\n",
    "        song_recomm['song_dist']=song_lev_dists\n",
    "        song_recomm['art_dist']= song_recomm.artist.apply(lambda x:textdistance.levenshtein.normalized_similarity(\n",
    "                           artist_input, x))\n",
    "        final_recomm = song_recomm.sort_values(by=['song_dist', 'art_dist'], ascending=False)\n",
    "        final_recomm = final_recomm.query('art_dist > 0.5 and song_dist > 0.5').head(1)\n",
    "        final_recomm_song = songs.loc[final_recomm.index[0],'track']\n",
    "        final_recomm_artist = songs.loc[final_recomm.index[0],'artist']    \n",
    "\n",
    "        # assuring the artist is the same\n",
    "        if song_lev_dists[final_recomm.index[0]] >= 0.6:\n",
    "            validate = str(input(f'You chose \"{final_recomm_song}\" by {final_recomm_artist}, right? (y/n)'))\n",
    "\n",
    "        elif song_lev_dists[final_recomm.index[0]] < 0.6 and song_lev_dists[final_recomm.index[0]] >= 0.4:\n",
    "            validate = str(input(f'Did you mean: \"{final_recomm_song}\" by {final_recomm_artist}? (y/n)'))\n",
    "\n",
    "        if validate in ['y', 'yes', 'Y', 'Yes', 'YES','sim','Sim','S', 's','SIM']:\n",
    "            return [final_recomm_song, final_recomm_artist, 1]\n",
    "        else:\n",
    "            ## Look for \n",
    "            return [song_input, artist_input, 0]\n",
    "    except:\n",
    "        validate = str(input(f'You chose \"{song_input}\" by {artist_input}, right? (y/n)'))\n",
    "        if validate in ['y', 'yes', 'Y', 'Yes', 'YES','sim','Sim','S', 's','SIM']:\n",
    "            return [song_input, artist_input, 0]\n",
    "        else:\n",
    "            print(\"We're sorry, we couldn't find this song :(\")"
   ]
  },
  {
   "cell_type": "code",
   "execution_count": 224,
   "metadata": {
    "ExecuteTime": {
     "end_time": "2020-05-26T01:56:19.770274Z",
     "start_time": "2020-05-26T01:56:19.759637Z"
    },
    "code_folding": [
     0
    ]
   },
   "outputs": [],
   "source": [
    "def target_process(user_input: list)-> list:\n",
    "    '''\n",
    "    This function processes the target song, and clusterizes it given its features\n",
    "    returns a list containing:\n",
    "        - target_song\n",
    "        - target_cluster\n",
    "    It also saves to the database new songs/artists.\n",
    "    '''\n",
    "    \n",
    "    songs = pd.read_csv('../data/final/songs.csv')\n",
    "    artists = pd.read_csv('../data/final/artists.csv')\n",
    "\n",
    "    # look for the song in the songs database\n",
    "    if user_input[2] == 1:\n",
    "        target_song = songs.query(f'track == \"{user_input[0]}\" & artist == \"{user_input[1]}\"')\n",
    "        target_index = target_song.index[0]\n",
    "        target_cluster =  songs.loc[target_index, 'cluster']\n",
    "        target_artist = songs.loc[target_index, 'artist']\n",
    "        print('found in the database')\n",
    "        \n",
    "    else:\n",
    "        print('not found in the database, retrieving infos from spotify')\n",
    "\n",
    "        # look for song in spotify\n",
    "        target_song = get_audio_features(track_title=user_input[0], artist_name=user_input[1])\n",
    "        target_index = target_song.index[0]\n",
    "        pipeline.transform(target_song)\n",
    "        target_song['cluster'] = pipeline.predict(target_song)\n",
    "        target_cluster =  target_song.loc[target_index, 'cluster']\n",
    "        \n",
    "        # adding new song to songs database\n",
    "        if target_song.track[0] not in list(songs.track):\n",
    "            songs = pd.concat([songs, target_song], axis=0).reset_index(drop=True)\n",
    "            songs.to_csv('../data/final/songs.csv', index=False)\n",
    "\n",
    "        #ADDING new artist to artist database_\n",
    "        target_artist = target_song.artist[0]\n",
    "        new_art = artist_recommended(get_artist_stats(artist_name=target_artist))\n",
    "        if new_art.artist[0] not in list(artists.artist):\n",
    "            artists = pd.concat([artists, new_art]).reset_index(drop=True)\n",
    "            artists.to_csv('../data/final/artists.csv', index=False)        \n",
    "        print(\"we're all set\")\n",
    "    \n",
    "    return [target_song, target_cluster]"
   ]
  },
  {
   "cell_type": "code",
   "execution_count": 116,
   "metadata": {
    "ExecuteTime": {
     "end_time": "2020-05-26T01:05:23.179925Z",
     "start_time": "2020-05-26T01:05:23.172698Z"
    },
    "code_folding": [
     0
    ]
   },
   "outputs": [],
   "source": [
    "def get_recomm_songs (target_cluster: int) -> pd.DataFrame:\n",
    "    '''\n",
    "    this function receives the target cluster label \n",
    "    and returns the songs dataframe filtered by:\n",
    "        - cluster \n",
    "        - target artists (non famous artists)\n",
    "    '''\n",
    "    artists = pd.read_csv('../data/final/artists.csv')\n",
    "    songs = pd.read_csv('../data/final/songs.csv')\n",
    "    \n",
    "    # filter song dataset by target artists\n",
    "    recomm_artists = artists.query('is_recommended == 1').loc[:,['artist', 'followers', 'popularity']]\n",
    "\n",
    "    # filter songs dataset by cluster\n",
    "    cluster_songs = songs.query(f'cluster == {target_cluster}')\n",
    "\n",
    "    # filter songs by artist (is_recommended or not)\n",
    "    cluster_songs['is_recommended'] = cluster_songs.artist.apply(lambda x: 1 if x in list(recomm_artists.artist) else 0)\n",
    "    cluster_songs = cluster_songs.query(\"is_recommended == 1 & decade >= 1980 & art_genres!='[]'\")\n",
    "    \n",
    "    return cluster_songs"
   ]
  },
  {
   "cell_type": "code",
   "execution_count": 313,
   "metadata": {
    "ExecuteTime": {
     "end_time": "2020-05-26T02:47:57.043102Z",
     "start_time": "2020-05-26T02:47:57.035385Z"
    }
   },
   "outputs": [],
   "source": [
    "def artist_popularity_link(df):\n",
    "    # Adding new target based on number of followers:\n",
    "    \n",
    "    artists=pd.read_csv('../data/final/artists.csv')\n",
    "    artist_popularities = []\n",
    "    url = 'https://open.spotify.com/'\n",
    "    \n",
    "    df_temp = df.copy()\n",
    "    df_temp['artist'] = df.artist.apply(lambda x: x.replace('\"',\"'\"))\n",
    "\n",
    "    for artist in list(df_temp.artist):\n",
    "        art_index = artists.query(f'artist==\"{artist}\"').index[0]\n",
    "        \n",
    "        artist_popularities.append(artists.loc[art_index,'popularity'])\n",
    "    df['popularity'] = artist_pop\n",
    "    df['link'] = df.tracks_uri.apply(lambda x: 'track/'.join ([url, x.split(':')[-1]]))\n",
    "    \n",
    "    return df"
   ]
  },
  {
   "cell_type": "code",
   "execution_count": null,
   "metadata": {},
   "outputs": [],
   "source": []
  },
  {
   "cell_type": "markdown",
   "metadata": {},
   "source": [
    "## Other"
   ]
  },
  {
   "cell_type": "code",
   "execution_count": 84,
   "metadata": {
    "ExecuteTime": {
     "end_time": "2020-05-26T00:48:56.398746Z",
     "start_time": "2020-05-26T00:48:56.393488Z"
    },
    "code_folding": [
     0
    ]
   },
   "outputs": [],
   "source": [
    "def remove_outlier(df_in:pd.DataFrame, col_name:str):\n",
    "    '''\n",
    "    this function accepts a dataframe, removes outliers, \n",
    "    returns a list, containing:\n",
    "        - [0] new dataframe filtering outliers\n",
    "        - [1] tuple, containing low, high fences of outliers\n",
    "    '''\n",
    "    q1 = df_in[col_name].quantile(0.25)\n",
    "    q3 = df_in[col_name].quantile(0.75)\n",
    "    iqr = q3-q1 #Interquartile range\n",
    "    fence_low  = q1-1.5*iqr\n",
    "    fence_high = q3+1.5*iqr\n",
    "    df_out = df_in.loc[(df_in[col_name] > fence_low) & (df_in[col_name] < fence_high)]\n",
    "    return [df_out, (fence_low, fence_high)]"
   ]
  }
 ],
 "metadata": {
  "kernelspec": {
   "display_name": "Python 3",
   "language": "python",
   "name": "python3"
  },
  "language_info": {
   "codemirror_mode": {
    "name": "ipython",
    "version": 3
   },
   "file_extension": ".py",
   "mimetype": "text/x-python",
   "name": "python",
   "nbconvert_exporter": "python",
   "pygments_lexer": "ipython3",
   "version": "3.8.2"
  },
  "toc": {
   "base_numbering": 1,
   "nav_menu": {},
   "number_sections": true,
   "sideBar": true,
   "skip_h1_title": false,
   "title_cell": "Table of Contents",
   "title_sidebar": "Contents",
   "toc_cell": false,
   "toc_position": {
    "height": "calc(100% - 180px)",
    "left": "10px",
    "top": "150px",
    "width": "202px"
   },
   "toc_section_display": true,
   "toc_window_display": true
  }
 },
 "nbformat": 4,
 "nbformat_minor": 4
}
