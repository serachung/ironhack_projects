{
 "cells": [
  {
   "cell_type": "markdown",
   "metadata": {},
   "source": [
    "# Game Challenge:\n",
    "\n",
    "Simple version:\n",
    "\n",
    "* While, for loops e condições (if)\n",
    "* As estruturas de dados que vimos: dicionários, listas, tuplas, strings, etc etc\n",
    "* Funções \n",
    "\n",
    "\n"
   ]
  },
  {
   "cell_type": "code",
   "execution_count": 178,
   "metadata": {},
   "outputs": [],
   "source": [
    "import pandas as pd\n",
    "import numpy as np\n",
    "import time"
   ]
  },
  {
   "cell_type": "markdown",
   "metadata": {},
   "source": [
    "# Defining: The animals and their food"
   ]
  },
  {
   "cell_type": "code",
   "execution_count": 5,
   "metadata": {
    "scrolled": true
   },
   "outputs": [
    {
     "data": {
      "text/plain": [
       "{'🐵': '🍌',\n",
       " '🐻': '🍯',\n",
       " '🐇': '🥕',\n",
       " '🦁': '🍖',\n",
       " '🐿': '🥜',\n",
       " '🐼': '🎍',\n",
       " '🐀': '🧀',\n",
       " '🐛': '🥬'}"
      ]
     },
     "execution_count": 5,
     "metadata": {},
     "output_type": "execute_result"
    }
   ],
   "source": [
    "# animals\n",
    "monkey = '🐵'\n",
    "bear = '🐻'\n",
    "rabbit = '🐇'\n",
    "lion = '🦁'\n",
    "squirrel = '🐿'\n",
    "panda = '🐼'\n",
    "mouse = '🐀'\n",
    "worm = '🐛'\n",
    "\n",
    "# food\n",
    "banana = '🍌'\n",
    "honey = '🍯'\n",
    "carrot = '🥕'\n",
    "meat = '🍖'\n",
    "nuts = '🥜'\n",
    "bamboo = '🎍'\n",
    "cheese = '🧀'\n",
    "leaf = '🥬'\n",
    "\n",
    "\n",
    "animals = [monkey, bear, rabbit, lion, squirrel, panda, mouse, worm]\n",
    "food = [banana, honey, carrot, meat, nuts, bamboo, cheese, leaf]\n",
    "pairs_list = [animals, food]\n",
    "pairs = dict(zip(animals, food))\n",
    "pairs"
   ]
  },
  {
   "cell_type": "code",
   "execution_count": 6,
   "metadata": {
    "scrolled": true
   },
   "outputs": [
    {
     "data": {
      "text/html": [
       "<div>\n",
       "<style scoped>\n",
       "    .dataframe tbody tr th:only-of-type {\n",
       "        vertical-align: middle;\n",
       "    }\n",
       "\n",
       "    .dataframe tbody tr th {\n",
       "        vertical-align: top;\n",
       "    }\n",
       "\n",
       "    .dataframe thead th {\n",
       "        text-align: right;\n",
       "    }\n",
       "</style>\n",
       "<table border=\"1\" class=\"dataframe\">\n",
       "  <thead>\n",
       "    <tr style=\"text-align: right;\">\n",
       "      <th></th>\n",
       "      <th>1</th>\n",
       "      <th>2</th>\n",
       "      <th>3</th>\n",
       "      <th>4</th>\n",
       "      <th>5</th>\n",
       "      <th>6</th>\n",
       "      <th>7</th>\n",
       "      <th>8</th>\n",
       "    </tr>\n",
       "  </thead>\n",
       "  <tbody>\n",
       "    <tr>\n",
       "      <th>animal</th>\n",
       "      <td>🐵</td>\n",
       "      <td>🐻</td>\n",
       "      <td>🐇</td>\n",
       "      <td>🦁</td>\n",
       "      <td>🐿</td>\n",
       "      <td>🐼</td>\n",
       "      <td>🐀</td>\n",
       "      <td>🐛</td>\n",
       "    </tr>\n",
       "    <tr>\n",
       "      <th>food</th>\n",
       "      <td>🍌</td>\n",
       "      <td>🍯</td>\n",
       "      <td>🥕</td>\n",
       "      <td>🍖</td>\n",
       "      <td>🥜</td>\n",
       "      <td>🎍</td>\n",
       "      <td>🧀</td>\n",
       "      <td>🥬</td>\n",
       "    </tr>\n",
       "  </tbody>\n",
       "</table>\n",
       "</div>"
      ],
      "text/plain": [
       "        1  2  3  4  5  6  7  8\n",
       "animal  🐵  🐻  🐇  🦁  🐿  🐼  🐀  🐛\n",
       "food    🍌  🍯  🥕  🍖  🥜  🎍  🧀  🥬"
      ]
     },
     "execution_count": 6,
     "metadata": {},
     "output_type": "execute_result"
    }
   ],
   "source": [
    "pairs_df = pd.DataFrame(pairs_list, index=['animal','food'], columns=list(range(1,9)))\n",
    "pairs_df "
   ]
  },
  {
   "cell_type": "markdown",
   "metadata": {},
   "source": [
    "# Defining the game's structures"
   ]
  },
  {
   "cell_type": "markdown",
   "metadata": {},
   "source": [
    "## Global variables"
   ]
  },
  {
   "cell_type": "code",
   "execution_count": 95,
   "metadata": {},
   "outputs": [
    {
     "data": {
      "text/plain": [
       "2"
      ]
     },
     "execution_count": 95,
     "metadata": {},
     "output_type": "execute_result"
    }
   ],
   "source": [
    "answer_grid.shape[0]"
   ]
  },
  {
   "cell_type": "code",
   "execution_count": 98,
   "metadata": {},
   "outputs": [],
   "source": [
    "x = \"🌳\"\n",
    "easy = 2\n",
    "interm = 3\n",
    "hard = 4\n",
    "rows = list(range(level))\n",
    "cols = ['A','B','C','D','E','F']\n",
    "chances = 15"
   ]
  },
  {
   "cell_type": "markdown",
   "metadata": {},
   "source": [
    "## The initial 'blank' grid"
   ]
  },
  {
   "cell_type": "code",
   "execution_count": 26,
   "metadata": {},
   "outputs": [],
   "source": [
    "# There will be 3 levels: each level determines the shape of the game's grid"
   ]
  },
  {
   "cell_type": "code",
   "execution_count": 180,
   "metadata": {},
   "outputs": [],
   "source": [
    "def grid_gen (grid_type:str, level:str)-> pd.DataFrame:\n",
    "    '''\n",
    "    Receives the type of grid and the level of the current game.\n",
    "    Returns: pd.Dataframe with the grid in the right format.\n",
    "    \n",
    "    grid_type: \n",
    "        - 'blank': game's initial grid (results folded)\n",
    "        - 'round': round's grid (right answers + other results folded)\n",
    "        - 'answer': answer's grid \n",
    "        \n",
    "    level: \n",
    "        - 'a-bit': 2x2 grid\n",
    "        - 'so-so': 3x3 grid\n",
    "        - 'a-lot': 4x4 grid\n",
    "    '''\n",
    "    \n",
    "    if level == 'a-bit' :\n",
    "        level = 2\n",
    "    elif level == 'so-so' :\n",
    "        level = 3\n",
    "    elif level == 'a-lot' :\n",
    "        level = 4\n",
    "    else:\n",
    "        print('the level must be one of the given options!')\n",
    "        \n",
    "    \n",
    "    grid_types = ['blank', 'round', 'answer']\n",
    "\n",
    "    if grid_type == grid_types[0] or grid_type == grid_types[1]:\n",
    "        grid = pd.DataFrame(np.array([x]*level*level).reshape(level,level),\n",
    "                            columns=[i for i in cols[:level]])\n",
    "\n",
    "    elif grid_type == grid_types[2]:\n",
    "        rand_grid = np.random.choice((choice + [pairs.get(i) for i in choice]), \n",
    "                                     level*level, replace=False).reshape(level,level)\n",
    "        grid = pd.DataFrame(rand_grid, columns=[i for i in cols[:level]])        \n",
    "\n",
    "    else:\n",
    "        print('Choose one of the grid types in docstring')\n",
    "\n",
    "    return grid"
   ]
  },
  {
   "cell_type": "markdown",
   "metadata": {},
   "source": [
    "# The main function to  Play Game"
   ]
  },
  {
   "cell_type": "code",
   "execution_count": 181,
   "metadata": {},
   "outputs": [],
   "source": [
    "def round_play(round_number: int, round_grid: pd.DataFrame)-> tuple:\n",
    "    '''\n",
    "    This function requests to the player his choices by receiving 2 arguments:\n",
    "        - The current round number (int)\n",
    "        - The current round grid (DataFrame)\n",
    "    And returning: \n",
    "        - Round grid (with the matched pairs when answer is correct)\n",
    "    '''\n",
    "    \n",
    "    print ('\\n', f'ROUND #{round_number}:','\\n', round_grid)\n",
    "    \n",
    "    temp_grid = round_grid.copy()\n",
    "    \n",
    "    # Choosing first tree:\n",
    "    \n",
    "    while True:\n",
    "        guess1 = str(input(\"FIRST PAIR: Which 🌳 do you choose? (column-row position)\")).split('-')\n",
    "        \n",
    "        try:\n",
    "            col1 = guess1[0].strip()   \n",
    "            row1 = int(guess1[1].strip())\n",
    "             \n",
    "            if len(guess1) == 2 and row1 in rows and col1 in cols:\n",
    "                print (f'You chose the 🌳 in position {guess1}.')\n",
    "                temp_grid.loc[row1, col1] = answer_grid.loc[row1,col1]\n",
    "                print(temp_grid)\n",
    "                break\n",
    "            else:\n",
    "                print(guess1)\n",
    "                print ('\\n', \"You must enter: 'column letter' + '-' + 'number of row' of the 🌳\")\n",
    "        except:\n",
    "            print ('\\n', \"You must enter: 'column letter' + '-' + 'number of row' of the 🌳\")\n",
    "            \n",
    "    # Choosing 2nd tree:\n",
    "    while True:        \n",
    "        guess2 = str(input(\"SECOND PAIR: Which 🌳 do you choose? (column-row position)\")).split('-')\n",
    "        \n",
    "        try:\n",
    "            col2 = guess2[0].strip()\n",
    "            row2 = int(guess2[1].strip())\n",
    "\n",
    "            if guess2 == guess1:\n",
    "                print (\"You must choose a different 🌳 \")\n",
    "\n",
    "            else:\n",
    "                if len(guess2) == 2 and row2 in rows and col2 in cols :\n",
    "                    print (f'You chose the 🌳 in position {guess2}.')\n",
    "                    temp_grid.loc[row2,col2] = answer_grid.loc[row2,col2]\n",
    "                    print(temp_grid)\n",
    "                    break\n",
    "                else:\n",
    "                    print ('\\n', \"You must enter: 'column letter' + '-' + 'number of row' of the 🌳\")\n",
    "\n",
    "        except:\n",
    "            print ('\\n', \"You must enter: 'column letter' + '-' + 'number of row' of the 🌳\")\n",
    "\n",
    "\n",
    "    # Verify compatibility :\n",
    "    ## verifying if first choice is an animal or food:\n",
    "    \n",
    "    \n",
    "\n",
    "    g1 = temp_grid.loc[row1, col1]\n",
    "    g2 = temp_grid.loc[row2,col2] \n",
    "\n",
    "    if g1 in animals:\n",
    "        g1_complement = pairs.get(g1)\n",
    "\n",
    "    else:\n",
    "        g1_complement = [animal for animal, food in pairs.items() if food == g1][0]\n",
    "\n",
    "    if g1_complement == g2:\n",
    "        print(\"It's a match! 🎊\")\n",
    "        round_grid = temp_grid \n",
    "        \n",
    "    else:\n",
    "        print(\"It's not a match😔, keep looking!💪🏼\")\n",
    "        round_grid = round_grid\n",
    "        \n",
    "    return round_grid"
   ]
  },
  {
   "cell_type": "markdown",
   "metadata": {},
   "source": [
    "# Now let's play! "
   ]
  },
  {
   "cell_type": "code",
   "execution_count": 182,
   "metadata": {
    "code_folding": [],
    "scrolled": false
   },
   "outputs": [
    {
     "name": "stdout",
     "output_type": "stream",
     "text": [
      "Welcome to the 🌳JUNGLE's survival memory game!\n",
      "\n",
      "Your mission is to feed all the animals of the jungle to save them.\n",
      "To do that, you have to find and match each animal behind the trees to its favourite meal.\n",
      "\n",
      "* How to play the game: \n",
      "At each round you will flip 2 trees and find the matching animal-food pair.\n",
      "To flip the tree, you need to enter the wanted index, by writing its column and row positions.\n",
      "The game will loop while you have chances left.\n",
      "\n",
      "** Example ** \n",
      "1st round: flip 2 trees by inputing the index: 'column-row' positions\n",
      "-> 'A-1'\n",
      "-> 'B-2'\n",
      "\n",
      "\n",
      "What's your name?s\n",
      "Hello s! Are you ready to play? (yes / no) y\n",
      "Welcome to the Jungle, s! \n",
      " How hard do you want to save the jungle? (a-bit | so-so | a-lot) s\n"
     ]
    },
    {
     "ename": "ValueError",
     "evalue": "the level must be one of the given options!",
     "output_type": "error",
     "traceback": [
      "\u001b[0;31m---------------------------------------------------------------------------\u001b[0m",
      "\u001b[0;31mValueError\u001b[0m                                Traceback (most recent call last)",
      "\u001b[0;32m<ipython-input-182-bc01ed0fb21a>\u001b[0m in \u001b[0;36m<module>\u001b[0;34m\u001b[0m\n\u001b[1;32m     29\u001b[0m             \u001b[0mlevel\u001b[0m \u001b[0;34m=\u001b[0m  \u001b[0mstr\u001b[0m\u001b[0;34m(\u001b[0m\u001b[0minput\u001b[0m\u001b[0;34m(\u001b[0m\u001b[0;34mf'Welcome to the Jungle, {name}! \\n How hard do you want to save the jungle? (a-bit | so-so | a-lot) '\u001b[0m\u001b[0;34m)\u001b[0m\u001b[0;34m)\u001b[0m\u001b[0;34m\u001b[0m\u001b[0;34m\u001b[0m\u001b[0m\n\u001b[1;32m     30\u001b[0m \u001b[0;34m\u001b[0m\u001b[0m\n\u001b[0;32m---> 31\u001b[0;31m             \u001b[0manswer_grid\u001b[0m \u001b[0;34m=\u001b[0m \u001b[0mgrid_gen\u001b[0m\u001b[0;34m(\u001b[0m\u001b[0;34m'answer'\u001b[0m\u001b[0;34m,\u001b[0m \u001b[0mlevel\u001b[0m\u001b[0;34m)\u001b[0m\u001b[0;34m\u001b[0m\u001b[0;34m\u001b[0m\u001b[0m\n\u001b[0m\u001b[1;32m     32\u001b[0m             \u001b[0mblank_grid\u001b[0m \u001b[0;34m=\u001b[0m  \u001b[0mgrid_gen\u001b[0m\u001b[0;34m(\u001b[0m\u001b[0;34m'blank'\u001b[0m\u001b[0;34m,\u001b[0m \u001b[0mlevel\u001b[0m\u001b[0;34m)\u001b[0m\u001b[0;34m\u001b[0m\u001b[0;34m\u001b[0m\u001b[0m\n\u001b[1;32m     33\u001b[0m             \u001b[0mround_grid\u001b[0m \u001b[0;34m=\u001b[0m \u001b[0mgrid_gen\u001b[0m\u001b[0;34m(\u001b[0m\u001b[0;34m'round'\u001b[0m\u001b[0;34m,\u001b[0m \u001b[0mlevel\u001b[0m\u001b[0;34m)\u001b[0m\u001b[0;34m\u001b[0m\u001b[0;34m\u001b[0m\u001b[0m\n",
      "\u001b[0;32m<ipython-input-180-e92c523c51cc>\u001b[0m in \u001b[0;36mgrid_gen\u001b[0;34m(grid_type, level)\u001b[0m\n\u001b[1;32m     22\u001b[0m         \u001b[0mlevel\u001b[0m \u001b[0;34m=\u001b[0m \u001b[0;36m4\u001b[0m\u001b[0;34m\u001b[0m\u001b[0;34m\u001b[0m\u001b[0m\n\u001b[1;32m     23\u001b[0m     \u001b[0;32melse\u001b[0m\u001b[0;34m:\u001b[0m\u001b[0;34m\u001b[0m\u001b[0;34m\u001b[0m\u001b[0m\n\u001b[0;32m---> 24\u001b[0;31m         \u001b[0;32mraise\u001b[0m \u001b[0mValueError\u001b[0m\u001b[0;34m(\u001b[0m\u001b[0;34m'the level must be one of the given options!'\u001b[0m\u001b[0;34m)\u001b[0m\u001b[0;34m\u001b[0m\u001b[0;34m\u001b[0m\u001b[0m\n\u001b[0m\u001b[1;32m     25\u001b[0m \u001b[0;34m\u001b[0m\u001b[0m\n\u001b[1;32m     26\u001b[0m     \u001b[0mgrid_types\u001b[0m \u001b[0;34m=\u001b[0m \u001b[0;34m[\u001b[0m\u001b[0;34m'blank'\u001b[0m\u001b[0;34m,\u001b[0m \u001b[0;34m'round'\u001b[0m\u001b[0;34m,\u001b[0m \u001b[0;34m'answer'\u001b[0m\u001b[0;34m]\u001b[0m\u001b[0;34m\u001b[0m\u001b[0;34m\u001b[0m\u001b[0m\n",
      "\u001b[0;31mValueError\u001b[0m: the level must be one of the given options!"
     ]
    }
   ],
   "source": [
    "# Game rules:\n",
    "\n",
    "print ('''Welcome to the 🌳JUNGLE's survival memory game!\n",
    "\n",
    "Your mission is to feed all the animals of the jungle to save them.\n",
    "To do that, you have to find and match each animal behind the trees to its favourite meal.\n",
    "\n",
    "* How to play the game: \n",
    "At each round you will flip 2 trees and find the matching animal-food pair.\n",
    "To flip the tree, you need to enter the wanted index, by writing its column and row positions.\n",
    "The game will loop while you have chances left.\n",
    "\n",
    "** Example ** \n",
    "1st round: flip 2 trees by inputing the index: 'column-row' positions\n",
    "-> 'A-1'\n",
    "-> 'B-2'\n",
    "\n",
    "''')\n",
    "\n",
    "# Playing game\n",
    "\n",
    "for rounds in range(chances):\n",
    "    \n",
    "    if rounds == 0:\n",
    "        name = str(input(\"What's your name?\"))\n",
    "        init_game = str(input(f'Hello {name}! Are you ready to play? (yes / no) '))\n",
    "\n",
    "        if init_game in [\"Yes\", \"yes\", 'Y', 'y']:\n",
    "            try:\n",
    "                level =  str(input(f'Welcome to the Jungle, {name}! \\n How hard do you want to save the jungle? (a-bit | so-so | a-lot) '))\n",
    "            except\n",
    "            answer_grid = grid_gen('answer', level)\n",
    "            blank_grid =  grid_gen('blank', level)\n",
    "            round_grid = grid_gen('round', level)\n",
    "            print('\\n', 'These are the animals and their favourite meal:','\\n')\n",
    "            print(pairs_df)\n",
    "        else:\n",
    "            print(f'Thank you {name}, see you next time! 🙃')\n",
    "\n",
    "        \n",
    "    elif rounds >= 1 and rounds < range(chances)[-1]:\n",
    "        if sum(sum(round_grid.values != answer_grid.values))!= 0:\n",
    "            round_grid\n",
    "            result = round_play(rounds, round_grid)\n",
    "            round_grid = result\n",
    "            time.sleep(2)\n",
    "\n",
    "        elif sum(sum(round_grid.values == answer_grid.values))== round_grid.shape[0]**2:\n",
    "            print(f'Congratulations! 🎉 You saved the Jungle🌳 in {rounds} rounds')\n",
    "            break            \n",
    "            \n",
    "    elif rounds == range(chances)[-1] and sum(sum(round_grid.values == answer_grid.values))!= round_grid.shape[0]**2:\n",
    "        print (\"Game Over! You ran out of chances! 😭 \")"
   ]
  },
  {
   "cell_type": "code",
   "execution_count": null,
   "metadata": {},
   "outputs": [],
   "source": []
  }
 ],
 "metadata": {
  "kernelspec": {
   "display_name": "Python 3",
   "language": "python",
   "name": "python3"
  },
  "language_info": {
   "codemirror_mode": {
    "name": "ipython",
    "version": 3
   },
   "file_extension": ".py",
   "mimetype": "text/x-python",
   "name": "python",
   "nbconvert_exporter": "python",
   "pygments_lexer": "ipython3",
   "version": "3.8.2"
  },
  "toc": {
   "base_numbering": 1,
   "nav_menu": {},
   "number_sections": true,
   "sideBar": true,
   "skip_h1_title": false,
   "title_cell": "Table of Contents",
   "title_sidebar": "Contents",
   "toc_cell": false,
   "toc_position": {
    "height": "calc(100% - 180px)",
    "left": "10px",
    "top": "150px",
    "width": "225.796875px"
   },
   "toc_section_display": true,
   "toc_window_display": true
  }
 },
 "nbformat": 4,
 "nbformat_minor": 4
}
