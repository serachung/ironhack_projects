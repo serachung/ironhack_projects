{
 "cells": [
  {
   "cell_type": "markdown",
   "metadata": {},
   "source": [
    "# Game Challenge:\n",
    "\n",
    "Simple version:\n",
    "\n",
    "* While, for loops e condições (if)\n",
    "* As estruturas de dados que vimos: dicionários, listas, tuplas, strings, etc etc\n",
    "* Funções \n",
    "\n",
    "\n"
   ]
  },
  {
   "cell_type": "code",
   "execution_count": 1,
   "metadata": {},
   "outputs": [],
   "source": [
    "import pandas as pd\n",
    "import numpy as np"
   ]
  },
  {
   "cell_type": "markdown",
   "metadata": {},
   "source": [
    "# Defining: The animals and their food"
   ]
  },
  {
   "cell_type": "code",
   "execution_count": 127,
   "metadata": {
    "scrolled": true
   },
   "outputs": [
    {
     "data": {
      "text/plain": [
       "{'🐵': '🍌',\n",
       " '🐻': '🍯',\n",
       " '🐇': '🥕',\n",
       " '🦁': '🍖',\n",
       " '🐿': '🥜',\n",
       " '🐼': '🎍',\n",
       " '🐀': '🧀',\n",
       " '🐛': '🥬'}"
      ]
     },
     "execution_count": 127,
     "metadata": {},
     "output_type": "execute_result"
    }
   ],
   "source": [
    "# animals\n",
    "monkey = '🐵'\n",
    "bear = '🐻'\n",
    "rabbit = '🐇'\n",
    "lion = '🦁'\n",
    "squirrel = '🐿'\n",
    "panda = '🐼'\n",
    "mouse = '🐀'\n",
    "worm = '🐛'\n",
    "\n",
    "# food\n",
    "banana = '🍌'\n",
    "honey = '🍯'\n",
    "carrot = '🥕'\n",
    "meat = '🍖'\n",
    "nuts = '🥜'\n",
    "bamboo = '🎍'\n",
    "cheese = '🧀'\n",
    "leaf = '🥬'\n",
    "\n",
    "\n",
    "animals = [monkey, bear, rabbit, lion, squirrel, panda, mouse, worm]\n",
    "food = [banana, honey, carrot, meat, nuts, bamboo, cheese, leaf]\n",
    "pairs_list = [animals, food]\n",
    "pairs = dict(zip(animals, food))\n",
    "pairs"
   ]
  },
  {
   "cell_type": "code",
   "execution_count": 128,
   "metadata": {},
   "outputs": [
    {
     "data": {
      "text/html": [
       "<div>\n",
       "<style scoped>\n",
       "    .dataframe tbody tr th:only-of-type {\n",
       "        vertical-align: middle;\n",
       "    }\n",
       "\n",
       "    .dataframe tbody tr th {\n",
       "        vertical-align: top;\n",
       "    }\n",
       "\n",
       "    .dataframe thead th {\n",
       "        text-align: right;\n",
       "    }\n",
       "</style>\n",
       "<table border=\"1\" class=\"dataframe\">\n",
       "  <thead>\n",
       "    <tr style=\"text-align: right;\">\n",
       "      <th></th>\n",
       "      <th>animal</th>\n",
       "      <th>food</th>\n",
       "    </tr>\n",
       "  </thead>\n",
       "  <tbody>\n",
       "    <tr>\n",
       "      <th>1</th>\n",
       "      <td>🐵</td>\n",
       "      <td>🍌</td>\n",
       "    </tr>\n",
       "    <tr>\n",
       "      <th>2</th>\n",
       "      <td>🐻</td>\n",
       "      <td>🍯</td>\n",
       "    </tr>\n",
       "    <tr>\n",
       "      <th>3</th>\n",
       "      <td>🐇</td>\n",
       "      <td>🥕</td>\n",
       "    </tr>\n",
       "    <tr>\n",
       "      <th>4</th>\n",
       "      <td>🦁</td>\n",
       "      <td>🍖</td>\n",
       "    </tr>\n",
       "    <tr>\n",
       "      <th>5</th>\n",
       "      <td>🐿</td>\n",
       "      <td>🥜</td>\n",
       "    </tr>\n",
       "    <tr>\n",
       "      <th>6</th>\n",
       "      <td>🐼</td>\n",
       "      <td>🎍</td>\n",
       "    </tr>\n",
       "    <tr>\n",
       "      <th>7</th>\n",
       "      <td>🐀</td>\n",
       "      <td>🧀</td>\n",
       "    </tr>\n",
       "    <tr>\n",
       "      <th>8</th>\n",
       "      <td>🐛</td>\n",
       "      <td>🥬</td>\n",
       "    </tr>\n",
       "  </tbody>\n",
       "</table>\n",
       "</div>"
      ],
      "text/plain": [
       "  animal food\n",
       "1      🐵    🍌\n",
       "2      🐻    🍯\n",
       "3      🐇    🥕\n",
       "4      🦁    🍖\n",
       "5      🐿    🥜\n",
       "6      🐼    🎍\n",
       "7      🐀    🧀\n",
       "8      🐛    🥬"
      ]
     },
     "execution_count": 128,
     "metadata": {},
     "output_type": "execute_result"
    }
   ],
   "source": [
    "pairs_df = pd.DataFrame(pairs_list, index=['animal','food'], columns=list(range(1,9))).T\n",
    "pairs_df "
   ]
  },
  {
   "cell_type": "markdown",
   "metadata": {},
   "source": [
    "# Defining the game's 4x4 grids"
   ]
  },
  {
   "cell_type": "markdown",
   "metadata": {},
   "source": [
    "## The initial 'blank' grid"
   ]
  },
  {
   "cell_type": "code",
   "execution_count": 129,
   "metadata": {
    "scrolled": true
   },
   "outputs": [
    {
     "data": {
      "text/html": [
       "<div>\n",
       "<style scoped>\n",
       "    .dataframe tbody tr th:only-of-type {\n",
       "        vertical-align: middle;\n",
       "    }\n",
       "\n",
       "    .dataframe tbody tr th {\n",
       "        vertical-align: top;\n",
       "    }\n",
       "\n",
       "    .dataframe thead th {\n",
       "        text-align: right;\n",
       "    }\n",
       "</style>\n",
       "<table border=\"1\" class=\"dataframe\">\n",
       "  <thead>\n",
       "    <tr style=\"text-align: right;\">\n",
       "      <th></th>\n",
       "      <th>A</th>\n",
       "      <th>B</th>\n",
       "      <th>C</th>\n",
       "      <th>D</th>\n",
       "    </tr>\n",
       "  </thead>\n",
       "  <tbody>\n",
       "    <tr>\n",
       "      <th>0</th>\n",
       "      <td>🌳</td>\n",
       "      <td>🌳</td>\n",
       "      <td>🌳</td>\n",
       "      <td>🌳</td>\n",
       "    </tr>\n",
       "    <tr>\n",
       "      <th>1</th>\n",
       "      <td>🌳</td>\n",
       "      <td>🌳</td>\n",
       "      <td>🌳</td>\n",
       "      <td>🌳</td>\n",
       "    </tr>\n",
       "    <tr>\n",
       "      <th>2</th>\n",
       "      <td>🌳</td>\n",
       "      <td>🌳</td>\n",
       "      <td>🌳</td>\n",
       "      <td>🌳</td>\n",
       "    </tr>\n",
       "    <tr>\n",
       "      <th>3</th>\n",
       "      <td>🌳</td>\n",
       "      <td>🌳</td>\n",
       "      <td>🌳</td>\n",
       "      <td>🌳</td>\n",
       "    </tr>\n",
       "  </tbody>\n",
       "</table>\n",
       "</div>"
      ],
      "text/plain": [
       "   A  B  C  D\n",
       "0  🌳  🌳  🌳  🌳\n",
       "1  🌳  🌳  🌳  🌳\n",
       "2  🌳  🌳  🌳  🌳\n",
       "3  🌳  🌳  🌳  🌳"
      ]
     },
     "execution_count": 129,
     "metadata": {},
     "output_type": "execute_result"
    }
   ],
   "source": [
    "x = \"🌳\"\n",
    "\n",
    "blank =  [[x,x,x,x],\n",
    "          [x,x,x,x],\n",
    "          [x,x,x,x],\n",
    "          [x,x,x,x]]\n",
    "blank_grid = pd.DataFrame(blank, columns=['A','B','C','D'])\n",
    "blank_grid "
   ]
  },
  {
   "cell_type": "markdown",
   "metadata": {},
   "source": [
    "## Temporary Grid (for each round)"
   ]
  },
  {
   "cell_type": "code",
   "execution_count": 130,
   "metadata": {},
   "outputs": [],
   "source": [
    "# Saves only right answers\n",
    "round_grid = blank_grid.copy()"
   ]
  },
  {
   "cell_type": "markdown",
   "metadata": {},
   "source": [
    "## The Answer Grid"
   ]
  },
  {
   "cell_type": "code",
   "execution_count": 131,
   "metadata": {},
   "outputs": [
    {
     "data": {
      "text/plain": [
       "array([['🐇', '🥜', '🐛', '🧀'],\n",
       "       ['🐵', '🦁', '🐿', '🐻'],\n",
       "       ['🍯', '🥕', '🎍', '🐀'],\n",
       "       ['🥬', '🍖', '🍌', '🐼']], dtype='<U1')"
      ]
     },
     "execution_count": 131,
     "metadata": {},
     "output_type": "execute_result"
    }
   ],
   "source": [
    "rand_grid = np.random.choice(animals+food, 16, replace=False).reshape(4,4)\n",
    "rand_grid"
   ]
  },
  {
   "cell_type": "code",
   "execution_count": 132,
   "metadata": {
    "scrolled": false
   },
   "outputs": [
    {
     "data": {
      "text/html": [
       "<div>\n",
       "<style scoped>\n",
       "    .dataframe tbody tr th:only-of-type {\n",
       "        vertical-align: middle;\n",
       "    }\n",
       "\n",
       "    .dataframe tbody tr th {\n",
       "        vertical-align: top;\n",
       "    }\n",
       "\n",
       "    .dataframe thead th {\n",
       "        text-align: right;\n",
       "    }\n",
       "</style>\n",
       "<table border=\"1\" class=\"dataframe\">\n",
       "  <thead>\n",
       "    <tr style=\"text-align: right;\">\n",
       "      <th></th>\n",
       "      <th>A</th>\n",
       "      <th>B</th>\n",
       "      <th>C</th>\n",
       "      <th>D</th>\n",
       "    </tr>\n",
       "  </thead>\n",
       "  <tbody>\n",
       "    <tr>\n",
       "      <th>0</th>\n",
       "      <td>🐇</td>\n",
       "      <td>🥜</td>\n",
       "      <td>🐛</td>\n",
       "      <td>🧀</td>\n",
       "    </tr>\n",
       "    <tr>\n",
       "      <th>1</th>\n",
       "      <td>🐵</td>\n",
       "      <td>🦁</td>\n",
       "      <td>🐿</td>\n",
       "      <td>🐻</td>\n",
       "    </tr>\n",
       "    <tr>\n",
       "      <th>2</th>\n",
       "      <td>🍯</td>\n",
       "      <td>🥕</td>\n",
       "      <td>🎍</td>\n",
       "      <td>🐀</td>\n",
       "    </tr>\n",
       "    <tr>\n",
       "      <th>3</th>\n",
       "      <td>🥬</td>\n",
       "      <td>🍖</td>\n",
       "      <td>🍌</td>\n",
       "      <td>🐼</td>\n",
       "    </tr>\n",
       "  </tbody>\n",
       "</table>\n",
       "</div>"
      ],
      "text/plain": [
       "   A  B  C  D\n",
       "0  🐇  🥜  🐛  🧀\n",
       "1  🐵  🦁  🐿  🐻\n",
       "2  🍯  🥕  🎍  🐀\n",
       "3  🥬  🍖  🍌  🐼"
      ]
     },
     "execution_count": 132,
     "metadata": {},
     "output_type": "execute_result"
    }
   ],
   "source": [
    "answer_grid = pd.DataFrame(rand_grid, columns=['A','B','C','D'])\n",
    "answer_grid "
   ]
  },
  {
   "cell_type": "markdown",
   "metadata": {},
   "source": [
    "# Define variables"
   ]
  },
  {
   "cell_type": "code",
   "execution_count": 133,
   "metadata": {
    "scrolled": true
   },
   "outputs": [
    {
     "data": {
      "text/plain": [
       "[0, 1, 2, 3]"
      ]
     },
     "execution_count": 133,
     "metadata": {},
     "output_type": "execute_result"
    }
   ],
   "source": [
    "rows = list(range(answer_grid.shape[0]))\n",
    "rows"
   ]
  },
  {
   "cell_type": "code",
   "execution_count": 134,
   "metadata": {},
   "outputs": [
    {
     "data": {
      "text/plain": [
       "['A', 'B', 'C', 'D', 'a', 'b', 'c', 'd']"
      ]
     },
     "execution_count": 134,
     "metadata": {},
     "output_type": "execute_result"
    }
   ],
   "source": [
    "cols = list(answer_grid.columns) + [col.lower() for col in list(answer_grid.columns)]\n",
    "cols"
   ]
  },
  {
   "cell_type": "code",
   "execution_count": 135,
   "metadata": {},
   "outputs": [],
   "source": [
    "chances = 50\n",
    "rounds = 0"
   ]
  },
  {
   "cell_type": "markdown",
   "metadata": {},
   "source": [
    "# The main function to  Play Game"
   ]
  },
  {
   "cell_type": "code",
   "execution_count": 136,
   "metadata": {},
   "outputs": [],
   "source": [
    "def round_play(round_number: int, round_grid: pd.DataFrame)-> tuple:\n",
    "    '''\n",
    "    This function requests to the player his choices by receiving 2 arguments:\n",
    "        - The current round number (int)\n",
    "        - The current round grid (DataFrame)\n",
    "    And returning: \n",
    "        - Round grid (with the matched pairs when answer is correct)\n",
    "    '''\n",
    "    \n",
    "    import time\n",
    "    print ('\\n', f'ROUND #{round_number}:','\\n', round_grid)\n",
    "\n",
    "    time.sleep(2)\n",
    "    \n",
    "    temp_grid = round_grid.copy()\n",
    "    \n",
    "    # Choosing first tree:\n",
    "    \n",
    "    while True:\n",
    "        guess1 = str(input(\"FIRST PAIR: Which 🌳 do you choose? (column-row position)\")).split('-')\n",
    "        \n",
    "        try:\n",
    "            col1 = guess1[0].strip()   \n",
    "            row1 = int(guess1[1].strip())\n",
    "             \n",
    "            if len(guess1) == 2 and row1 in rows and col1 in cols:\n",
    "                print (f'You chose the 🌳 in position {guess1}.')\n",
    "                temp_grid.loc[row1, col1] = answer_grid.loc[row1,col1]\n",
    "                print(temp_grid)\n",
    "                break\n",
    "            else:\n",
    "                print(guess1)\n",
    "                print ('\\n', \"You must enter: 'column letter' + '-' + 'number of row' of the 🌳\")\n",
    "        except:\n",
    "            print ('\\n', \"You must enter: 'column letter' + '-' + 'number of row' of the 🌳\")\n",
    "            \n",
    "    # Choosing 2nd tree:\n",
    "    while True:        \n",
    "        guess2 = str(input(\"SECOND PAIR: Which 🌳 do you choose? (column-row position)\")).split('-')\n",
    "        \n",
    "        try:\n",
    "            col2 = guess2[0].strip()\n",
    "            row2 = int(guess2[1].strip())\n",
    "\n",
    "            if guess2 == guess1:\n",
    "                print (\"You must choose a different 🌳 \")\n",
    "\n",
    "            else:\n",
    "                if len(guess2) == 2 and row2 in rows and col2 in cols :\n",
    "                    print (f'You chose the 🌳 in position {guess2}.')\n",
    "                    temp_grid.loc[row2,col2] = answer_grid.loc[row2,col2]\n",
    "                    print(temp_grid)\n",
    "                    break\n",
    "                else:\n",
    "                    print ('\\n', \"You must enter: 'column letter' + '-' + 'number of row' of the 🌳\")\n",
    "\n",
    "        except:\n",
    "            print ('\\n', \"You must enter: 'column letter' + '-' + 'number of row' of the 🌳\")\n",
    "\n",
    "\n",
    "    # Verify compatibility :\n",
    "    ## verifying if first choice is an animal or food:\n",
    "    \n",
    "    \n",
    "\n",
    "    g1 = temp_grid.loc[row1, col1]\n",
    "    g2 = temp_grid.loc[row2,col2] \n",
    "\n",
    "    if g1 in animals:\n",
    "        g1_complement = pairs.get(g1)\n",
    "\n",
    "    else:\n",
    "        g1_complement = [animal for animal, food in pairs.items() if food == g1][0]\n",
    "\n",
    "    if g1_complement == g2:\n",
    "        print(\"It's match! 🎊\")\n",
    "        round_grid = temp_grid \n",
    "        \n",
    "    else:\n",
    "        print(\"It's not a match😔, keep looking!💪🏼\")\n",
    "        round_grid = round_grid\n",
    "        \n",
    "    return round_grid"
   ]
  },
  {
   "cell_type": "markdown",
   "metadata": {},
   "source": [
    "# Now let's play! "
   ]
  },
  {
   "cell_type": "code",
   "execution_count": 140,
   "metadata": {
    "code_folding": [],
    "scrolled": true
   },
   "outputs": [
    {
     "name": "stdout",
     "output_type": "stream",
     "text": [
      "Welcome to the 🌳JUNGLE's survival memory game!\n",
      "\n",
      "Your mission is to feed all the animals of the jungle to save them.\n",
      "To do that, you have to find and match each animal behind the trees to its favourite meal.\n",
      "\n",
      "* How to play the game: \n",
      "At each round you will flip 2 trees and find the matching animal-food pair.\n",
      "To flip the tree, you need to enter the wanted index, by writing its column and row positions.\n",
      "The game will loop while you have chances left.\n",
      "\n",
      "** Example ** \n",
      "1st round: flip 2 trees by inputing the index: 'column-row' positions\n",
      "-> 'A-1'\n",
      "-> 'B-2'\n",
      "\n",
      "\n"
     ]
    },
    {
     "ename": "KeyboardInterrupt",
     "evalue": "Interrupted by user",
     "output_type": "error",
     "traceback": [
      "\u001b[0;31m---------------------------------------------------------------------------\u001b[0m",
      "\u001b[0;31mKeyboardInterrupt\u001b[0m                         Traceback (most recent call last)",
      "\u001b[0;32m<ipython-input-140-70c3eaa5ed8a>\u001b[0m in \u001b[0;36m<module>\u001b[0;34m\u001b[0m\n\u001b[1;32m     25\u001b[0m \u001b[0;34m\u001b[0m\u001b[0m\n\u001b[1;32m     26\u001b[0m     \u001b[0;32mif\u001b[0m \u001b[0mrounds\u001b[0m \u001b[0;34m==\u001b[0m \u001b[0;36m0\u001b[0m\u001b[0;34m:\u001b[0m\u001b[0;34m\u001b[0m\u001b[0;34m\u001b[0m\u001b[0m\n\u001b[0;32m---> 27\u001b[0;31m         \u001b[0minit_game\u001b[0m \u001b[0;34m=\u001b[0m \u001b[0mstr\u001b[0m\u001b[0;34m(\u001b[0m\u001b[0minput\u001b[0m\u001b[0;34m(\u001b[0m\u001b[0;34m'Are you ready to play? (yes / no) '\u001b[0m\u001b[0;34m)\u001b[0m\u001b[0;34m)\u001b[0m\u001b[0;34m\u001b[0m\u001b[0;34m\u001b[0m\u001b[0m\n\u001b[0m\u001b[1;32m     28\u001b[0m         \u001b[0;32mif\u001b[0m \u001b[0minit_game\u001b[0m \u001b[0;32min\u001b[0m \u001b[0;34m[\u001b[0m\u001b[0;34m\"Yes\"\u001b[0m\u001b[0;34m,\u001b[0m \u001b[0;34m\"yes\"\u001b[0m\u001b[0;34m,\u001b[0m \u001b[0;34m'Y'\u001b[0m\u001b[0;34m,\u001b[0m \u001b[0;34m'y'\u001b[0m\u001b[0;34m]\u001b[0m\u001b[0;34m:\u001b[0m\u001b[0;34m\u001b[0m\u001b[0;34m\u001b[0m\u001b[0m\n\u001b[1;32m     29\u001b[0m             \u001b[0mblank_grid\u001b[0m\u001b[0;34m\u001b[0m\u001b[0;34m\u001b[0m\u001b[0m\n",
      "\u001b[0;32m/Library/Frameworks/Python.framework/Versions/3.8/lib/python3.8/site-packages/ipykernel/kernelbase.py\u001b[0m in \u001b[0;36mraw_input\u001b[0;34m(self, prompt)\u001b[0m\n\u001b[1;32m    858\u001b[0m                 \u001b[0;34m\"raw_input was called, but this frontend does not support input requests.\"\u001b[0m\u001b[0;34m\u001b[0m\u001b[0;34m\u001b[0m\u001b[0m\n\u001b[1;32m    859\u001b[0m             )\n\u001b[0;32m--> 860\u001b[0;31m         return self._input_request(str(prompt),\n\u001b[0m\u001b[1;32m    861\u001b[0m             \u001b[0mself\u001b[0m\u001b[0;34m.\u001b[0m\u001b[0m_parent_ident\u001b[0m\u001b[0;34m,\u001b[0m\u001b[0;34m\u001b[0m\u001b[0;34m\u001b[0m\u001b[0m\n\u001b[1;32m    862\u001b[0m             \u001b[0mself\u001b[0m\u001b[0;34m.\u001b[0m\u001b[0m_parent_header\u001b[0m\u001b[0;34m,\u001b[0m\u001b[0;34m\u001b[0m\u001b[0;34m\u001b[0m\u001b[0m\n",
      "\u001b[0;32m/Library/Frameworks/Python.framework/Versions/3.8/lib/python3.8/site-packages/ipykernel/kernelbase.py\u001b[0m in \u001b[0;36m_input_request\u001b[0;34m(self, prompt, ident, parent, password)\u001b[0m\n\u001b[1;32m    891\u001b[0m             \u001b[0;32mexcept\u001b[0m \u001b[0mKeyboardInterrupt\u001b[0m\u001b[0;34m:\u001b[0m\u001b[0;34m\u001b[0m\u001b[0;34m\u001b[0m\u001b[0m\n\u001b[1;32m    892\u001b[0m                 \u001b[0;31m# re-raise KeyboardInterrupt, to truncate traceback\u001b[0m\u001b[0;34m\u001b[0m\u001b[0;34m\u001b[0m\u001b[0;34m\u001b[0m\u001b[0m\n\u001b[0;32m--> 893\u001b[0;31m                 \u001b[0;32mraise\u001b[0m \u001b[0mKeyboardInterrupt\u001b[0m\u001b[0;34m(\u001b[0m\u001b[0;34m\"Interrupted by user\"\u001b[0m\u001b[0;34m)\u001b[0m \u001b[0;32mfrom\u001b[0m \u001b[0;32mNone\u001b[0m\u001b[0;34m\u001b[0m\u001b[0;34m\u001b[0m\u001b[0m\n\u001b[0m\u001b[1;32m    894\u001b[0m             \u001b[0;32melse\u001b[0m\u001b[0;34m:\u001b[0m\u001b[0;34m\u001b[0m\u001b[0;34m\u001b[0m\u001b[0m\n\u001b[1;32m    895\u001b[0m                 \u001b[0;32mbreak\u001b[0m\u001b[0;34m\u001b[0m\u001b[0;34m\u001b[0m\u001b[0m\n",
      "\u001b[0;31mKeyboardInterrupt\u001b[0m: Interrupted by user"
     ]
    }
   ],
   "source": [
    "# Game rules:\n",
    "\n",
    "print ('''Welcome to the 🌳JUNGLE's survival memory game!\n",
    "\n",
    "Your mission is to feed all the animals of the jungle to save them.\n",
    "To do that, you have to find and match each animal behind the trees to its favourite meal.\n",
    "\n",
    "* How to play the game: \n",
    "At each round you will flip 2 trees and find the matching animal-food pair.\n",
    "To flip the tree, you need to enter the wanted index, by writing its column and row positions.\n",
    "The game will loop while you have chances left.\n",
    "\n",
    "** Example ** \n",
    "1st round: flip 2 trees by inputing the index: 'column-row' positions\n",
    "-> 'A-1'\n",
    "-> 'B-2'\n",
    "\n",
    "''')\n",
    "\n",
    "# Playing game\n",
    "rand_grid = np.random.choice(animals+food, 16, replace=False).reshape(4,4)\n",
    "answer_grid = pd.DataFrame(rand_grid, columns=['A','B','C','D'])\n",
    "\n",
    "for rounds in range(chances):\n",
    "    \n",
    "    if rounds == 0:\n",
    "        init_game = str(input('Are you ready to play? (yes / no) '))\n",
    "        if init_game in [\"Yes\", \"yes\", 'Y', 'y']:\n",
    "            blank_grid\n",
    "            print('\\n', 'These are the animals and their favourite meal:','\\n')\n",
    "            print(pairs_df)\n",
    "        else:\n",
    "            print('Thank you and see you next time!')\n",
    "        \n",
    "    elif rounds >= 1 and rounds < range(chances)[-1]:\n",
    "        if sum(sum(round_grid.values != answer_grid.values))!= 0:\n",
    "            round_grid\n",
    "            result = round_play(rounds, round_grid)\n",
    "            round_grid = result\n",
    "\n",
    "        elif sum(sum(round_grid.values == answer_grid.values))== 16:\n",
    "            print(f'Congratulations! 🎉 You saved the Jungle🌳 in {rounds} rounds')\n",
    "            \n",
    "    elif rounds == range(chances)[-1]:\n",
    "        print (\"Game Over! You ran out of chances! 😭 \")"
   ]
  },
  {
   "cell_type": "code",
   "execution_count": null,
   "metadata": {},
   "outputs": [],
   "source": []
  }
 ],
 "metadata": {
  "kernelspec": {
   "display_name": "Python 3",
   "language": "python",
   "name": "python3"
  },
  "language_info": {
   "codemirror_mode": {
    "name": "ipython",
    "version": 3
   },
   "file_extension": ".py",
   "mimetype": "text/x-python",
   "name": "python",
   "nbconvert_exporter": "python",
   "pygments_lexer": "ipython3",
   "version": "3.8.2"
  },
  "toc": {
   "base_numbering": 1,
   "nav_menu": {},
   "number_sections": true,
   "sideBar": true,
   "skip_h1_title": false,
   "title_cell": "Table of Contents",
   "title_sidebar": "Contents",
   "toc_cell": false,
   "toc_position": {
    "height": "calc(100% - 180px)",
    "left": "10px",
    "top": "150px",
    "width": "254.796875px"
   },
   "toc_section_display": true,
   "toc_window_display": true
  }
 },
 "nbformat": 4,
 "nbformat_minor": 4
}
