{
 "cells": [
  {
   "cell_type": "code",
   "execution_count": 1,
   "metadata": {},
   "outputs": [],
   "source": [
    "import pandas as pd"
   ]
  },
  {
   "cell_type": "code",
   "execution_count": 2,
   "metadata": {},
   "outputs": [],
   "source": [
    "# !pip3 install billboard.py\n",
    "import billboard"
   ]
  },
  {
   "cell_type": "markdown",
   "metadata": {},
   "source": [
    "# Database"
   ]
  },
  {
   "cell_type": "markdown",
   "metadata": {},
   "source": [
    "This is the first step to get the database. Through the Billboard API all top artists and songs of all genres will be retrieved, in order to create a initial database and define the parameters and features to classify an artist into famous or not."
   ]
  },
  {
   "cell_type": "markdown",
   "metadata": {},
   "source": [
    "# Functions"
   ]
  },
  {
   "cell_type": "markdown",
   "metadata": {},
   "source": [
    "### Clean Artist's names "
   ]
  },
  {
   "cell_type": "code",
   "execution_count": 309,
   "metadata": {},
   "outputs": [],
   "source": [
    "def clean_artist_name(df:pd.DataFrame, chart_col:str, track_col:str='None')-> pd.DataFrame:\n",
    "    '''\n",
    "    This function cleans the artist's name column of a dataframe and \n",
    "    returns a new dataframe containing all the other (featuring / collaboration) artists' names. \n",
    "    It also drops duplicated aritsts' names.\n",
    "    \n",
    "    it needs the input dataframe chart's and track's column names.\n",
    "\n",
    "    example:\n",
    "    - chart_col = 'chart'\n",
    "    - track_col = 'track'\n",
    "    '''\n",
    "    \n",
    "    import re\n",
    "    \n",
    "    other_artists = []\n",
    "    charts = []\n",
    "    tracks = []\n",
    "    \n",
    "    df = df.reset_index(drop=True)\n",
    "\n",
    "    for i in range(df.shape[0]):\n",
    "        string = df.loc[i,'artist']\n",
    "        pattern ='(?:Feat(?:\\. |uring )|, |\\/|\\+|&| [Xx] | \\(|\\)| [Ww]ith | And | y )'\n",
    "        artists = re.split(pattern, string)\n",
    "        df.loc[i, 'artist'] = artists[0]\n",
    "        \n",
    "        for j in range(1, len(artists)):\n",
    "            if artists[j] != '':\n",
    "                \n",
    "                if track_col == 'None':\n",
    "                    other_artists.append(artists[j])\n",
    "                    charts.append(df.loc[i, chart_col])\n",
    "                else:\n",
    "                    other_artists.append(artists[j])\n",
    "                    tracks.append(df.loc[i, track_col])\n",
    "                    charts.append(df.loc[i, chart_col])\n",
    "            else:\n",
    "                pass\n",
    " \n",
    "    if track_col == 'None':\n",
    "        other_artists_df = pd.DataFrame({'artist': other_artists,\n",
    "                                         'chart': charts})\n",
    "        final_df = pd.concat([df, other_artists_df], axis=0).drop_duplicates(subset='artist').reset_index(drop=True)\n",
    "    else: \n",
    "        other_artists_df = pd.DataFrame({'track': tracks,\n",
    "                                         'artist': other_artists,\n",
    "                                         'chart': charts})\n",
    "        final_df = pd.concat([df, other_artists_df], axis=0).drop_duplicates(subset='track').reset_index(drop=True)    \n",
    "\n",
    "\n",
    "    return final_df"
   ]
  },
  {
   "cell_type": "markdown",
   "metadata": {},
   "source": [
    "# Billboard API"
   ]
  },
  {
   "cell_type": "markdown",
   "metadata": {},
   "source": [
    "The first step is to create a database containing the top ranked billboard artists and songs, in order to find features for each one of them (through the Spotify API)."
   ]
  },
  {
   "cell_type": "markdown",
   "metadata": {},
   "source": [
    "## Data Gathering"
   ]
  },
  {
   "cell_type": "markdown",
   "metadata": {},
   "source": [
    "A chart entry (typically a single track) is of type ChartEntry. Each of these track instances have the following attributes:\n",
    "\n",
    "- `title` – The title of the track.\n",
    "- `artist` – The name of the artist, as formatted on Billboard.com.\n",
    "- `image` – The URL of the image for the track.\n",
    "- `peakPos` – The track's peak position on the chart as of the chart date, as an int (or None if the chart does not include this information).\n",
    "- `lastPos` – The track's position on the previous week's chart, as an int (or None if the chart does not include this information). This value is 0 if the track was not on the previous week's chart.\n",
    "- `weeks` – The number of weeks the track has been or was on the chart, including future dates (up until the present time).\n",
    "- `rank` – The track's current position on the chart.\n",
    "- `isNew` – Whether the track is new to the chart.\n",
    "\n",
    "**For this dataset only 4 of them will be used:** \n",
    "*'title', 'artist', 'image', 'weeks'*"
   ]
  },
  {
   "cell_type": "code",
   "execution_count": 3,
   "metadata": {
    "scrolled": true
   },
   "outputs": [
    {
     "data": {
      "text/plain": [
       "['hot-100',\n",
       " 'billboard-200',\n",
       " 'artist-100',\n",
       " 'social-50',\n",
       " 'streaming-songs',\n",
       " 'radio-songs',\n",
       " 'digital-song-sales',\n",
       " 'on-demand-songs',\n",
       " 'top-album-sales',\n",
       " 'current-albums',\n",
       " 'catalog-albums',\n",
       " 'independent-albums',\n",
       " 'soundtracks',\n",
       " 'vinyl-albums',\n",
       " 'greatest-billboard-200-albums',\n",
       " 'greatest-billboard-200-artists',\n",
       " 'greatest-hot-100-singles',\n",
       " 'greatest-hot-100-artists',\n",
       " 'greatest-hot-100-songs-by-women',\n",
       " 'greatest-hot-100-women-artists',\n",
       " 'greatest-billboard-200-albums-by-women',\n",
       " 'greatest-billboard-200-women-artists',\n",
       " 'greatest-billboards-top-songs-80s',\n",
       " 'greatest-billboards-top-songs-90s',\n",
       " 'greatest-of-all-time-pop-songs',\n",
       " 'greatest-of-all-time-pop-songs-artists',\n",
       " 'greatest-adult-pop-songs',\n",
       " 'greatest-adult-pop-artists',\n",
       " 'greatest-country-songs',\n",
       " 'greatest-country-albums',\n",
       " 'greatest-country-artists',\n",
       " 'greatest-hot-latin-songs',\n",
       " 'greatest-hot-latin-songs-artists',\n",
       " 'greatest-top-dance-club-artists',\n",
       " 'greatest-r-b-hip-hop-songs',\n",
       " 'greatest-r-b-hip-hop-albums',\n",
       " 'greatest-r-b-hip-hop-artists',\n",
       " 'greatest-alternative-songs',\n",
       " 'greatest-alternative-artists',\n",
       " 'pop-songs',\n",
       " 'adult-contemporary',\n",
       " 'adult-pop-songs',\n",
       " 'country-songs',\n",
       " 'country-albums',\n",
       " 'country-streaming-songs',\n",
       " 'country-airplay',\n",
       " 'country-digital-song-sales',\n",
       " 'bluegrass-albums',\n",
       " 'americana-folk-albums',\n",
       " 'rock-songs',\n",
       " 'rock-albums',\n",
       " 'rock-streaming-songs',\n",
       " 'rock-airplay',\n",
       " 'rock-digital-song-sales',\n",
       " 'alternative-songs',\n",
       " 'alternative-albums',\n",
       " 'triple-a',\n",
       " 'hot-mainstream-rock-tracks',\n",
       " 'hard-rock-albums',\n",
       " 'r-b-hip-hop-songs',\n",
       " 'r-b-hip-hop-albums',\n",
       " 'r-and-b-hip-hop-streaming-songs',\n",
       " 'hot-r-and-b-hip-hop-airplay',\n",
       " 'hot-r-and-b-hip-hop-recurrent-airplay',\n",
       " 'r-and-b-hip-hop-digital-song-sales',\n",
       " 'r-and-b-songs',\n",
       " 'r-and-b-albums',\n",
       " 'r-and-b-streaming-songs',\n",
       " 'r-and-b-digital-song-sales',\n",
       " 'rap-song',\n",
       " 'rap-albums',\n",
       " 'rap-streaming-songs',\n",
       " 'hot-rap-tracks',\n",
       " 'rap-digital-song-sales',\n",
       " 'mainstream-r-and-b-hip-hop',\n",
       " 'hot-adult-r-and-b-airplay',\n",
       " 'rhythmic-40',\n",
       " 'latin-songs',\n",
       " 'latin-albums',\n",
       " 'latin-streaming-songs',\n",
       " 'latin-airplay',\n",
       " 'latin-digital-song-sales',\n",
       " 'regional-mexican-albums',\n",
       " 'latin-regional-mexican-airplay',\n",
       " 'latin-pop-albums',\n",
       " 'latin-pop-airplay',\n",
       " 'tropical-albums',\n",
       " 'latin-tropical-airplay',\n",
       " 'latin-rhythm-albums',\n",
       " 'latin-rhythm-airplay',\n",
       " 'dance-electronic-songs',\n",
       " 'dance-electronic-albums',\n",
       " 'dance-electronic-streaming-songs',\n",
       " 'dance-electronic-digital-song-sales',\n",
       " 'hot-dance-airplay',\n",
       " 'dance-club-play-songs',\n",
       " 'christian-songs',\n",
       " 'christian-albums',\n",
       " 'christian-streaming-songs',\n",
       " 'christian-airplay',\n",
       " 'christian-digital-song-sales',\n",
       " 'hot-christian-adult-contemporary',\n",
       " 'gospel-songs',\n",
       " 'gospel-albums',\n",
       " 'gospel-streaming-songs',\n",
       " 'gospel-airplay',\n",
       " 'gospel-digital-song-sales',\n",
       " 'classical-albums',\n",
       " 'classical-crossover-albums',\n",
       " 'traditional-classic-albums',\n",
       " 'jazz-albums',\n",
       " 'contemporary-jazz',\n",
       " 'traditional-jazz-albums',\n",
       " 'jazz-songs',\n",
       " 'emerging-artists',\n",
       " 'heatseekers-albums',\n",
       " 'lyricfind-global',\n",
       " 'lyricfind-us',\n",
       " 'next-big-sound-25',\n",
       " 'hot-holiday-songs',\n",
       " 'holiday-albums',\n",
       " 'holiday-streaming-songs',\n",
       " 'holiday-songs',\n",
       " 'holiday-season-digital-song-sales',\n",
       " 'summer-songs',\n",
       " 'canadian-hot-100',\n",
       " 'canadian-albums',\n",
       " 'hot-canada-digital-song-sales',\n",
       " 'canada-emerging-artists',\n",
       " 'canada-ac',\n",
       " 'canada-all-format-airplay',\n",
       " 'canada-chr-top-40',\n",
       " 'canada-country',\n",
       " 'canada-hot-ac',\n",
       " 'canada-rock',\n",
       " 'mexico',\n",
       " 'mexico-ingles',\n",
       " 'mexico-popular',\n",
       " 'mexico-espanol',\n",
       " 'japan-hot-100',\n",
       " 'k-pop-hot-100',\n",
       " 'billboard-argentina-hot-100',\n",
       " 'official-uk-songs',\n",
       " 'official-uk-albums',\n",
       " 'uk-digital-song-sales',\n",
       " 'euro-digital-song-sales',\n",
       " 'france-digital-song-sales',\n",
       " 'germany-songs',\n",
       " 'german-albums',\n",
       " 'greece-albums',\n",
       " 'italy-albums',\n",
       " 'italy-digital-song-sales',\n",
       " 'spain-digital-song-sales',\n",
       " 'switzerland-digital-song-sales',\n",
       " 'australian-albums',\n",
       " 'australia-digital-song-sales',\n",
       " 'blues-albums',\n",
       " 'bubbling-under-hot-100-singles',\n",
       " 'cast-albums',\n",
       " 'comedy-albums',\n",
       " 'compilation-albums',\n",
       " 'hot-singles-recurrents',\n",
       " 'kids-albums',\n",
       " 'new-age-albums',\n",
       " 'reggae-albums',\n",
       " 'tastemaker-albums',\n",
       " 'world-albums',\n",
       " 'world-digital-song-sales']"
      ]
     },
     "execution_count": 3,
     "metadata": {},
     "output_type": "execute_result"
    }
   ],
   "source": [
    "chart_types = billboard.charts()\n",
    "chart_types"
   ]
  },
  {
   "cell_type": "code",
   "execution_count": 226,
   "metadata": {},
   "outputs": [],
   "source": [
    "# Creating a dataset with all the artists from all charts from billboard\n",
    "df=pd.DataFrame()\n",
    "title_list=[]\n",
    "artist_list=[]\n",
    "image_list=[]\n",
    "weeks_list=[]\n",
    "chart_name=[]\n",
    "\n",
    "for chart_type in chart_types:\n",
    "    chart = billboard.ChartData(chart_type)\n",
    "    for song in chart:\n",
    "        title_list.append(song.title)\n",
    "        artist_list.append(song.artist)\n",
    "        image_list.append(song.image)\n",
    "        weeks_list.append(song.weeks)\n",
    "        chart_name.append(chart.name)\n",
    "        \n",
    "df = pd.DataFrame({'title':title_list, \n",
    "                   'artist':artist_list, \n",
    "                   'image':image_list,\n",
    "                   'weeks':weeks_list,\n",
    "                   'chart':chart_name})"
   ]
  },
  {
   "cell_type": "markdown",
   "metadata": {},
   "source": [
    "## Data Cleaning"
   ]
  },
  {
   "cell_type": "code",
   "execution_count": 228,
   "metadata": {},
   "outputs": [
    {
     "data": {
      "text/plain": [
       "(35621020, 5)"
      ]
     },
     "execution_count": 228,
     "metadata": {},
     "output_type": "execute_result"
    }
   ],
   "source": [
    "df.shape"
   ]
  },
  {
   "cell_type": "code",
   "execution_count": 229,
   "metadata": {
    "collapsed": true
   },
   "outputs": [
    {
     "data": {
      "text/html": [
       "<div>\n",
       "<style scoped>\n",
       "    .dataframe tbody tr th:only-of-type {\n",
       "        vertical-align: middle;\n",
       "    }\n",
       "\n",
       "    .dataframe tbody tr th {\n",
       "        vertical-align: top;\n",
       "    }\n",
       "\n",
       "    .dataframe thead th {\n",
       "        text-align: right;\n",
       "    }\n",
       "</style>\n",
       "<table border=\"1\" class=\"dataframe\">\n",
       "  <thead>\n",
       "    <tr style=\"text-align: right;\">\n",
       "      <th></th>\n",
       "      <th>title</th>\n",
       "      <th>artist</th>\n",
       "      <th>image</th>\n",
       "      <th>weeks</th>\n",
       "      <th>chart</th>\n",
       "    </tr>\n",
       "  </thead>\n",
       "  <tbody>\n",
       "    <tr>\n",
       "      <th>0</th>\n",
       "      <td>Say So</td>\n",
       "      <td>Doja Cat Featuring Nicki Minaj</td>\n",
       "      <td>None</td>\n",
       "      <td>18.0</td>\n",
       "      <td>hot-100</td>\n",
       "    </tr>\n",
       "    <tr>\n",
       "      <th>0</th>\n",
       "      <td>Say So</td>\n",
       "      <td>Doja Cat Featuring Nicki Minaj</td>\n",
       "      <td>None</td>\n",
       "      <td>18.0</td>\n",
       "      <td>hot-100</td>\n",
       "    </tr>\n",
       "    <tr>\n",
       "      <th>1</th>\n",
       "      <td>Savage</td>\n",
       "      <td>Megan Thee Stallion Featuring Beyonce</td>\n",
       "      <td>None</td>\n",
       "      <td>8.0</td>\n",
       "      <td>hot-100</td>\n",
       "    </tr>\n",
       "    <tr>\n",
       "      <th>0</th>\n",
       "      <td>Say So</td>\n",
       "      <td>Doja Cat Featuring Nicki Minaj</td>\n",
       "      <td>None</td>\n",
       "      <td>18.0</td>\n",
       "      <td>hot-100</td>\n",
       "    </tr>\n",
       "    <tr>\n",
       "      <th>1</th>\n",
       "      <td>Savage</td>\n",
       "      <td>Megan Thee Stallion Featuring Beyonce</td>\n",
       "      <td>None</td>\n",
       "      <td>8.0</td>\n",
       "      <td>hot-100</td>\n",
       "    </tr>\n",
       "  </tbody>\n",
       "</table>\n",
       "</div>"
      ],
      "text/plain": [
       "    title                                 artist image  weeks    chart\n",
       "0  Say So         Doja Cat Featuring Nicki Minaj  None   18.0  hot-100\n",
       "0  Say So         Doja Cat Featuring Nicki Minaj  None   18.0  hot-100\n",
       "1  Savage  Megan Thee Stallion Featuring Beyonce  None    8.0  hot-100\n",
       "0  Say So         Doja Cat Featuring Nicki Minaj  None   18.0  hot-100\n",
       "1  Savage  Megan Thee Stallion Featuring Beyonce  None    8.0  hot-100"
      ]
     },
     "execution_count": 229,
     "metadata": {},
     "output_type": "execute_result"
    }
   ],
   "source": [
    "df.head()"
   ]
  },
  {
   "cell_type": "code",
   "execution_count": 234,
   "metadata": {},
   "outputs": [],
   "source": [
    "df=df.drop_duplicates()\n",
    "df.isna().sum()"
   ]
  },
  {
   "cell_type": "code",
   "execution_count": 236,
   "metadata": {
    "collapsed": true
   },
   "outputs": [
    {
     "data": {
      "text/plain": [
       "(8440, 5)"
      ]
     },
     "execution_count": 236,
     "metadata": {},
     "output_type": "execute_result"
    }
   ],
   "source": [
    "df.shape"
   ]
  },
  {
   "cell_type": "code",
   "execution_count": 238,
   "metadata": {},
   "outputs": [],
   "source": [
    "df.to_csv('billboard_artists.csv')"
   ]
  },
  {
   "cell_type": "code",
   "execution_count": 3,
   "metadata": {
    "ExecuteTime": {
     "end_time": "2020-05-21T01:12:01.100167Z",
     "start_time": "2020-05-21T01:12:01.072499Z"
    },
    "scrolled": false
   },
   "outputs": [],
   "source": [
    "bb = pd.read_csv('data/raw/billboard_artists.csv')"
   ]
  },
  {
   "cell_type": "code",
   "execution_count": 4,
   "metadata": {
    "ExecuteTime": {
     "end_time": "2020-05-21T01:12:03.526022Z",
     "start_time": "2020-05-21T01:12:03.506054Z"
    },
    "scrolled": true
   },
   "outputs": [
    {
     "data": {
      "text/html": [
       "<div>\n",
       "<style scoped>\n",
       "    .dataframe tbody tr th:only-of-type {\n",
       "        vertical-align: middle;\n",
       "    }\n",
       "\n",
       "    .dataframe tbody tr th {\n",
       "        vertical-align: top;\n",
       "    }\n",
       "\n",
       "    .dataframe thead th {\n",
       "        text-align: right;\n",
       "    }\n",
       "</style>\n",
       "<table border=\"1\" class=\"dataframe\">\n",
       "  <thead>\n",
       "    <tr style=\"text-align: right;\">\n",
       "      <th></th>\n",
       "      <th>Unnamed: 0</th>\n",
       "      <th>title</th>\n",
       "      <th>artist</th>\n",
       "      <th>image</th>\n",
       "      <th>weeks</th>\n",
       "      <th>chart</th>\n",
       "    </tr>\n",
       "  </thead>\n",
       "  <tbody>\n",
       "    <tr>\n",
       "      <th>0</th>\n",
       "      <td>0</td>\n",
       "      <td>Say So</td>\n",
       "      <td>Doja Cat Featuring Nicki Minaj</td>\n",
       "      <td>NaN</td>\n",
       "      <td>18.0</td>\n",
       "      <td>hot-100</td>\n",
       "    </tr>\n",
       "    <tr>\n",
       "      <th>1</th>\n",
       "      <td>1</td>\n",
       "      <td>Savage</td>\n",
       "      <td>Megan Thee Stallion Featuring Beyonce</td>\n",
       "      <td>NaN</td>\n",
       "      <td>8.0</td>\n",
       "      <td>hot-100</td>\n",
       "    </tr>\n",
       "    <tr>\n",
       "      <th>2</th>\n",
       "      <td>2</td>\n",
       "      <td>Blinding Lights</td>\n",
       "      <td>The Weeknd</td>\n",
       "      <td>NaN</td>\n",
       "      <td>23.0</td>\n",
       "      <td>hot-100</td>\n",
       "    </tr>\n",
       "    <tr>\n",
       "      <th>3</th>\n",
       "      <td>3</td>\n",
       "      <td>Toosie Slide</td>\n",
       "      <td>Drake</td>\n",
       "      <td>NaN</td>\n",
       "      <td>5.0</td>\n",
       "      <td>hot-100</td>\n",
       "    </tr>\n",
       "    <tr>\n",
       "      <th>4</th>\n",
       "      <td>4</td>\n",
       "      <td>The Box</td>\n",
       "      <td>Roddy Ricch</td>\n",
       "      <td>NaN</td>\n",
       "      <td>22.0</td>\n",
       "      <td>hot-100</td>\n",
       "    </tr>\n",
       "  </tbody>\n",
       "</table>\n",
       "</div>"
      ],
      "text/plain": [
       "   Unnamed: 0            title                                 artist image  \\\n",
       "0           0           Say So         Doja Cat Featuring Nicki Minaj   NaN   \n",
       "1           1           Savage  Megan Thee Stallion Featuring Beyonce   NaN   \n",
       "2           2  Blinding Lights                             The Weeknd   NaN   \n",
       "3           3     Toosie Slide                                  Drake   NaN   \n",
       "4           4          The Box                            Roddy Ricch   NaN   \n",
       "\n",
       "   weeks    chart  \n",
       "0   18.0  hot-100  \n",
       "1    8.0  hot-100  \n",
       "2   23.0  hot-100  \n",
       "3    5.0  hot-100  \n",
       "4   22.0  hot-100  "
      ]
     },
     "execution_count": 4,
     "metadata": {},
     "output_type": "execute_result"
    }
   ],
   "source": [
    "bb.head()"
   ]
  },
  {
   "cell_type": "markdown",
   "metadata": {},
   "source": [
    "#### Artists' Data base"
   ]
  },
  {
   "cell_type": "code",
   "execution_count": 10,
   "metadata": {},
   "outputs": [],
   "source": [
    "# Separating into 2 datasets: TOP ARTISTS LIST & TOP SONGS"
   ]
  },
  {
   "cell_type": "code",
   "execution_count": 11,
   "metadata": {},
   "outputs": [],
   "source": [
    "bb_artist = bb.copy()"
   ]
  },
  {
   "cell_type": "code",
   "execution_count": 13,
   "metadata": {},
   "outputs": [],
   "source": [
    "bb_artist=bb_artist.drop_duplicates(subset='artist')"
   ]
  },
  {
   "cell_type": "code",
   "execution_count": 14,
   "metadata": {},
   "outputs": [
    {
     "data": {
      "text/html": [
       "<div>\n",
       "<style scoped>\n",
       "    .dataframe tbody tr th:only-of-type {\n",
       "        vertical-align: middle;\n",
       "    }\n",
       "\n",
       "    .dataframe tbody tr th {\n",
       "        vertical-align: top;\n",
       "    }\n",
       "\n",
       "    .dataframe thead th {\n",
       "        text-align: right;\n",
       "    }\n",
       "</style>\n",
       "<table border=\"1\" class=\"dataframe\">\n",
       "  <thead>\n",
       "    <tr style=\"text-align: right;\">\n",
       "      <th></th>\n",
       "      <th>title</th>\n",
       "      <th>artist</th>\n",
       "      <th>image</th>\n",
       "      <th>weeks</th>\n",
       "      <th>chart</th>\n",
       "    </tr>\n",
       "  </thead>\n",
       "  <tbody>\n",
       "    <tr>\n",
       "      <th>0</th>\n",
       "      <td>Say So</td>\n",
       "      <td>Doja Cat Featuring Nicki Minaj</td>\n",
       "      <td>NaN</td>\n",
       "      <td>18.0</td>\n",
       "      <td>hot-100</td>\n",
       "    </tr>\n",
       "    <tr>\n",
       "      <th>1</th>\n",
       "      <td>Savage</td>\n",
       "      <td>Megan Thee Stallion Featuring Beyonce</td>\n",
       "      <td>NaN</td>\n",
       "      <td>8.0</td>\n",
       "      <td>hot-100</td>\n",
       "    </tr>\n",
       "    <tr>\n",
       "      <th>2</th>\n",
       "      <td>Blinding Lights</td>\n",
       "      <td>The Weeknd</td>\n",
       "      <td>NaN</td>\n",
       "      <td>23.0</td>\n",
       "      <td>hot-100</td>\n",
       "    </tr>\n",
       "    <tr>\n",
       "      <th>3</th>\n",
       "      <td>Toosie Slide</td>\n",
       "      <td>Drake</td>\n",
       "      <td>NaN</td>\n",
       "      <td>5.0</td>\n",
       "      <td>hot-100</td>\n",
       "    </tr>\n",
       "    <tr>\n",
       "      <th>4</th>\n",
       "      <td>The Box</td>\n",
       "      <td>Roddy Ricch</td>\n",
       "      <td>NaN</td>\n",
       "      <td>22.0</td>\n",
       "      <td>hot-100</td>\n",
       "    </tr>\n",
       "    <tr>\n",
       "      <th>...</th>\n",
       "      <td>...</td>\n",
       "      <td>...</td>\n",
       "      <td>...</td>\n",
       "      <td>...</td>\n",
       "      <td>...</td>\n",
       "    </tr>\n",
       "    <tr>\n",
       "      <th>8426</th>\n",
       "      <td>Bella Ciao</td>\n",
       "      <td>Manu Pilas</td>\n",
       "      <td>https://www.billboard.com/assets/1588965272/im...</td>\n",
       "      <td>5.0</td>\n",
       "      <td>world-digital-song-sales</td>\n",
       "    </tr>\n",
       "    <tr>\n",
       "      <th>8433</th>\n",
       "      <td>Nominate</td>\n",
       "      <td>Stonebwoy &amp; Keri Hilson</td>\n",
       "      <td>https://charts-static.billboard.com/img/1840/1...</td>\n",
       "      <td>1.0</td>\n",
       "      <td>world-digital-song-sales</td>\n",
       "    </tr>\n",
       "    <tr>\n",
       "      <th>8434</th>\n",
       "      <td>Du Hast</td>\n",
       "      <td>Rammstein</td>\n",
       "      <td>https://charts-static.billboard.com/img/2015/1...</td>\n",
       "      <td>215.0</td>\n",
       "      <td>world-digital-song-sales</td>\n",
       "    </tr>\n",
       "    <tr>\n",
       "      <th>8435</th>\n",
       "      <td>Oh Nanana</td>\n",
       "      <td>dj 6rb &amp; Bonde R300 Featuring XANG &amp; Mayklove</td>\n",
       "      <td>https://www.billboard.com/assets/1588965272/im...</td>\n",
       "      <td>9.0</td>\n",
       "      <td>world-digital-song-sales</td>\n",
       "    </tr>\n",
       "    <tr>\n",
       "      <th>8436</th>\n",
       "      <td>Circle Of Life</td>\n",
       "      <td>Carmen Twillie &amp; Lebo M</td>\n",
       "      <td>https://www.billboard.com/assets/1588965272/im...</td>\n",
       "      <td>38.0</td>\n",
       "      <td>world-digital-song-sales</td>\n",
       "    </tr>\n",
       "  </tbody>\n",
       "</table>\n",
       "<p>2607 rows × 5 columns</p>\n",
       "</div>"
      ],
      "text/plain": [
       "                title                                         artist  \\\n",
       "0              Say So                 Doja Cat Featuring Nicki Minaj   \n",
       "1              Savage          Megan Thee Stallion Featuring Beyonce   \n",
       "2     Blinding Lights                                     The Weeknd   \n",
       "3        Toosie Slide                                          Drake   \n",
       "4             The Box                                    Roddy Ricch   \n",
       "...               ...                                            ...   \n",
       "8426       Bella Ciao                                     Manu Pilas   \n",
       "8433         Nominate                        Stonebwoy & Keri Hilson   \n",
       "8434          Du Hast                                      Rammstein   \n",
       "8435        Oh Nanana  dj 6rb & Bonde R300 Featuring XANG & Mayklove   \n",
       "8436   Circle Of Life                        Carmen Twillie & Lebo M   \n",
       "\n",
       "                                                  image  weeks  \\\n",
       "0                                                   NaN   18.0   \n",
       "1                                                   NaN    8.0   \n",
       "2                                                   NaN   23.0   \n",
       "3                                                   NaN    5.0   \n",
       "4                                                   NaN   22.0   \n",
       "...                                                 ...    ...   \n",
       "8426  https://www.billboard.com/assets/1588965272/im...    5.0   \n",
       "8433  https://charts-static.billboard.com/img/1840/1...    1.0   \n",
       "8434  https://charts-static.billboard.com/img/2015/1...  215.0   \n",
       "8435  https://www.billboard.com/assets/1588965272/im...    9.0   \n",
       "8436  https://www.billboard.com/assets/1588965272/im...   38.0   \n",
       "\n",
       "                         chart  \n",
       "0                      hot-100  \n",
       "1                      hot-100  \n",
       "2                      hot-100  \n",
       "3                      hot-100  \n",
       "4                      hot-100  \n",
       "...                        ...  \n",
       "8426  world-digital-song-sales  \n",
       "8433  world-digital-song-sales  \n",
       "8434  world-digital-song-sales  \n",
       "8435  world-digital-song-sales  \n",
       "8436  world-digital-song-sales  \n",
       "\n",
       "[2607 rows x 5 columns]"
      ]
     },
     "execution_count": 14,
     "metadata": {},
     "output_type": "execute_result"
    }
   ],
   "source": [
    "bb_artist"
   ]
  },
  {
   "cell_type": "code",
   "execution_count": 16,
   "metadata": {},
   "outputs": [
    {
     "data": {
      "text/plain": [
       "title      281\n",
       "artist       0\n",
       "image      204\n",
       "weeks     1162\n",
       "chart        0\n",
       "dtype: int64"
      ]
     },
     "execution_count": 16,
     "metadata": {},
     "output_type": "execute_result"
    }
   ],
   "source": [
    "bb_artist.isna().sum()"
   ]
  },
  {
   "cell_type": "code",
   "execution_count": 18,
   "metadata": {},
   "outputs": [
    {
     "data": {
      "text/html": [
       "<div>\n",
       "<style scoped>\n",
       "    .dataframe tbody tr th:only-of-type {\n",
       "        vertical-align: middle;\n",
       "    }\n",
       "\n",
       "    .dataframe tbody tr th {\n",
       "        vertical-align: top;\n",
       "    }\n",
       "\n",
       "    .dataframe thead th {\n",
       "        text-align: right;\n",
       "    }\n",
       "</style>\n",
       "<table border=\"1\" class=\"dataframe\">\n",
       "  <thead>\n",
       "    <tr style=\"text-align: right;\">\n",
       "      <th></th>\n",
       "      <th>artist</th>\n",
       "      <th>chart</th>\n",
       "    </tr>\n",
       "  </thead>\n",
       "  <tbody>\n",
       "    <tr>\n",
       "      <th>0</th>\n",
       "      <td>Doja Cat Featuring Nicki Minaj</td>\n",
       "      <td>hot-100</td>\n",
       "    </tr>\n",
       "    <tr>\n",
       "      <th>1</th>\n",
       "      <td>Megan Thee Stallion Featuring Beyonce</td>\n",
       "      <td>hot-100</td>\n",
       "    </tr>\n",
       "    <tr>\n",
       "      <th>2</th>\n",
       "      <td>The Weeknd</td>\n",
       "      <td>hot-100</td>\n",
       "    </tr>\n",
       "    <tr>\n",
       "      <th>3</th>\n",
       "      <td>Drake</td>\n",
       "      <td>hot-100</td>\n",
       "    </tr>\n",
       "    <tr>\n",
       "      <th>4</th>\n",
       "      <td>Roddy Ricch</td>\n",
       "      <td>hot-100</td>\n",
       "    </tr>\n",
       "    <tr>\n",
       "      <th>...</th>\n",
       "      <td>...</td>\n",
       "      <td>...</td>\n",
       "    </tr>\n",
       "    <tr>\n",
       "      <th>8426</th>\n",
       "      <td>Manu Pilas</td>\n",
       "      <td>world-digital-song-sales</td>\n",
       "    </tr>\n",
       "    <tr>\n",
       "      <th>8433</th>\n",
       "      <td>Stonebwoy &amp; Keri Hilson</td>\n",
       "      <td>world-digital-song-sales</td>\n",
       "    </tr>\n",
       "    <tr>\n",
       "      <th>8434</th>\n",
       "      <td>Rammstein</td>\n",
       "      <td>world-digital-song-sales</td>\n",
       "    </tr>\n",
       "    <tr>\n",
       "      <th>8435</th>\n",
       "      <td>dj 6rb &amp; Bonde R300 Featuring XANG &amp; Mayklove</td>\n",
       "      <td>world-digital-song-sales</td>\n",
       "    </tr>\n",
       "    <tr>\n",
       "      <th>8436</th>\n",
       "      <td>Carmen Twillie &amp; Lebo M</td>\n",
       "      <td>world-digital-song-sales</td>\n",
       "    </tr>\n",
       "  </tbody>\n",
       "</table>\n",
       "<p>2607 rows × 2 columns</p>\n",
       "</div>"
      ],
      "text/plain": [
       "                                             artist                     chart\n",
       "0                    Doja Cat Featuring Nicki Minaj                   hot-100\n",
       "1             Megan Thee Stallion Featuring Beyonce                   hot-100\n",
       "2                                        The Weeknd                   hot-100\n",
       "3                                             Drake                   hot-100\n",
       "4                                       Roddy Ricch                   hot-100\n",
       "...                                             ...                       ...\n",
       "8426                                     Manu Pilas  world-digital-song-sales\n",
       "8433                        Stonebwoy & Keri Hilson  world-digital-song-sales\n",
       "8434                                      Rammstein  world-digital-song-sales\n",
       "8435  dj 6rb & Bonde R300 Featuring XANG & Mayklove  world-digital-song-sales\n",
       "8436                        Carmen Twillie & Lebo M  world-digital-song-sales\n",
       "\n",
       "[2607 rows x 2 columns]"
      ]
     },
     "execution_count": 18,
     "metadata": {},
     "output_type": "execute_result"
    }
   ],
   "source": [
    "bb_artist=bb_artist.drop(columns=['weeks','image','title'])\n",
    "bb_artist"
   ]
  },
  {
   "cell_type": "code",
   "execution_count": 29,
   "metadata": {},
   "outputs": [],
   "source": [
    "bb_artist=bb_artist.reset_index(drop=True)"
   ]
  },
  {
   "cell_type": "code",
   "execution_count": 38,
   "metadata": {},
   "outputs": [],
   "source": [
    "bb_artist.to_csv('data/processed/bb_artists_unique.csv', index=False)"
   ]
  },
  {
   "cell_type": "code",
   "execution_count": 208,
   "metadata": {},
   "outputs": [],
   "source": [
    "bb_artist = pd.read_csv('data/processed/bb_artists_unique.csv')"
   ]
  },
  {
   "cell_type": "code",
   "execution_count": 109,
   "metadata": {
    "scrolled": true
   },
   "outputs": [
    {
     "data": {
      "text/plain": [
       "((2607, 2),\n",
       "                                   artist    chart\n",
       " 0         Doja Cat Featuring Nicki Minaj  hot-100\n",
       " 1  Megan Thee Stallion Featuring Beyonce  hot-100\n",
       " 2                             The Weeknd  hot-100\n",
       " 3                                  Drake  hot-100\n",
       " 4                            Roddy Ricch  hot-100\n",
       " 5                               Dua Lipa  hot-100\n",
       " 6          Drake Featuring Playboi Carti  hot-100\n",
       " 7                            Post Malone  hot-100\n",
       " 8           DaBaby Featuring Roddy Ricch  hot-100\n",
       " 9          Justin Bieber Featuring Quavo  hot-100)"
      ]
     },
     "execution_count": 109,
     "metadata": {},
     "output_type": "execute_result"
    }
   ],
   "source": [
    "bb_artist.shape, bb_artist.head(10)"
   ]
  },
  {
   "cell_type": "code",
   "execution_count": null,
   "metadata": {},
   "outputs": [],
   "source": [
    "# clean dataset with clean_artist_name function "
   ]
  },
  {
   "cell_type": "code",
   "execution_count": 315,
   "metadata": {
    "scrolled": true
   },
   "outputs": [],
   "source": [
    "bb_artist_clean=clean_artist_name(bb_artist, 'chart')"
   ]
  },
  {
   "cell_type": "code",
   "execution_count": 316,
   "metadata": {
    "scrolled": true
   },
   "outputs": [
    {
     "data": {
      "text/plain": [
       "(3021, 2)"
      ]
     },
     "execution_count": 316,
     "metadata": {},
     "output_type": "execute_result"
    }
   ],
   "source": [
    "bb_artist_clean.shape"
   ]
  },
  {
   "cell_type": "code",
   "execution_count": 317,
   "metadata": {},
   "outputs": [
    {
     "data": {
      "text/html": [
       "<div>\n",
       "<style scoped>\n",
       "    .dataframe tbody tr th:only-of-type {\n",
       "        vertical-align: middle;\n",
       "    }\n",
       "\n",
       "    .dataframe tbody tr th {\n",
       "        vertical-align: top;\n",
       "    }\n",
       "\n",
       "    .dataframe thead th {\n",
       "        text-align: right;\n",
       "    }\n",
       "</style>\n",
       "<table border=\"1\" class=\"dataframe\">\n",
       "  <thead>\n",
       "    <tr style=\"text-align: right;\">\n",
       "      <th></th>\n",
       "      <th>artist</th>\n",
       "      <th>chart</th>\n",
       "    </tr>\n",
       "  </thead>\n",
       "  <tbody>\n",
       "    <tr>\n",
       "      <th>0</th>\n",
       "      <td>Doja Cat</td>\n",
       "      <td>hot-100</td>\n",
       "    </tr>\n",
       "    <tr>\n",
       "      <th>1</th>\n",
       "      <td>Megan Thee Stallion</td>\n",
       "      <td>hot-100</td>\n",
       "    </tr>\n",
       "    <tr>\n",
       "      <th>2</th>\n",
       "      <td>The Weeknd</td>\n",
       "      <td>hot-100</td>\n",
       "    </tr>\n",
       "    <tr>\n",
       "      <th>3</th>\n",
       "      <td>Drake</td>\n",
       "      <td>hot-100</td>\n",
       "    </tr>\n",
       "    <tr>\n",
       "      <th>4</th>\n",
       "      <td>Roddy Ricch</td>\n",
       "      <td>hot-100</td>\n",
       "    </tr>\n",
       "  </tbody>\n",
       "</table>\n",
       "</div>"
      ],
      "text/plain": [
       "                 artist    chart\n",
       "0             Doja Cat   hot-100\n",
       "1  Megan Thee Stallion   hot-100\n",
       "2            The Weeknd  hot-100\n",
       "3                 Drake  hot-100\n",
       "4           Roddy Ricch  hot-100"
      ]
     },
     "execution_count": 317,
     "metadata": {},
     "output_type": "execute_result"
    }
   ],
   "source": [
    "bb_artist_clean.head()"
   ]
  },
  {
   "cell_type": "code",
   "execution_count": 318,
   "metadata": {},
   "outputs": [],
   "source": [
    "bb_artist_clean.to_csv('data/processed/bb_artists_unique_clean.csv')"
   ]
  },
  {
   "cell_type": "markdown",
   "metadata": {},
   "source": [
    "#### Songs dataset"
   ]
  },
  {
   "cell_type": "code",
   "execution_count": 33,
   "metadata": {},
   "outputs": [],
   "source": [
    "# The Top songs dataset"
   ]
  },
  {
   "cell_type": "code",
   "execution_count": 211,
   "metadata": {},
   "outputs": [],
   "source": [
    "bb_songs = bb.copy()"
   ]
  },
  {
   "cell_type": "code",
   "execution_count": 212,
   "metadata": {},
   "outputs": [],
   "source": [
    "bb_songs=bb_songs.drop_duplicates(subset='title')"
   ]
  },
  {
   "cell_type": "code",
   "execution_count": 213,
   "metadata": {},
   "outputs": [
    {
     "data": {
      "text/html": [
       "<div>\n",
       "<style scoped>\n",
       "    .dataframe tbody tr th:only-of-type {\n",
       "        vertical-align: middle;\n",
       "    }\n",
       "\n",
       "    .dataframe tbody tr th {\n",
       "        vertical-align: top;\n",
       "    }\n",
       "\n",
       "    .dataframe thead th {\n",
       "        text-align: right;\n",
       "    }\n",
       "</style>\n",
       "<table border=\"1\" class=\"dataframe\">\n",
       "  <thead>\n",
       "    <tr style=\"text-align: right;\">\n",
       "      <th></th>\n",
       "      <th>title</th>\n",
       "      <th>artist</th>\n",
       "      <th>image</th>\n",
       "      <th>weeks</th>\n",
       "      <th>chart</th>\n",
       "    </tr>\n",
       "  </thead>\n",
       "  <tbody>\n",
       "    <tr>\n",
       "      <th>0</th>\n",
       "      <td>Say So</td>\n",
       "      <td>Doja Cat Featuring Nicki Minaj</td>\n",
       "      <td>NaN</td>\n",
       "      <td>18.0</td>\n",
       "      <td>hot-100</td>\n",
       "    </tr>\n",
       "    <tr>\n",
       "      <th>1</th>\n",
       "      <td>Savage</td>\n",
       "      <td>Megan Thee Stallion Featuring Beyonce</td>\n",
       "      <td>NaN</td>\n",
       "      <td>8.0</td>\n",
       "      <td>hot-100</td>\n",
       "    </tr>\n",
       "    <tr>\n",
       "      <th>2</th>\n",
       "      <td>Blinding Lights</td>\n",
       "      <td>The Weeknd</td>\n",
       "      <td>NaN</td>\n",
       "      <td>23.0</td>\n",
       "      <td>hot-100</td>\n",
       "    </tr>\n",
       "    <tr>\n",
       "      <th>3</th>\n",
       "      <td>Toosie Slide</td>\n",
       "      <td>Drake</td>\n",
       "      <td>NaN</td>\n",
       "      <td>5.0</td>\n",
       "      <td>hot-100</td>\n",
       "    </tr>\n",
       "    <tr>\n",
       "      <th>4</th>\n",
       "      <td>The Box</td>\n",
       "      <td>Roddy Ricch</td>\n",
       "      <td>NaN</td>\n",
       "      <td>22.0</td>\n",
       "      <td>hot-100</td>\n",
       "    </tr>\n",
       "  </tbody>\n",
       "</table>\n",
       "</div>"
      ],
      "text/plain": [
       "             title                                 artist image  weeks  \\\n",
       "0           Say So         Doja Cat Featuring Nicki Minaj   NaN   18.0   \n",
       "1           Savage  Megan Thee Stallion Featuring Beyonce   NaN    8.0   \n",
       "2  Blinding Lights                             The Weeknd   NaN   23.0   \n",
       "3     Toosie Slide                                  Drake   NaN    5.0   \n",
       "4          The Box                            Roddy Ricch   NaN   22.0   \n",
       "\n",
       "     chart  \n",
       "0  hot-100  \n",
       "1  hot-100  \n",
       "2  hot-100  \n",
       "3  hot-100  \n",
       "4  hot-100  "
      ]
     },
     "execution_count": 213,
     "metadata": {},
     "output_type": "execute_result"
    }
   ],
   "source": [
    "bb_songs.head()"
   ]
  },
  {
   "cell_type": "code",
   "execution_count": 214,
   "metadata": {},
   "outputs": [
    {
     "data": {
      "text/plain": [
       "title        1\n",
       "artist       0\n",
       "image      292\n",
       "weeks     1963\n",
       "chart        0\n",
       "dtype: int64"
      ]
     },
     "execution_count": 214,
     "metadata": {},
     "output_type": "execute_result"
    }
   ],
   "source": [
    "bb_songs.isna().sum()"
   ]
  },
  {
   "cell_type": "code",
   "execution_count": 215,
   "metadata": {},
   "outputs": [],
   "source": [
    "bb_songs=bb_songs.drop(columns=['image','weeks'])"
   ]
  },
  {
   "cell_type": "code",
   "execution_count": 216,
   "metadata": {},
   "outputs": [
    {
     "data": {
      "text/plain": [
       "title     1\n",
       "artist    0\n",
       "chart     0\n",
       "dtype: int64"
      ]
     },
     "execution_count": 216,
     "metadata": {},
     "output_type": "execute_result"
    }
   ],
   "source": [
    "bb_songs.isna().sum()"
   ]
  },
  {
   "cell_type": "code",
   "execution_count": 217,
   "metadata": {},
   "outputs": [
    {
     "data": {
      "text/html": [
       "<div>\n",
       "<style scoped>\n",
       "    .dataframe tbody tr th:only-of-type {\n",
       "        vertical-align: middle;\n",
       "    }\n",
       "\n",
       "    .dataframe tbody tr th {\n",
       "        vertical-align: top;\n",
       "    }\n",
       "\n",
       "    .dataframe thead th {\n",
       "        text-align: right;\n",
       "    }\n",
       "</style>\n",
       "<table border=\"1\" class=\"dataframe\">\n",
       "  <thead>\n",
       "    <tr style=\"text-align: right;\">\n",
       "      <th></th>\n",
       "      <th>title</th>\n",
       "      <th>artist</th>\n",
       "      <th>chart</th>\n",
       "    </tr>\n",
       "  </thead>\n",
       "  <tbody>\n",
       "    <tr>\n",
       "      <th>300</th>\n",
       "      <td>NaN</td>\n",
       "      <td>Kenny Chesney</td>\n",
       "      <td>artist-100</td>\n",
       "    </tr>\n",
       "  </tbody>\n",
       "</table>\n",
       "</div>"
      ],
      "text/plain": [
       "    title         artist       chart\n",
       "300   NaN  Kenny Chesney  artist-100"
      ]
     },
     "execution_count": 217,
     "metadata": {},
     "output_type": "execute_result"
    }
   ],
   "source": [
    "bb_songs.loc[bb_songs.title.isna(),:]"
   ]
  },
  {
   "cell_type": "code",
   "execution_count": 218,
   "metadata": {},
   "outputs": [],
   "source": [
    "bb_songs=bb_songs.dropna().reset_index(drop=True)"
   ]
  },
  {
   "cell_type": "code",
   "execution_count": 219,
   "metadata": {},
   "outputs": [
    {
     "data": {
      "text/plain": [
       "(             title                                 artist    chart\n",
       " 0           Say So         Doja Cat Featuring Nicki Minaj  hot-100\n",
       " 1           Savage  Megan Thee Stallion Featuring Beyonce  hot-100\n",
       " 2  Blinding Lights                             The Weeknd  hot-100\n",
       " 3     Toosie Slide                                  Drake  hot-100\n",
       " 4          The Box                            Roddy Ricch  hot-100,\n",
       " (4082, 3))"
      ]
     },
     "execution_count": 219,
     "metadata": {},
     "output_type": "execute_result"
    }
   ],
   "source": [
    "bb_songs.head(), bb_songs.shape"
   ]
  },
  {
   "cell_type": "code",
   "execution_count": 220,
   "metadata": {},
   "outputs": [],
   "source": [
    "bb_songs.columns = ['track','artist','chart']"
   ]
  },
  {
   "cell_type": "code",
   "execution_count": 221,
   "metadata": {},
   "outputs": [
    {
     "data": {
      "text/html": [
       "<div>\n",
       "<style scoped>\n",
       "    .dataframe tbody tr th:only-of-type {\n",
       "        vertical-align: middle;\n",
       "    }\n",
       "\n",
       "    .dataframe tbody tr th {\n",
       "        vertical-align: top;\n",
       "    }\n",
       "\n",
       "    .dataframe thead th {\n",
       "        text-align: right;\n",
       "    }\n",
       "</style>\n",
       "<table border=\"1\" class=\"dataframe\">\n",
       "  <thead>\n",
       "    <tr style=\"text-align: right;\">\n",
       "      <th></th>\n",
       "      <th>track</th>\n",
       "      <th>artist</th>\n",
       "      <th>chart</th>\n",
       "    </tr>\n",
       "  </thead>\n",
       "  <tbody>\n",
       "    <tr>\n",
       "      <th>0</th>\n",
       "      <td>Say So</td>\n",
       "      <td>Doja Cat Featuring Nicki Minaj</td>\n",
       "      <td>hot-100</td>\n",
       "    </tr>\n",
       "    <tr>\n",
       "      <th>1</th>\n",
       "      <td>Savage</td>\n",
       "      <td>Megan Thee Stallion Featuring Beyonce</td>\n",
       "      <td>hot-100</td>\n",
       "    </tr>\n",
       "    <tr>\n",
       "      <th>2</th>\n",
       "      <td>Blinding Lights</td>\n",
       "      <td>The Weeknd</td>\n",
       "      <td>hot-100</td>\n",
       "    </tr>\n",
       "    <tr>\n",
       "      <th>3</th>\n",
       "      <td>Toosie Slide</td>\n",
       "      <td>Drake</td>\n",
       "      <td>hot-100</td>\n",
       "    </tr>\n",
       "    <tr>\n",
       "      <th>4</th>\n",
       "      <td>The Box</td>\n",
       "      <td>Roddy Ricch</td>\n",
       "      <td>hot-100</td>\n",
       "    </tr>\n",
       "  </tbody>\n",
       "</table>\n",
       "</div>"
      ],
      "text/plain": [
       "             track                                 artist    chart\n",
       "0           Say So         Doja Cat Featuring Nicki Minaj  hot-100\n",
       "1           Savage  Megan Thee Stallion Featuring Beyonce  hot-100\n",
       "2  Blinding Lights                             The Weeknd  hot-100\n",
       "3     Toosie Slide                                  Drake  hot-100\n",
       "4          The Box                            Roddy Ricch  hot-100"
      ]
     },
     "execution_count": 221,
     "metadata": {},
     "output_type": "execute_result"
    }
   ],
   "source": [
    "bb_songs.head()"
   ]
  },
  {
   "cell_type": "code",
   "execution_count": 139,
   "metadata": {},
   "outputs": [],
   "source": [
    "bb_songs.to_csv('data/processed/bb_songs_unique.csv')"
   ]
  },
  {
   "cell_type": "code",
   "execution_count": 319,
   "metadata": {},
   "outputs": [],
   "source": [
    "bb_songs = pd.read_csv('data/processed/bb_songs_unique.csv').drop(columns='Unnamed: 0')"
   ]
  },
  {
   "cell_type": "code",
   "execution_count": 321,
   "metadata": {},
   "outputs": [],
   "source": [
    "bb_songs_unique_clean = clean_artist_name(bb_songs, 'chart', 'track')"
   ]
  },
  {
   "cell_type": "code",
   "execution_count": 322,
   "metadata": {},
   "outputs": [],
   "source": [
    "bb_songs_unique_clean.to_csv('data/processed/bb_songs_unique_clean.csv')"
   ]
  }
 ],
 "metadata": {
  "kernelspec": {
   "display_name": "Python 3",
   "language": "python",
   "name": "python3"
  },
  "language_info": {
   "codemirror_mode": {
    "name": "ipython",
    "version": 3
   },
   "file_extension": ".py",
   "mimetype": "text/x-python",
   "name": "python",
   "nbconvert_exporter": "python",
   "pygments_lexer": "ipython3",
   "version": "3.8.2"
  },
  "toc": {
   "base_numbering": 1,
   "nav_menu": {},
   "number_sections": true,
   "sideBar": true,
   "skip_h1_title": false,
   "title_cell": "Table of Contents",
   "title_sidebar": "Contents",
   "toc_cell": false,
   "toc_position": {
    "height": "calc(100% - 180px)",
    "left": "10px",
    "top": "150px",
    "width": "256px"
   },
   "toc_section_display": true,
   "toc_window_display": true
  }
 },
 "nbformat": 4,
 "nbformat_minor": 4
}
