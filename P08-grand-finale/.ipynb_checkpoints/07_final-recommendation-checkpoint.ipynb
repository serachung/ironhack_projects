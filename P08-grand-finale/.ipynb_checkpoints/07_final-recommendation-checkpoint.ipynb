{
 "cells": [
  {
   "cell_type": "code",
   "execution_count": 2,
   "metadata": {
    "ExecuteTime": {
     "end_time": "2020-05-22T17:29:57.651219Z",
     "start_time": "2020-05-22T17:29:55.905603Z"
    }
   },
   "outputs": [],
   "source": [
    "from getpass import getpass\n",
    "import pandas as pd\n",
    "import numpy as np\n",
    "import seaborn as sns"
   ]
  },
  {
   "cell_type": "markdown",
   "metadata": {},
   "source": [
    "# Database"
   ]
  },
  {
   "cell_type": "markdown",
   "metadata": {},
   "source": [
    "# Pipeline"
   ]
  },
  {
   "cell_type": "code",
   "execution_count": 35,
   "metadata": {
    "ExecuteTime": {
     "end_time": "2020-05-22T17:37:15.184547Z",
     "start_time": "2020-05-22T17:37:14.987883Z"
    }
   },
   "outputs": [],
   "source": [
    "df= pd.read_csv('data/analysis/songs_sp_complete.csv')"
   ]
  },
  {
   "cell_type": "code",
   "execution_count": 92,
   "metadata": {
    "ExecuteTime": {
     "end_time": "2020-05-22T18:23:57.351552Z",
     "start_time": "2020-05-22T18:23:57.347678Z"
    }
   },
   "outputs": [],
   "source": [
    "feat_selection = ['danceability','energy','loudness','speechiness','acousticness',\n",
    "                  'instrumentalness','valence','tempo','time_signature']"
   ]
  },
  {
   "cell_type": "code",
   "execution_count": 43,
   "metadata": {
    "ExecuteTime": {
     "end_time": "2020-05-22T17:39:48.790187Z",
     "start_time": "2020-05-22T17:39:48.785787Z"
    }
   },
   "outputs": [],
   "source": [
    "from sklearn.pipeline import Pipeline\n",
    "from sklearn.preprocessing import StandardScaler\n",
    "from sklearn.impute import SimpleImputer\n",
    "from scipy.spatial import distance\n",
    "from sklearn.cluster import KMeans"
   ]
  },
  {
   "cell_type": "code",
   "execution_count": 44,
   "metadata": {
    "ExecuteTime": {
     "end_time": "2020-05-22T17:39:49.313469Z",
     "start_time": "2020-05-22T17:39:49.293689Z"
    }
   },
   "outputs": [
    {
     "data": {
      "text/html": [
       "<div>\n",
       "<style scoped>\n",
       "    .dataframe tbody tr th:only-of-type {\n",
       "        vertical-align: middle;\n",
       "    }\n",
       "\n",
       "    .dataframe tbody tr th {\n",
       "        vertical-align: top;\n",
       "    }\n",
       "\n",
       "    .dataframe thead th {\n",
       "        text-align: right;\n",
       "    }\n",
       "</style>\n",
       "<table border=\"1\" class=\"dataframe\">\n",
       "  <thead>\n",
       "    <tr style=\"text-align: right;\">\n",
       "      <th></th>\n",
       "      <th>track</th>\n",
       "      <th>artist</th>\n",
       "      <th>tracks_uri</th>\n",
       "      <th>decade</th>\n",
       "      <th>billboard</th>\n",
       "      <th>art_genres</th>\n",
       "      <th>danceability</th>\n",
       "      <th>energy</th>\n",
       "      <th>key</th>\n",
       "      <th>loudness</th>\n",
       "      <th>mode</th>\n",
       "      <th>speechiness</th>\n",
       "      <th>acousticness</th>\n",
       "      <th>instrumentalness</th>\n",
       "      <th>liveness</th>\n",
       "      <th>valence</th>\n",
       "      <th>tempo</th>\n",
       "      <th>time_signature</th>\n",
       "    </tr>\n",
       "  </thead>\n",
       "  <tbody>\n",
       "    <tr>\n",
       "      <th>0</th>\n",
       "      <td>Jealous Kind Of Fella</td>\n",
       "      <td>Garland Green</td>\n",
       "      <td>spotify:track:1dtKN6wwlolkM8XZy2y9C1</td>\n",
       "      <td>1960</td>\n",
       "      <td>1</td>\n",
       "      <td>[]</td>\n",
       "      <td>0.417</td>\n",
       "      <td>0.620</td>\n",
       "      <td>3.0</td>\n",
       "      <td>-7.727</td>\n",
       "      <td>1.0</td>\n",
       "      <td>0.0403</td>\n",
       "      <td>0.490</td>\n",
       "      <td>0.000000</td>\n",
       "      <td>0.0779</td>\n",
       "      <td>0.845</td>\n",
       "      <td>185.655</td>\n",
       "      <td>3.0</td>\n",
       "    </tr>\n",
       "    <tr>\n",
       "      <th>1</th>\n",
       "      <td>Initials B.B.</td>\n",
       "      <td>Serge Gainsbourg</td>\n",
       "      <td>spotify:track:5hjsmSnUefdUqzsDogisiX</td>\n",
       "      <td>1960</td>\n",
       "      <td>0</td>\n",
       "      <td>['chanson', 'french rock']</td>\n",
       "      <td>0.498</td>\n",
       "      <td>0.505</td>\n",
       "      <td>3.0</td>\n",
       "      <td>-12.475</td>\n",
       "      <td>1.0</td>\n",
       "      <td>0.0337</td>\n",
       "      <td>0.018</td>\n",
       "      <td>0.107000</td>\n",
       "      <td>0.1760</td>\n",
       "      <td>0.797</td>\n",
       "      <td>101.801</td>\n",
       "      <td>4.0</td>\n",
       "    </tr>\n",
       "    <tr>\n",
       "      <th>2</th>\n",
       "      <td>Melody Twist</td>\n",
       "      <td>Lord Melody</td>\n",
       "      <td>spotify:track:6uk8tI6pwxxdVTNlNOJeJh</td>\n",
       "      <td>1960</td>\n",
       "      <td>0</td>\n",
       "      <td>[]</td>\n",
       "      <td>0.657</td>\n",
       "      <td>0.649</td>\n",
       "      <td>5.0</td>\n",
       "      <td>-13.392</td>\n",
       "      <td>1.0</td>\n",
       "      <td>0.0380</td>\n",
       "      <td>0.846</td>\n",
       "      <td>0.000004</td>\n",
       "      <td>0.1190</td>\n",
       "      <td>0.908</td>\n",
       "      <td>115.940</td>\n",
       "      <td>4.0</td>\n",
       "    </tr>\n",
       "  </tbody>\n",
       "</table>\n",
       "</div>"
      ],
      "text/plain": [
       "                   track            artist  \\\n",
       "0  Jealous Kind Of Fella     Garland Green   \n",
       "1          Initials B.B.  Serge Gainsbourg   \n",
       "2           Melody Twist       Lord Melody   \n",
       "\n",
       "                             tracks_uri  decade  billboard  \\\n",
       "0  spotify:track:1dtKN6wwlolkM8XZy2y9C1    1960          1   \n",
       "1  spotify:track:5hjsmSnUefdUqzsDogisiX    1960          0   \n",
       "2  spotify:track:6uk8tI6pwxxdVTNlNOJeJh    1960          0   \n",
       "\n",
       "                   art_genres  danceability  energy  key  loudness  mode  \\\n",
       "0                          []         0.417   0.620  3.0    -7.727   1.0   \n",
       "1  ['chanson', 'french rock']         0.498   0.505  3.0   -12.475   1.0   \n",
       "2                          []         0.657   0.649  5.0   -13.392   1.0   \n",
       "\n",
       "   speechiness  acousticness  instrumentalness  liveness  valence    tempo  \\\n",
       "0       0.0403         0.490          0.000000    0.0779    0.845  185.655   \n",
       "1       0.0337         0.018          0.107000    0.1760    0.797  101.801   \n",
       "2       0.0380         0.846          0.000004    0.1190    0.908  115.940   \n",
       "\n",
       "   time_signature  \n",
       "0             3.0  \n",
       "1             4.0  \n",
       "2             4.0  "
      ]
     },
     "execution_count": 44,
     "metadata": {},
     "output_type": "execute_result"
    }
   ],
   "source": [
    "df.head(3)"
   ]
  },
  {
   "cell_type": "code",
   "execution_count": 78,
   "metadata": {
    "ExecuteTime": {
     "end_time": "2020-05-22T18:21:07.814190Z",
     "start_time": "2020-05-22T18:21:07.811226Z"
    }
   },
   "outputs": [],
   "source": [
    "pipeline = Pipeline(steps=[('features_selection', AudioFeatures()),\n",
    "                           ('missing', SimpleImputer(strategy ='constant',fill_value=0)),\n",
    "                           ('preprocessing', StandardScaler()),\n",
    "                           ('feature_clusterization', KMeans(30))])"
   ]
  },
  {
   "cell_type": "code",
   "execution_count": 79,
   "metadata": {
    "ExecuteTime": {
     "end_time": "2020-05-22T18:21:19.993391Z",
     "start_time": "2020-05-22T18:21:08.472648Z"
    }
   },
   "outputs": [
    {
     "data": {
      "text/plain": [
       "Pipeline(memory=None,\n",
       "         steps=[('features_selection',\n",
       "                 <__main__.AudioFeatures object at 0x12ad02550>),\n",
       "                ('missing',\n",
       "                 SimpleImputer(add_indicator=False, copy=True, fill_value=0,\n",
       "                               missing_values=nan, strategy='constant',\n",
       "                               verbose=0)),\n",
       "                ('preprocessing',\n",
       "                 StandardScaler(copy=True, with_mean=True, with_std=True)),\n",
       "                ('feature_clusterization',\n",
       "                 KMeans(algorithm='auto', copy_x=True, init='k-means++',\n",
       "                        max_iter=300, n_clusters=30, n_init=10, n_jobs=None,\n",
       "                        precompute_distances='auto', random_state=None,\n",
       "                        tol=0.0001, verbose=0))],\n",
       "         verbose=False)"
      ]
     },
     "execution_count": 79,
     "metadata": {},
     "output_type": "execute_result"
    }
   ],
   "source": [
    "pipeline.fit(df)"
   ]
  },
  {
   "cell_type": "code",
   "execution_count": 80,
   "metadata": {
    "ExecuteTime": {
     "end_time": "2020-05-22T18:21:20.017274Z",
     "start_time": "2020-05-22T18:21:19.995724Z"
    }
   },
   "outputs": [
    {
     "data": {
      "text/plain": [
       "array([[4.80505208, 2.73386753, 2.87994457, ..., 5.07938111, 4.72837433,\n",
       "        7.11078822],\n",
       "       [3.68247528, 2.59282829, 2.70697953, ..., 3.27469839, 3.44897018,\n",
       "        8.33176449],\n",
       "       [4.85475285, 2.04523339, 3.21885812, ..., 3.65993294, 3.18675847,\n",
       "        8.43042603],\n",
       "       ...,\n",
       "       [5.93604607, 6.74109833, 7.71172437, ..., 7.576405  , 4.6147826 ,\n",
       "        5.35953565],\n",
       "       [4.48598737, 3.78219343, 4.58431225, ..., 4.47643822, 3.95714389,\n",
       "        7.9451186 ],\n",
       "       [3.59707425, 4.51056177, 4.47539793, ..., 4.56362475, 4.90005879,\n",
       "        8.16092646]])"
      ]
     },
     "execution_count": 80,
     "metadata": {},
     "output_type": "execute_result"
    }
   ],
   "source": [
    "pipeline.transform(df)"
   ]
  },
  {
   "cell_type": "code",
   "execution_count": 81,
   "metadata": {
    "ExecuteTime": {
     "end_time": "2020-05-22T18:21:24.711073Z",
     "start_time": "2020-05-22T18:21:24.672597Z"
    }
   },
   "outputs": [
    {
     "data": {
      "text/plain": [
       "array([22,  9, 26, ..., 19, 14, 13], dtype=int32)"
      ]
     },
     "execution_count": 81,
     "metadata": {},
     "output_type": "execute_result"
    }
   ],
   "source": [
    "pipeline.predict(df)"
   ]
  },
  {
   "cell_type": "code",
   "execution_count": 82,
   "metadata": {
    "ExecuteTime": {
     "end_time": "2020-05-22T18:21:29.201424Z",
     "start_time": "2020-05-22T18:21:29.152832Z"
    }
   },
   "outputs": [
    {
     "data": {
      "text/html": [
       "<div>\n",
       "<style scoped>\n",
       "    .dataframe tbody tr th:only-of-type {\n",
       "        vertical-align: middle;\n",
       "    }\n",
       "\n",
       "    .dataframe tbody tr th {\n",
       "        vertical-align: top;\n",
       "    }\n",
       "\n",
       "    .dataframe thead th {\n",
       "        text-align: right;\n",
       "    }\n",
       "</style>\n",
       "<table border=\"1\" class=\"dataframe\">\n",
       "  <thead>\n",
       "    <tr style=\"text-align: right;\">\n",
       "      <th></th>\n",
       "      <th>track</th>\n",
       "      <th>artist</th>\n",
       "      <th>tracks_uri</th>\n",
       "      <th>decade</th>\n",
       "      <th>billboard</th>\n",
       "      <th>art_genres</th>\n",
       "      <th>danceability</th>\n",
       "      <th>energy</th>\n",
       "      <th>key</th>\n",
       "      <th>loudness</th>\n",
       "      <th>mode</th>\n",
       "      <th>speechiness</th>\n",
       "      <th>acousticness</th>\n",
       "      <th>instrumentalness</th>\n",
       "      <th>liveness</th>\n",
       "      <th>valence</th>\n",
       "      <th>tempo</th>\n",
       "      <th>time_signature</th>\n",
       "      <th>cluster</th>\n",
       "    </tr>\n",
       "  </thead>\n",
       "  <tbody>\n",
       "    <tr>\n",
       "      <th>0</th>\n",
       "      <td>Jealous Kind Of Fella</td>\n",
       "      <td>Garland Green</td>\n",
       "      <td>spotify:track:1dtKN6wwlolkM8XZy2y9C1</td>\n",
       "      <td>1960</td>\n",
       "      <td>1</td>\n",
       "      <td>[]</td>\n",
       "      <td>0.417</td>\n",
       "      <td>0.620</td>\n",
       "      <td>3.0</td>\n",
       "      <td>-7.727</td>\n",
       "      <td>1.0</td>\n",
       "      <td>0.0403</td>\n",
       "      <td>0.490</td>\n",
       "      <td>0.000000</td>\n",
       "      <td>0.0779</td>\n",
       "      <td>0.845</td>\n",
       "      <td>185.655</td>\n",
       "      <td>3.0</td>\n",
       "      <td>22</td>\n",
       "    </tr>\n",
       "    <tr>\n",
       "      <th>1</th>\n",
       "      <td>Initials B.B.</td>\n",
       "      <td>Serge Gainsbourg</td>\n",
       "      <td>spotify:track:5hjsmSnUefdUqzsDogisiX</td>\n",
       "      <td>1960</td>\n",
       "      <td>0</td>\n",
       "      <td>['chanson', 'french rock']</td>\n",
       "      <td>0.498</td>\n",
       "      <td>0.505</td>\n",
       "      <td>3.0</td>\n",
       "      <td>-12.475</td>\n",
       "      <td>1.0</td>\n",
       "      <td>0.0337</td>\n",
       "      <td>0.018</td>\n",
       "      <td>0.107000</td>\n",
       "      <td>0.1760</td>\n",
       "      <td>0.797</td>\n",
       "      <td>101.801</td>\n",
       "      <td>4.0</td>\n",
       "      <td>9</td>\n",
       "    </tr>\n",
       "    <tr>\n",
       "      <th>2</th>\n",
       "      <td>Melody Twist</td>\n",
       "      <td>Lord Melody</td>\n",
       "      <td>spotify:track:6uk8tI6pwxxdVTNlNOJeJh</td>\n",
       "      <td>1960</td>\n",
       "      <td>0</td>\n",
       "      <td>[]</td>\n",
       "      <td>0.657</td>\n",
       "      <td>0.649</td>\n",
       "      <td>5.0</td>\n",
       "      <td>-13.392</td>\n",
       "      <td>1.0</td>\n",
       "      <td>0.0380</td>\n",
       "      <td>0.846</td>\n",
       "      <td>0.000004</td>\n",
       "      <td>0.1190</td>\n",
       "      <td>0.908</td>\n",
       "      <td>115.940</td>\n",
       "      <td>4.0</td>\n",
       "      <td>26</td>\n",
       "    </tr>\n",
       "    <tr>\n",
       "      <th>3</th>\n",
       "      <td>Mi Bomba Sonó</td>\n",
       "      <td>Celia Cruz</td>\n",
       "      <td>spotify:track:7aNjMJ05FvUXACPWZ7yJmv</td>\n",
       "      <td>1960</td>\n",
       "      <td>0</td>\n",
       "      <td>['cha-cha-cha', 'cuban rumba', 'latin', 'latin...</td>\n",
       "      <td>0.590</td>\n",
       "      <td>0.545</td>\n",
       "      <td>7.0</td>\n",
       "      <td>-12.058</td>\n",
       "      <td>0.0</td>\n",
       "      <td>0.1040</td>\n",
       "      <td>0.706</td>\n",
       "      <td>0.024600</td>\n",
       "      <td>0.0610</td>\n",
       "      <td>0.967</td>\n",
       "      <td>105.592</td>\n",
       "      <td>4.0</td>\n",
       "      <td>26</td>\n",
       "    </tr>\n",
       "    <tr>\n",
       "      <th>4</th>\n",
       "      <td>Uravu Solla</td>\n",
       "      <td>P. Susheela</td>\n",
       "      <td>spotify:track:1rQ0clvgkzWr001POOPJWx</td>\n",
       "      <td>1960</td>\n",
       "      <td>0</td>\n",
       "      <td>['deep indian pop', 'filmi', 'tamil worship']</td>\n",
       "      <td>0.515</td>\n",
       "      <td>0.765</td>\n",
       "      <td>11.0</td>\n",
       "      <td>-3.515</td>\n",
       "      <td>0.0</td>\n",
       "      <td>0.1240</td>\n",
       "      <td>0.857</td>\n",
       "      <td>0.000872</td>\n",
       "      <td>0.2130</td>\n",
       "      <td>0.906</td>\n",
       "      <td>114.617</td>\n",
       "      <td>4.0</td>\n",
       "      <td>26</td>\n",
       "    </tr>\n",
       "  </tbody>\n",
       "</table>\n",
       "</div>"
      ],
      "text/plain": [
       "                   track            artist  \\\n",
       "0  Jealous Kind Of Fella     Garland Green   \n",
       "1          Initials B.B.  Serge Gainsbourg   \n",
       "2           Melody Twist       Lord Melody   \n",
       "3          Mi Bomba Sonó        Celia Cruz   \n",
       "4            Uravu Solla       P. Susheela   \n",
       "\n",
       "                             tracks_uri  decade  billboard  \\\n",
       "0  spotify:track:1dtKN6wwlolkM8XZy2y9C1    1960          1   \n",
       "1  spotify:track:5hjsmSnUefdUqzsDogisiX    1960          0   \n",
       "2  spotify:track:6uk8tI6pwxxdVTNlNOJeJh    1960          0   \n",
       "3  spotify:track:7aNjMJ05FvUXACPWZ7yJmv    1960          0   \n",
       "4  spotify:track:1rQ0clvgkzWr001POOPJWx    1960          0   \n",
       "\n",
       "                                          art_genres  danceability  energy  \\\n",
       "0                                                 []         0.417   0.620   \n",
       "1                         ['chanson', 'french rock']         0.498   0.505   \n",
       "2                                                 []         0.657   0.649   \n",
       "3  ['cha-cha-cha', 'cuban rumba', 'latin', 'latin...         0.590   0.545   \n",
       "4      ['deep indian pop', 'filmi', 'tamil worship']         0.515   0.765   \n",
       "\n",
       "    key  loudness  mode  speechiness  acousticness  instrumentalness  \\\n",
       "0   3.0    -7.727   1.0       0.0403         0.490          0.000000   \n",
       "1   3.0   -12.475   1.0       0.0337         0.018          0.107000   \n",
       "2   5.0   -13.392   1.0       0.0380         0.846          0.000004   \n",
       "3   7.0   -12.058   0.0       0.1040         0.706          0.024600   \n",
       "4  11.0    -3.515   0.0       0.1240         0.857          0.000872   \n",
       "\n",
       "   liveness  valence    tempo  time_signature  cluster  \n",
       "0    0.0779    0.845  185.655             3.0       22  \n",
       "1    0.1760    0.797  101.801             4.0        9  \n",
       "2    0.1190    0.908  115.940             4.0       26  \n",
       "3    0.0610    0.967  105.592             4.0       26  \n",
       "4    0.2130    0.906  114.617             4.0       26  "
      ]
     },
     "execution_count": 82,
     "metadata": {},
     "output_type": "execute_result"
    }
   ],
   "source": [
    "df['cluster'] = pipeline.predict(df)\n",
    "df.head()"
   ]
  },
  {
   "cell_type": "code",
   "execution_count": 85,
   "metadata": {
    "ExecuteTime": {
     "end_time": "2020-05-22T18:22:15.690132Z",
     "start_time": "2020-05-22T18:22:15.686651Z"
    }
   },
   "outputs": [
    {
     "data": {
      "text/plain": [
       "9"
      ]
     },
     "execution_count": 85,
     "metadata": {},
     "output_type": "execute_result"
    }
   ],
   "source": [
    "len(feat_selection)"
   ]
  },
  {
   "cell_type": "code",
   "execution_count": 87,
   "metadata": {
    "ExecuteTime": {
     "end_time": "2020-05-22T18:22:37.565431Z",
     "start_time": "2020-05-22T18:22:36.849662Z"
    }
   },
   "outputs": [],
   "source": [
    "df.to_csv('data/final/songs_9feat.csv', index=False)"
   ]
  },
  {
   "cell_type": "code",
   "execution_count": 52,
   "metadata": {
    "ExecuteTime": {
     "end_time": "2020-05-22T17:41:03.957049Z",
     "start_time": "2020-05-22T17:41:03.938164Z"
    }
   },
   "outputs": [
    {
     "data": {
      "text/plain": [
       "3478"
      ]
     },
     "execution_count": 52,
     "metadata": {},
     "output_type": "execute_result"
    }
   ],
   "source": [
    "df.isna().sum().sum()"
   ]
  },
  {
   "cell_type": "markdown",
   "metadata": {},
   "source": [
    "# Recommender System Model"
   ]
  },
  {
   "cell_type": "code",
   "execution_count": 214,
   "metadata": {
    "ExecuteTime": {
     "end_time": "2020-05-20T20:44:43.410105Z",
     "start_time": "2020-05-20T20:44:43.406712Z"
    }
   },
   "outputs": [],
   "source": [
    "from scipy.spatial.distance import pdist, squareform"
   ]
  },
  {
   "cell_type": "markdown",
   "metadata": {},
   "source": [
    "> `database`:\n",
    "- import\n",
    "- preprocess\n",
    "\n",
    "> `input`: \n",
    "- música\n",
    "- gênero\n",
    "\n",
    "> `processamento`:\n",
    "- buscar na base de dados de música atual, encontrar artista, separar\n",
    "- filtrar DB por target (recomendável)\n",
    "- filtrar por cluster POR FEATURES\n",
    "- análise word2vec gêneros\n",
    "- análise word2vec para a música do input\n",
    "- calcular dist cosine\n",
    "\n",
    "- standardizar dados\n",
    "- incluir no sistema de recomendação\n",
    "- filtrar os 10 mais semelhantes\n",
    "\n",
    "> `output`:\n",
    "- retornar página com top 5 músicas e artistas\n",
    "- links para ouvir a música"
   ]
  },
  {
   "cell_type": "markdown",
   "metadata": {},
   "source": [
    "## Databases"
   ]
  },
  {
   "cell_type": "markdown",
   "metadata": {},
   "source": [
    "### Import"
   ]
  },
  {
   "cell_type": "code",
   "execution_count": 95,
   "metadata": {
    "ExecuteTime": {
     "end_time": "2020-05-22T18:27:22.674329Z",
     "start_time": "2020-05-22T18:27:22.412699Z"
    }
   },
   "outputs": [],
   "source": [
    "# retrieve datasets\n",
    "songs = pd.read_csv('data/final/songs_bck.csv')\n",
    "artists = pd.read_csv('data/final/artists_bck.csv')"
   ]
  },
  {
   "cell_type": "code",
   "execution_count": 112,
   "metadata": {
    "ExecuteTime": {
     "end_time": "2020-05-22T18:31:49.930869Z",
     "start_time": "2020-05-22T18:31:49.926399Z"
    }
   },
   "outputs": [
    {
     "data": {
      "text/plain": [
       "Index(['track', 'artist', 'tracks_uri', 'decade', 'billboard', 'art_genres',\n",
       "       'danceability', 'energy', 'key', 'loudness', 'mode', 'speechiness',\n",
       "       'acousticness', 'instrumentalness', 'liveness', 'valence', 'tempo',\n",
       "       'time_signature', 'cluster'],\n",
       "      dtype='object')"
      ]
     },
     "execution_count": 112,
     "metadata": {},
     "output_type": "execute_result"
    }
   ],
   "source": [
    "songs.columns"
   ]
  },
  {
   "cell_type": "code",
   "execution_count": 105,
   "metadata": {
    "ExecuteTime": {
     "end_time": "2020-05-22T18:30:38.699658Z",
     "start_time": "2020-05-22T18:30:38.696243Z"
    }
   },
   "outputs": [],
   "source": [
    "categorical_columns = ['track', 'artist', 'tracks_uri', 'decade', 'billboard', 'art_genres']"
   ]
  },
  {
   "cell_type": "code",
   "execution_count": 103,
   "metadata": {
    "ExecuteTime": {
     "end_time": "2020-05-22T18:30:05.225568Z",
     "start_time": "2020-05-22T18:30:05.221381Z"
    }
   },
   "outputs": [],
   "source": [
    "feat_selection = ['danceability','energy','loudness','speechiness','acousticness','instrumentalness','valence','tempo','time_signature']"
   ]
  },
  {
   "cell_type": "code",
   "execution_count": 110,
   "metadata": {
    "ExecuteTime": {
     "end_time": "2020-05-22T18:31:21.477679Z",
     "start_time": "2020-05-22T18:31:21.473911Z"
    }
   },
   "outputs": [],
   "source": [
    "cols = categorical_columns+feat_selection"
   ]
  },
  {
   "cell_type": "code",
   "execution_count": 111,
   "metadata": {
    "ExecuteTime": {
     "end_time": "2020-05-22T18:31:27.958488Z",
     "start_time": "2020-05-22T18:31:27.955135Z"
    }
   },
   "outputs": [
    {
     "data": {
      "text/plain": [
       "15"
      ]
     },
     "execution_count": 111,
     "metadata": {},
     "output_type": "execute_result"
    }
   ],
   "source": [
    "len(cols)"
   ]
  },
  {
   "cell_type": "code",
   "execution_count": 99,
   "metadata": {
    "ExecuteTime": {
     "end_time": "2020-05-22T18:28:25.092909Z",
     "start_time": "2020-05-22T18:28:25.051387Z"
    }
   },
   "outputs": [],
   "source": [
    "songs['cluster'] = pipeline.predict(songs)"
   ]
  },
  {
   "cell_type": "code",
   "execution_count": 126,
   "metadata": {
    "ExecuteTime": {
     "end_time": "2020-05-22T18:39:55.274729Z",
     "start_time": "2020-05-22T18:39:54.474327Z"
    }
   },
   "outputs": [],
   "source": [
    "songs.to_csv('data/final/songs.csv', index=False)"
   ]
  },
  {
   "cell_type": "markdown",
   "metadata": {},
   "source": [
    "# Artist Classification\n",
    "\n",
    "- How to classify if artist is famous or not"
   ]
  },
  {
   "cell_type": "markdown",
   "metadata": {},
   "source": [
    "There isn't much similarities that separates famous X non famous artists. \n",
    "Since there is a great number of outliers, non famous artists will be considered as follows:\n",
    "\n",
    "> Cut by Number of followers: \n",
    "- max: the cut will be made higher fence \n",
    "\n",
    "> Sort by Popularity\n",
    "\n",
    "> Sort by year (priority to recent decade)"
   ]
  },
  {
   "cell_type": "markdown",
   "metadata": {},
   "source": [
    "## Input & Validation"
   ]
  },
  {
   "cell_type": "markdown",
   "metadata": {},
   "source": [
    "### Speech recognition"
   ]
  },
  {
   "cell_type": "code",
   "execution_count": 860,
   "metadata": {
    "ExecuteTime": {
     "end_time": "2020-05-22T04:51:58.376353Z",
     "start_time": "2020-05-22T04:51:32.624226Z"
    },
    "collapsed": true
   },
   "outputs": [
    {
     "name": "stdout",
     "output_type": "stream",
     "text": [
      "Tell us the title of a song you like :)\n",
      "Listening... (you've got 4 seconds)\n",
      "Processing...\n",
      "Tell us the artist who sings that song\n",
      "Listening... (you've got 4 seconds)\n",
      "Processing...\n",
      "You chose \"be humble\" by Kendrick Lamar, right? (y/n)y\n"
     ]
    }
   ],
   "source": [
    "user_input=check_input(song_input=get_audio('title'), artist_input=get_audio('artist'))"
   ]
  },
  {
   "cell_type": "markdown",
   "metadata": {},
   "source": [
    "### Written song"
   ]
  },
  {
   "cell_type": "code",
   "execution_count": 198,
   "metadata": {
    "ExecuteTime": {
     "end_time": "2020-05-22T19:59:54.504479Z",
     "start_time": "2020-05-22T19:59:32.579645Z"
    },
    "scrolled": false
   },
   "outputs": [
    {
     "name": "stdout",
     "output_type": "stream",
     "text": [
      "Tell us the title of a song you like :)hard to say\n",
      "Tell us the artist who sings that songekali\n",
      "You chose \"hard to say\" by ekali, right? (y/n)y\n"
     ]
    }
   ],
   "source": [
    "user_input=check_input(song_input=get_text('title'), artist_input=get_text('artist'))"
   ]
  },
  {
   "cell_type": "markdown",
   "metadata": {},
   "source": [
    "## Processing"
   ]
  },
  {
   "cell_type": "code",
   "execution_count": 212,
   "metadata": {
    "ExecuteTime": {
     "end_time": "2020-05-22T20:06:29.501085Z",
     "start_time": "2020-05-22T20:06:27.734612Z"
    }
   },
   "outputs": [
    {
     "name": "stdout",
     "output_type": "stream",
     "text": [
      "not found in the database, retrieving infos from spotify\n"
     ]
    },
    {
     "name": "stderr",
     "output_type": "stream",
     "text": [
      "HTTP Error for GET to https://api.spotify.com/v1/search returned 401 due to The access token expired\n"
     ]
    },
    {
     "name": "stdout",
     "output_type": "stream",
     "text": [
      "we're all set\n"
     ]
    }
   ],
   "source": [
    "# processing the input and saving to dabase new information\n",
    "process = target_process(user_input)\n",
    "target_song = process[0]\n",
    "target_cluster = process[1]"
   ]
  },
  {
   "cell_type": "code",
   "execution_count": 213,
   "metadata": {
    "ExecuteTime": {
     "end_time": "2020-05-22T20:06:36.383501Z",
     "start_time": "2020-05-22T20:06:36.362976Z"
    }
   },
   "outputs": [
    {
     "data": {
      "text/html": [
       "<div>\n",
       "<style scoped>\n",
       "    .dataframe tbody tr th:only-of-type {\n",
       "        vertical-align: middle;\n",
       "    }\n",
       "\n",
       "    .dataframe tbody tr th {\n",
       "        vertical-align: top;\n",
       "    }\n",
       "\n",
       "    .dataframe thead th {\n",
       "        text-align: right;\n",
       "    }\n",
       "</style>\n",
       "<table border=\"1\" class=\"dataframe\">\n",
       "  <thead>\n",
       "    <tr style=\"text-align: right;\">\n",
       "      <th></th>\n",
       "      <th>track</th>\n",
       "      <th>artist</th>\n",
       "      <th>tracks_uri</th>\n",
       "      <th>art_genres</th>\n",
       "      <th>danceability</th>\n",
       "      <th>energy</th>\n",
       "      <th>key</th>\n",
       "      <th>loudness</th>\n",
       "      <th>mode</th>\n",
       "      <th>speechiness</th>\n",
       "      <th>acousticness</th>\n",
       "      <th>instrumentalness</th>\n",
       "      <th>liveness</th>\n",
       "      <th>valence</th>\n",
       "      <th>tempo</th>\n",
       "      <th>time_signature</th>\n",
       "      <th>cluster</th>\n",
       "    </tr>\n",
       "  </thead>\n",
       "  <tbody>\n",
       "    <tr>\n",
       "      <th>0</th>\n",
       "      <td>Hard To Say Goodbye (feat. Chloe Angelides)</td>\n",
       "      <td>Ekali</td>\n",
       "      <td>spotify:track:50DKBnjijGJ2d0WV5nqNTS</td>\n",
       "      <td>[brostep, canadian electronic, edm, electro ho...</td>\n",
       "      <td>0.546</td>\n",
       "      <td>0.764</td>\n",
       "      <td>5</td>\n",
       "      <td>-4.641</td>\n",
       "      <td>1</td>\n",
       "      <td>0.053</td>\n",
       "      <td>0.0803</td>\n",
       "      <td>0.000009</td>\n",
       "      <td>0.0971</td>\n",
       "      <td>0.355</td>\n",
       "      <td>152.994</td>\n",
       "      <td>4</td>\n",
       "      <td>12</td>\n",
       "    </tr>\n",
       "  </tbody>\n",
       "</table>\n",
       "</div>"
      ],
      "text/plain": [
       "                                         track artist  \\\n",
       "0  Hard To Say Goodbye (feat. Chloe Angelides)  Ekali   \n",
       "\n",
       "                             tracks_uri  \\\n",
       "0  spotify:track:50DKBnjijGJ2d0WV5nqNTS   \n",
       "\n",
       "                                          art_genres  danceability  energy  \\\n",
       "0  [brostep, canadian electronic, edm, electro ho...         0.546   0.764   \n",
       "\n",
       "   key  loudness  mode  speechiness  acousticness  instrumentalness  liveness  \\\n",
       "0    5    -4.641     1        0.053        0.0803          0.000009    0.0971   \n",
       "\n",
       "   valence    tempo  time_signature  cluster  \n",
       "0    0.355  152.994               4       12  "
      ]
     },
     "execution_count": 213,
     "metadata": {},
     "output_type": "execute_result"
    }
   ],
   "source": [
    "target_song"
   ]
  },
  {
   "cell_type": "code",
   "execution_count": 214,
   "metadata": {
    "ExecuteTime": {
     "end_time": "2020-05-22T20:06:40.503718Z",
     "start_time": "2020-05-22T20:06:39.161538Z"
    }
   },
   "outputs": [
    {
     "name": "stderr",
     "output_type": "stream",
     "text": [
      "<ipython-input-17-aeef88167b54>:15: SettingWithCopyWarning: \n",
      "A value is trying to be set on a copy of a slice from a DataFrame.\n",
      "Try using .loc[row_indexer,col_indexer] = value instead\n",
      "\n",
      "See the caveats in the documentation: https://pandas.pydata.org/pandas-docs/stable/user_guide/indexing.html#returning-a-view-versus-a-copy\n",
      "  cluster_songs['is_recommended'] = cluster_songs.artist.apply(lambda x: 1 if x in list(recomm_artists.artist) else 0)\n"
     ]
    }
   ],
   "source": [
    "# now it's time to filter by the 10 nearest songs and artists\n",
    "cluster_songs = get_recomm_songs(target_cluster[0])\n",
    "recomm_songs = cluster_songs.copy().reset_index(drop=True)\n",
    "\n",
    "# defining X and y \n",
    "X = recomm_songs[feat_selection]\n",
    "y = target_song[feat_selection]\n",
    "\n",
    "\n",
    "#Standardizing\n",
    "X_std = pd.DataFrame(pipeline.named_steps['preprocessing'].transform(X), columns=X.columns)\n",
    "y_std = pd.DataFrame(pipeline.named_steps['preprocessing'].transform(y), columns=y.columns)"
   ]
  },
  {
   "cell_type": "markdown",
   "metadata": {},
   "source": [
    "## Ball Tree"
   ]
  },
  {
   "cell_type": "code",
   "execution_count": 215,
   "metadata": {
    "ExecuteTime": {
     "end_time": "2020-05-22T20:06:45.290295Z",
     "start_time": "2020-05-22T20:06:45.284178Z"
    }
   },
   "outputs": [],
   "source": [
    "from sklearn.neighbors import BallTree\n",
    "\n",
    "#Calculating the distance between the target song to all the rest of the same cluster\n",
    "tree = BallTree(X_std, metric= 'euclidean')    \n",
    "dist, ind = tree.query(y, k=10)    "
   ]
  },
  {
   "cell_type": "markdown",
   "metadata": {
    "ExecuteTime": {
     "end_time": "2020-05-22T19:01:15.036129Z",
     "start_time": "2020-05-22T19:01:15.029118Z"
    }
   },
   "source": [
    "Criteria\n",
    "    - Cut by Number of followers: higher fence == max\n",
    "    - Sort by Popularity\n",
    "    - Sort by year (priority to more recent)"
   ]
  },
  {
   "cell_type": "code",
   "execution_count": 218,
   "metadata": {
    "ExecuteTime": {
     "end_time": "2020-05-22T20:08:59.444226Z",
     "start_time": "2020-05-22T20:08:12.040433Z"
    }
   },
   "outputs": [
    {
     "ename": "KeyboardInterrupt",
     "evalue": "",
     "output_type": "error",
     "traceback": [
      "\u001b[0;31m---------------------------------------------------------------------------\u001b[0m",
      "\u001b[0;31mTypeError\u001b[0m                                 Traceback (most recent call last)",
      "\u001b[0;32m/Library/Frameworks/Python.framework/Versions/3.8/lib/python3.8/site-packages/urllib3/connectionpool.py\u001b[0m in \u001b[0;36m_make_request\u001b[0;34m(self, conn, method, url, timeout, chunked, **httplib_request_kw)\u001b[0m\n\u001b[1;32m    376\u001b[0m             \u001b[0;32mtry\u001b[0m\u001b[0;34m:\u001b[0m  \u001b[0;31m# Python 2.7, use buffering of HTTP responses\u001b[0m\u001b[0;34m\u001b[0m\u001b[0;34m\u001b[0m\u001b[0m\n\u001b[0;32m--> 377\u001b[0;31m                 \u001b[0mhttplib_response\u001b[0m \u001b[0;34m=\u001b[0m \u001b[0mconn\u001b[0m\u001b[0;34m.\u001b[0m\u001b[0mgetresponse\u001b[0m\u001b[0;34m(\u001b[0m\u001b[0mbuffering\u001b[0m\u001b[0;34m=\u001b[0m\u001b[0;32mTrue\u001b[0m\u001b[0;34m)\u001b[0m\u001b[0;34m\u001b[0m\u001b[0;34m\u001b[0m\u001b[0m\n\u001b[0m\u001b[1;32m    378\u001b[0m             \u001b[0;32mexcept\u001b[0m \u001b[0mTypeError\u001b[0m\u001b[0;34m:\u001b[0m  \u001b[0;31m# Python 3\u001b[0m\u001b[0;34m\u001b[0m\u001b[0;34m\u001b[0m\u001b[0m\n",
      "\u001b[0;31mTypeError\u001b[0m: getresponse() got an unexpected keyword argument 'buffering'",
      "\nDuring handling of the above exception, another exception occurred:\n",
      "\u001b[0;31mKeyboardInterrupt\u001b[0m                         Traceback (most recent call last)",
      "\u001b[0;32m<ipython-input-218-c215be517207>\u001b[0m in \u001b[0;36m<module>\u001b[0;34m\u001b[0m\n\u001b[1;32m      1\u001b[0m \u001b[0;31m# retrieving artist's popularity info\u001b[0m\u001b[0;34m\u001b[0m\u001b[0;34m\u001b[0m\u001b[0;34m\u001b[0m\u001b[0m\n\u001b[0;32m----> 2\u001b[0;31m \u001b[0mfinal_recomm\u001b[0m \u001b[0;34m=\u001b[0m \u001b[0mget_pop_link\u001b[0m\u001b[0;34m(\u001b[0m\u001b[0mrecomm_songs\u001b[0m\u001b[0;34m)\u001b[0m\u001b[0;34m\u001b[0m\u001b[0;34m\u001b[0m\u001b[0m\n\u001b[0m",
      "\u001b[0;32m<ipython-input-217-c52037b3aea9>\u001b[0m in \u001b[0;36mget_pop_link\u001b[0;34m(df, sp)\u001b[0m\n\u001b[1;32m      5\u001b[0m \u001b[0;34m\u001b[0m\u001b[0m\n\u001b[1;32m      6\u001b[0m     \u001b[0;32mfor\u001b[0m \u001b[0martist\u001b[0m \u001b[0;32min\u001b[0m \u001b[0mdf\u001b[0m\u001b[0;34m.\u001b[0m\u001b[0martist\u001b[0m\u001b[0;34m:\u001b[0m\u001b[0;34m\u001b[0m\u001b[0;34m\u001b[0m\u001b[0m\n\u001b[0;32m----> 7\u001b[0;31m         \u001b[0mresult\u001b[0m\u001b[0;34m=\u001b[0m \u001b[0msp\u001b[0m\u001b[0;34m.\u001b[0m\u001b[0msearch\u001b[0m\u001b[0;34m(\u001b[0m\u001b[0mq\u001b[0m\u001b[0;34m=\u001b[0m\u001b[0;34mf\"artist:{artist}\"\u001b[0m\u001b[0;34m,\u001b[0m \u001b[0mlimit\u001b[0m\u001b[0;34m=\u001b[0m\u001b[0;36m1\u001b[0m\u001b[0;34m,\u001b[0m \u001b[0mtype\u001b[0m\u001b[0;34m=\u001b[0m\u001b[0;34m'artist'\u001b[0m\u001b[0;34m)\u001b[0m\u001b[0;34m\u001b[0m\u001b[0;34m\u001b[0m\u001b[0m\n\u001b[0m\u001b[1;32m      8\u001b[0m         \u001b[0murl\u001b[0m\u001b[0;34m.\u001b[0m\u001b[0mappend\u001b[0m\u001b[0;34m(\u001b[0m\u001b[0mresult\u001b[0m\u001b[0;34m[\u001b[0m\u001b[0;34m'artists'\u001b[0m\u001b[0;34m]\u001b[0m\u001b[0;34m[\u001b[0m\u001b[0;34m'items'\u001b[0m\u001b[0;34m]\u001b[0m\u001b[0;34m[\u001b[0m\u001b[0;36m0\u001b[0m\u001b[0;34m]\u001b[0m\u001b[0;34m[\u001b[0m\u001b[0;34m'external_urls'\u001b[0m\u001b[0;34m]\u001b[0m\u001b[0;34m[\u001b[0m\u001b[0;34m'spotify'\u001b[0m\u001b[0;34m]\u001b[0m\u001b[0;34m)\u001b[0m\u001b[0;34m\u001b[0m\u001b[0;34m\u001b[0m\u001b[0m\n\u001b[1;32m      9\u001b[0m         \u001b[0mpopularity\u001b[0m\u001b[0;34m.\u001b[0m\u001b[0mappend\u001b[0m\u001b[0;34m(\u001b[0m\u001b[0mresult\u001b[0m\u001b[0;34m[\u001b[0m\u001b[0;34m'artists'\u001b[0m\u001b[0;34m]\u001b[0m\u001b[0;34m[\u001b[0m\u001b[0;34m'items'\u001b[0m\u001b[0;34m]\u001b[0m\u001b[0;34m[\u001b[0m\u001b[0;36m0\u001b[0m\u001b[0;34m]\u001b[0m\u001b[0;34m[\u001b[0m\u001b[0;34m'popularity'\u001b[0m\u001b[0;34m]\u001b[0m\u001b[0;34m)\u001b[0m\u001b[0;34m\u001b[0m\u001b[0;34m\u001b[0m\u001b[0m\n",
      "\u001b[0;32m/Library/Frameworks/Python.framework/Versions/3.8/lib/python3.8/site-packages/spotipy/client.py\u001b[0m in \u001b[0;36msearch\u001b[0;34m(self, q, limit, offset, type, market)\u001b[0m\n\u001b[1;32m    456\u001b[0m                            \u001b[0mfrom_token\u001b[0m\u001b[0;34m.\u001b[0m\u001b[0;34m\u001b[0m\u001b[0;34m\u001b[0m\u001b[0m\n\u001b[1;32m    457\u001b[0m         \"\"\"\n\u001b[0;32m--> 458\u001b[0;31m         return self._get(\n\u001b[0m\u001b[1;32m    459\u001b[0m             \u001b[0;34m\"search\"\u001b[0m\u001b[0;34m,\u001b[0m \u001b[0mq\u001b[0m\u001b[0;34m=\u001b[0m\u001b[0mq\u001b[0m\u001b[0;34m,\u001b[0m \u001b[0mlimit\u001b[0m\u001b[0;34m=\u001b[0m\u001b[0mlimit\u001b[0m\u001b[0;34m,\u001b[0m \u001b[0moffset\u001b[0m\u001b[0;34m=\u001b[0m\u001b[0moffset\u001b[0m\u001b[0;34m,\u001b[0m \u001b[0mtype\u001b[0m\u001b[0;34m=\u001b[0m\u001b[0mtype\u001b[0m\u001b[0;34m,\u001b[0m \u001b[0mmarket\u001b[0m\u001b[0;34m=\u001b[0m\u001b[0mmarket\u001b[0m\u001b[0;34m\u001b[0m\u001b[0;34m\u001b[0m\u001b[0m\n\u001b[1;32m    460\u001b[0m         )\n",
      "\u001b[0;32m/Library/Frameworks/Python.framework/Versions/3.8/lib/python3.8/site-packages/spotipy/client.py\u001b[0m in \u001b[0;36m_get\u001b[0;34m(self, url, args, payload, **kwargs)\u001b[0m\n\u001b[1;32m    205\u001b[0m             \u001b[0mkwargs\u001b[0m\u001b[0;34m.\u001b[0m\u001b[0mupdate\u001b[0m\u001b[0;34m(\u001b[0m\u001b[0margs\u001b[0m\u001b[0;34m)\u001b[0m\u001b[0;34m\u001b[0m\u001b[0;34m\u001b[0m\u001b[0m\n\u001b[1;32m    206\u001b[0m \u001b[0;34m\u001b[0m\u001b[0m\n\u001b[0;32m--> 207\u001b[0;31m         \u001b[0;32mreturn\u001b[0m \u001b[0mself\u001b[0m\u001b[0;34m.\u001b[0m\u001b[0m_internal_call\u001b[0m\u001b[0;34m(\u001b[0m\u001b[0;34m\"GET\"\u001b[0m\u001b[0;34m,\u001b[0m \u001b[0murl\u001b[0m\u001b[0;34m,\u001b[0m \u001b[0mpayload\u001b[0m\u001b[0;34m,\u001b[0m \u001b[0mkwargs\u001b[0m\u001b[0;34m)\u001b[0m\u001b[0;34m\u001b[0m\u001b[0;34m\u001b[0m\u001b[0m\n\u001b[0m\u001b[1;32m    208\u001b[0m \u001b[0;34m\u001b[0m\u001b[0m\n\u001b[1;32m    209\u001b[0m     \u001b[0;32mdef\u001b[0m \u001b[0m_post\u001b[0m\u001b[0;34m(\u001b[0m\u001b[0mself\u001b[0m\u001b[0;34m,\u001b[0m \u001b[0murl\u001b[0m\u001b[0;34m,\u001b[0m \u001b[0margs\u001b[0m\u001b[0;34m=\u001b[0m\u001b[0;32mNone\u001b[0m\u001b[0;34m,\u001b[0m \u001b[0mpayload\u001b[0m\u001b[0;34m=\u001b[0m\u001b[0;32mNone\u001b[0m\u001b[0;34m,\u001b[0m \u001b[0;34m**\u001b[0m\u001b[0mkwargs\u001b[0m\u001b[0;34m)\u001b[0m\u001b[0;34m:\u001b[0m\u001b[0;34m\u001b[0m\u001b[0;34m\u001b[0m\u001b[0m\n",
      "\u001b[0;32m/Library/Frameworks/Python.framework/Versions/3.8/lib/python3.8/site-packages/spotipy/client.py\u001b[0m in \u001b[0;36m_internal_call\u001b[0;34m(self, method, url, payload, params)\u001b[0m\n\u001b[1;32m    165\u001b[0m \u001b[0;34m\u001b[0m\u001b[0m\n\u001b[1;32m    166\u001b[0m         \u001b[0;32mtry\u001b[0m\u001b[0;34m:\u001b[0m\u001b[0;34m\u001b[0m\u001b[0;34m\u001b[0m\u001b[0m\n\u001b[0;32m--> 167\u001b[0;31m             response = self._session.request(\n\u001b[0m\u001b[1;32m    168\u001b[0m                 \u001b[0mmethod\u001b[0m\u001b[0;34m,\u001b[0m \u001b[0murl\u001b[0m\u001b[0;34m,\u001b[0m \u001b[0mheaders\u001b[0m\u001b[0;34m=\u001b[0m\u001b[0mheaders\u001b[0m\u001b[0;34m,\u001b[0m \u001b[0mproxies\u001b[0m\u001b[0;34m=\u001b[0m\u001b[0mself\u001b[0m\u001b[0;34m.\u001b[0m\u001b[0mproxies\u001b[0m\u001b[0;34m,\u001b[0m\u001b[0;34m\u001b[0m\u001b[0;34m\u001b[0m\u001b[0m\n\u001b[1;32m    169\u001b[0m                 \u001b[0mtimeout\u001b[0m\u001b[0;34m=\u001b[0m\u001b[0mself\u001b[0m\u001b[0;34m.\u001b[0m\u001b[0mrequests_timeout\u001b[0m\u001b[0;34m,\u001b[0m \u001b[0;34m**\u001b[0m\u001b[0margs\u001b[0m\u001b[0;34m\u001b[0m\u001b[0;34m\u001b[0m\u001b[0m\n",
      "\u001b[0;32m/Library/Frameworks/Python.framework/Versions/3.8/lib/python3.8/site-packages/requests/sessions.py\u001b[0m in \u001b[0;36mrequest\u001b[0;34m(self, method, url, params, data, headers, cookies, files, auth, timeout, allow_redirects, proxies, hooks, stream, verify, cert, json)\u001b[0m\n\u001b[1;32m    531\u001b[0m         }\n\u001b[1;32m    532\u001b[0m         \u001b[0msend_kwargs\u001b[0m\u001b[0;34m.\u001b[0m\u001b[0mupdate\u001b[0m\u001b[0;34m(\u001b[0m\u001b[0msettings\u001b[0m\u001b[0;34m)\u001b[0m\u001b[0;34m\u001b[0m\u001b[0;34m\u001b[0m\u001b[0m\n\u001b[0;32m--> 533\u001b[0;31m         \u001b[0mresp\u001b[0m \u001b[0;34m=\u001b[0m \u001b[0mself\u001b[0m\u001b[0;34m.\u001b[0m\u001b[0msend\u001b[0m\u001b[0;34m(\u001b[0m\u001b[0mprep\u001b[0m\u001b[0;34m,\u001b[0m \u001b[0;34m**\u001b[0m\u001b[0msend_kwargs\u001b[0m\u001b[0;34m)\u001b[0m\u001b[0;34m\u001b[0m\u001b[0;34m\u001b[0m\u001b[0m\n\u001b[0m\u001b[1;32m    534\u001b[0m \u001b[0;34m\u001b[0m\u001b[0m\n\u001b[1;32m    535\u001b[0m         \u001b[0;32mreturn\u001b[0m \u001b[0mresp\u001b[0m\u001b[0;34m\u001b[0m\u001b[0;34m\u001b[0m\u001b[0m\n",
      "\u001b[0;32m/Library/Frameworks/Python.framework/Versions/3.8/lib/python3.8/site-packages/requests/sessions.py\u001b[0m in \u001b[0;36msend\u001b[0;34m(self, request, **kwargs)\u001b[0m\n\u001b[1;32m    644\u001b[0m \u001b[0;34m\u001b[0m\u001b[0m\n\u001b[1;32m    645\u001b[0m         \u001b[0;31m# Send the request\u001b[0m\u001b[0;34m\u001b[0m\u001b[0;34m\u001b[0m\u001b[0;34m\u001b[0m\u001b[0m\n\u001b[0;32m--> 646\u001b[0;31m         \u001b[0mr\u001b[0m \u001b[0;34m=\u001b[0m \u001b[0madapter\u001b[0m\u001b[0;34m.\u001b[0m\u001b[0msend\u001b[0m\u001b[0;34m(\u001b[0m\u001b[0mrequest\u001b[0m\u001b[0;34m,\u001b[0m \u001b[0;34m**\u001b[0m\u001b[0mkwargs\u001b[0m\u001b[0;34m)\u001b[0m\u001b[0;34m\u001b[0m\u001b[0;34m\u001b[0m\u001b[0m\n\u001b[0m\u001b[1;32m    647\u001b[0m \u001b[0;34m\u001b[0m\u001b[0m\n\u001b[1;32m    648\u001b[0m         \u001b[0;31m# Total elapsed time of the request (approximately)\u001b[0m\u001b[0;34m\u001b[0m\u001b[0;34m\u001b[0m\u001b[0;34m\u001b[0m\u001b[0m\n",
      "\u001b[0;32m/Library/Frameworks/Python.framework/Versions/3.8/lib/python3.8/site-packages/requests/adapters.py\u001b[0m in \u001b[0;36msend\u001b[0;34m(self, request, stream, timeout, verify, cert, proxies)\u001b[0m\n\u001b[1;32m    437\u001b[0m         \u001b[0;32mtry\u001b[0m\u001b[0;34m:\u001b[0m\u001b[0;34m\u001b[0m\u001b[0;34m\u001b[0m\u001b[0m\n\u001b[1;32m    438\u001b[0m             \u001b[0;32mif\u001b[0m \u001b[0;32mnot\u001b[0m \u001b[0mchunked\u001b[0m\u001b[0;34m:\u001b[0m\u001b[0;34m\u001b[0m\u001b[0;34m\u001b[0m\u001b[0m\n\u001b[0;32m--> 439\u001b[0;31m                 resp = conn.urlopen(\n\u001b[0m\u001b[1;32m    440\u001b[0m                     \u001b[0mmethod\u001b[0m\u001b[0;34m=\u001b[0m\u001b[0mrequest\u001b[0m\u001b[0;34m.\u001b[0m\u001b[0mmethod\u001b[0m\u001b[0;34m,\u001b[0m\u001b[0;34m\u001b[0m\u001b[0;34m\u001b[0m\u001b[0m\n\u001b[1;32m    441\u001b[0m                     \u001b[0murl\u001b[0m\u001b[0;34m=\u001b[0m\u001b[0murl\u001b[0m\u001b[0;34m,\u001b[0m\u001b[0;34m\u001b[0m\u001b[0;34m\u001b[0m\u001b[0m\n",
      "\u001b[0;32m/Library/Frameworks/Python.framework/Versions/3.8/lib/python3.8/site-packages/urllib3/connectionpool.py\u001b[0m in \u001b[0;36murlopen\u001b[0;34m(self, method, url, body, headers, retries, redirect, assert_same_host, timeout, pool_timeout, release_conn, chunked, body_pos, **response_kw)\u001b[0m\n\u001b[1;32m    595\u001b[0m \u001b[0;34m\u001b[0m\u001b[0m\n\u001b[1;32m    596\u001b[0m             \u001b[0;31m# Make the request on the httplib connection object.\u001b[0m\u001b[0;34m\u001b[0m\u001b[0;34m\u001b[0m\u001b[0;34m\u001b[0m\u001b[0m\n\u001b[0;32m--> 597\u001b[0;31m             httplib_response = self._make_request(conn, method, url,\n\u001b[0m\u001b[1;32m    598\u001b[0m                                                   \u001b[0mtimeout\u001b[0m\u001b[0;34m=\u001b[0m\u001b[0mtimeout_obj\u001b[0m\u001b[0;34m,\u001b[0m\u001b[0;34m\u001b[0m\u001b[0;34m\u001b[0m\u001b[0m\n\u001b[1;32m    599\u001b[0m                                                   \u001b[0mbody\u001b[0m\u001b[0;34m=\u001b[0m\u001b[0mbody\u001b[0m\u001b[0;34m,\u001b[0m \u001b[0mheaders\u001b[0m\u001b[0;34m=\u001b[0m\u001b[0mheaders\u001b[0m\u001b[0;34m,\u001b[0m\u001b[0;34m\u001b[0m\u001b[0;34m\u001b[0m\u001b[0m\n",
      "\u001b[0;32m/Library/Frameworks/Python.framework/Versions/3.8/lib/python3.8/site-packages/urllib3/connectionpool.py\u001b[0m in \u001b[0;36m_make_request\u001b[0;34m(self, conn, method, url, timeout, chunked, **httplib_request_kw)\u001b[0m\n\u001b[1;32m    378\u001b[0m             \u001b[0;32mexcept\u001b[0m \u001b[0mTypeError\u001b[0m\u001b[0;34m:\u001b[0m  \u001b[0;31m# Python 3\u001b[0m\u001b[0;34m\u001b[0m\u001b[0;34m\u001b[0m\u001b[0m\n\u001b[1;32m    379\u001b[0m                 \u001b[0;32mtry\u001b[0m\u001b[0;34m:\u001b[0m\u001b[0;34m\u001b[0m\u001b[0;34m\u001b[0m\u001b[0m\n\u001b[0;32m--> 380\u001b[0;31m                     \u001b[0mhttplib_response\u001b[0m \u001b[0;34m=\u001b[0m \u001b[0mconn\u001b[0m\u001b[0;34m.\u001b[0m\u001b[0mgetresponse\u001b[0m\u001b[0;34m(\u001b[0m\u001b[0;34m)\u001b[0m\u001b[0;34m\u001b[0m\u001b[0;34m\u001b[0m\u001b[0m\n\u001b[0m\u001b[1;32m    381\u001b[0m                 \u001b[0;32mexcept\u001b[0m \u001b[0mException\u001b[0m \u001b[0;32mas\u001b[0m \u001b[0me\u001b[0m\u001b[0;34m:\u001b[0m\u001b[0;34m\u001b[0m\u001b[0;34m\u001b[0m\u001b[0m\n\u001b[1;32m    382\u001b[0m                     \u001b[0;31m# Remove the TypeError from the exception chain in Python 3;\u001b[0m\u001b[0;34m\u001b[0m\u001b[0;34m\u001b[0m\u001b[0;34m\u001b[0m\u001b[0m\n",
      "\u001b[0;32m/Library/Frameworks/Python.framework/Versions/3.8/lib/python3.8/http/client.py\u001b[0m in \u001b[0;36mgetresponse\u001b[0;34m(self)\u001b[0m\n\u001b[1;32m   1320\u001b[0m         \u001b[0;32mtry\u001b[0m\u001b[0;34m:\u001b[0m\u001b[0;34m\u001b[0m\u001b[0;34m\u001b[0m\u001b[0m\n\u001b[1;32m   1321\u001b[0m             \u001b[0;32mtry\u001b[0m\u001b[0;34m:\u001b[0m\u001b[0;34m\u001b[0m\u001b[0;34m\u001b[0m\u001b[0m\n\u001b[0;32m-> 1322\u001b[0;31m                 \u001b[0mresponse\u001b[0m\u001b[0;34m.\u001b[0m\u001b[0mbegin\u001b[0m\u001b[0;34m(\u001b[0m\u001b[0;34m)\u001b[0m\u001b[0;34m\u001b[0m\u001b[0;34m\u001b[0m\u001b[0m\n\u001b[0m\u001b[1;32m   1323\u001b[0m             \u001b[0;32mexcept\u001b[0m \u001b[0mConnectionError\u001b[0m\u001b[0;34m:\u001b[0m\u001b[0;34m\u001b[0m\u001b[0;34m\u001b[0m\u001b[0m\n\u001b[1;32m   1324\u001b[0m                 \u001b[0mself\u001b[0m\u001b[0;34m.\u001b[0m\u001b[0mclose\u001b[0m\u001b[0;34m(\u001b[0m\u001b[0;34m)\u001b[0m\u001b[0;34m\u001b[0m\u001b[0;34m\u001b[0m\u001b[0m\n",
      "\u001b[0;32m/Library/Frameworks/Python.framework/Versions/3.8/lib/python3.8/http/client.py\u001b[0m in \u001b[0;36mbegin\u001b[0;34m(self)\u001b[0m\n\u001b[1;32m    301\u001b[0m         \u001b[0;31m# read until we get a non-100 response\u001b[0m\u001b[0;34m\u001b[0m\u001b[0;34m\u001b[0m\u001b[0;34m\u001b[0m\u001b[0m\n\u001b[1;32m    302\u001b[0m         \u001b[0;32mwhile\u001b[0m \u001b[0;32mTrue\u001b[0m\u001b[0;34m:\u001b[0m\u001b[0;34m\u001b[0m\u001b[0;34m\u001b[0m\u001b[0m\n\u001b[0;32m--> 303\u001b[0;31m             \u001b[0mversion\u001b[0m\u001b[0;34m,\u001b[0m \u001b[0mstatus\u001b[0m\u001b[0;34m,\u001b[0m \u001b[0mreason\u001b[0m \u001b[0;34m=\u001b[0m \u001b[0mself\u001b[0m\u001b[0;34m.\u001b[0m\u001b[0m_read_status\u001b[0m\u001b[0;34m(\u001b[0m\u001b[0;34m)\u001b[0m\u001b[0;34m\u001b[0m\u001b[0;34m\u001b[0m\u001b[0m\n\u001b[0m\u001b[1;32m    304\u001b[0m             \u001b[0;32mif\u001b[0m \u001b[0mstatus\u001b[0m \u001b[0;34m!=\u001b[0m \u001b[0mCONTINUE\u001b[0m\u001b[0;34m:\u001b[0m\u001b[0;34m\u001b[0m\u001b[0;34m\u001b[0m\u001b[0m\n\u001b[1;32m    305\u001b[0m                 \u001b[0;32mbreak\u001b[0m\u001b[0;34m\u001b[0m\u001b[0;34m\u001b[0m\u001b[0m\n",
      "\u001b[0;32m/Library/Frameworks/Python.framework/Versions/3.8/lib/python3.8/http/client.py\u001b[0m in \u001b[0;36m_read_status\u001b[0;34m(self)\u001b[0m\n\u001b[1;32m    262\u001b[0m \u001b[0;34m\u001b[0m\u001b[0m\n\u001b[1;32m    263\u001b[0m     \u001b[0;32mdef\u001b[0m \u001b[0m_read_status\u001b[0m\u001b[0;34m(\u001b[0m\u001b[0mself\u001b[0m\u001b[0;34m)\u001b[0m\u001b[0;34m:\u001b[0m\u001b[0;34m\u001b[0m\u001b[0;34m\u001b[0m\u001b[0m\n\u001b[0;32m--> 264\u001b[0;31m         \u001b[0mline\u001b[0m \u001b[0;34m=\u001b[0m \u001b[0mstr\u001b[0m\u001b[0;34m(\u001b[0m\u001b[0mself\u001b[0m\u001b[0;34m.\u001b[0m\u001b[0mfp\u001b[0m\u001b[0;34m.\u001b[0m\u001b[0mreadline\u001b[0m\u001b[0;34m(\u001b[0m\u001b[0m_MAXLINE\u001b[0m \u001b[0;34m+\u001b[0m \u001b[0;36m1\u001b[0m\u001b[0;34m)\u001b[0m\u001b[0;34m,\u001b[0m \u001b[0;34m\"iso-8859-1\"\u001b[0m\u001b[0;34m)\u001b[0m\u001b[0;34m\u001b[0m\u001b[0;34m\u001b[0m\u001b[0m\n\u001b[0m\u001b[1;32m    265\u001b[0m         \u001b[0;32mif\u001b[0m \u001b[0mlen\u001b[0m\u001b[0;34m(\u001b[0m\u001b[0mline\u001b[0m\u001b[0;34m)\u001b[0m \u001b[0;34m>\u001b[0m \u001b[0m_MAXLINE\u001b[0m\u001b[0;34m:\u001b[0m\u001b[0;34m\u001b[0m\u001b[0;34m\u001b[0m\u001b[0m\n\u001b[1;32m    266\u001b[0m             \u001b[0;32mraise\u001b[0m \u001b[0mLineTooLong\u001b[0m\u001b[0;34m(\u001b[0m\u001b[0;34m\"status line\"\u001b[0m\u001b[0;34m)\u001b[0m\u001b[0;34m\u001b[0m\u001b[0;34m\u001b[0m\u001b[0m\n",
      "\u001b[0;32m/Library/Frameworks/Python.framework/Versions/3.8/lib/python3.8/socket.py\u001b[0m in \u001b[0;36mreadinto\u001b[0;34m(self, b)\u001b[0m\n\u001b[1;32m    667\u001b[0m         \u001b[0;32mwhile\u001b[0m \u001b[0;32mTrue\u001b[0m\u001b[0;34m:\u001b[0m\u001b[0;34m\u001b[0m\u001b[0;34m\u001b[0m\u001b[0m\n\u001b[1;32m    668\u001b[0m             \u001b[0;32mtry\u001b[0m\u001b[0;34m:\u001b[0m\u001b[0;34m\u001b[0m\u001b[0;34m\u001b[0m\u001b[0m\n\u001b[0;32m--> 669\u001b[0;31m                 \u001b[0;32mreturn\u001b[0m \u001b[0mself\u001b[0m\u001b[0;34m.\u001b[0m\u001b[0m_sock\u001b[0m\u001b[0;34m.\u001b[0m\u001b[0mrecv_into\u001b[0m\u001b[0;34m(\u001b[0m\u001b[0mb\u001b[0m\u001b[0;34m)\u001b[0m\u001b[0;34m\u001b[0m\u001b[0;34m\u001b[0m\u001b[0m\n\u001b[0m\u001b[1;32m    670\u001b[0m             \u001b[0;32mexcept\u001b[0m \u001b[0mtimeout\u001b[0m\u001b[0;34m:\u001b[0m\u001b[0;34m\u001b[0m\u001b[0;34m\u001b[0m\u001b[0m\n\u001b[1;32m    671\u001b[0m                 \u001b[0mself\u001b[0m\u001b[0;34m.\u001b[0m\u001b[0m_timeout_occurred\u001b[0m \u001b[0;34m=\u001b[0m \u001b[0;32mTrue\u001b[0m\u001b[0;34m\u001b[0m\u001b[0;34m\u001b[0m\u001b[0m\n",
      "\u001b[0;32m/Library/Frameworks/Python.framework/Versions/3.8/lib/python3.8/ssl.py\u001b[0m in \u001b[0;36mrecv_into\u001b[0;34m(self, buffer, nbytes, flags)\u001b[0m\n\u001b[1;32m   1239\u001b[0m                   \u001b[0;34m\"non-zero flags not allowed in calls to recv_into() on %s\"\u001b[0m \u001b[0;34m%\u001b[0m\u001b[0;34m\u001b[0m\u001b[0;34m\u001b[0m\u001b[0m\n\u001b[1;32m   1240\u001b[0m                   self.__class__)\n\u001b[0;32m-> 1241\u001b[0;31m             \u001b[0;32mreturn\u001b[0m \u001b[0mself\u001b[0m\u001b[0;34m.\u001b[0m\u001b[0mread\u001b[0m\u001b[0;34m(\u001b[0m\u001b[0mnbytes\u001b[0m\u001b[0;34m,\u001b[0m \u001b[0mbuffer\u001b[0m\u001b[0;34m)\u001b[0m\u001b[0;34m\u001b[0m\u001b[0;34m\u001b[0m\u001b[0m\n\u001b[0m\u001b[1;32m   1242\u001b[0m         \u001b[0;32melse\u001b[0m\u001b[0;34m:\u001b[0m\u001b[0;34m\u001b[0m\u001b[0;34m\u001b[0m\u001b[0m\n\u001b[1;32m   1243\u001b[0m             \u001b[0;32mreturn\u001b[0m \u001b[0msuper\u001b[0m\u001b[0;34m(\u001b[0m\u001b[0;34m)\u001b[0m\u001b[0;34m.\u001b[0m\u001b[0mrecv_into\u001b[0m\u001b[0;34m(\u001b[0m\u001b[0mbuffer\u001b[0m\u001b[0;34m,\u001b[0m \u001b[0mnbytes\u001b[0m\u001b[0;34m,\u001b[0m \u001b[0mflags\u001b[0m\u001b[0;34m)\u001b[0m\u001b[0;34m\u001b[0m\u001b[0;34m\u001b[0m\u001b[0m\n",
      "\u001b[0;32m/Library/Frameworks/Python.framework/Versions/3.8/lib/python3.8/ssl.py\u001b[0m in \u001b[0;36mread\u001b[0;34m(self, len, buffer)\u001b[0m\n\u001b[1;32m   1097\u001b[0m         \u001b[0;32mtry\u001b[0m\u001b[0;34m:\u001b[0m\u001b[0;34m\u001b[0m\u001b[0;34m\u001b[0m\u001b[0m\n\u001b[1;32m   1098\u001b[0m             \u001b[0;32mif\u001b[0m \u001b[0mbuffer\u001b[0m \u001b[0;32mis\u001b[0m \u001b[0;32mnot\u001b[0m \u001b[0;32mNone\u001b[0m\u001b[0;34m:\u001b[0m\u001b[0;34m\u001b[0m\u001b[0;34m\u001b[0m\u001b[0m\n\u001b[0;32m-> 1099\u001b[0;31m                 \u001b[0;32mreturn\u001b[0m \u001b[0mself\u001b[0m\u001b[0;34m.\u001b[0m\u001b[0m_sslobj\u001b[0m\u001b[0;34m.\u001b[0m\u001b[0mread\u001b[0m\u001b[0;34m(\u001b[0m\u001b[0mlen\u001b[0m\u001b[0;34m,\u001b[0m \u001b[0mbuffer\u001b[0m\u001b[0;34m)\u001b[0m\u001b[0;34m\u001b[0m\u001b[0;34m\u001b[0m\u001b[0m\n\u001b[0m\u001b[1;32m   1100\u001b[0m             \u001b[0;32melse\u001b[0m\u001b[0;34m:\u001b[0m\u001b[0;34m\u001b[0m\u001b[0;34m\u001b[0m\u001b[0m\n\u001b[1;32m   1101\u001b[0m                 \u001b[0;32mreturn\u001b[0m \u001b[0mself\u001b[0m\u001b[0;34m.\u001b[0m\u001b[0m_sslobj\u001b[0m\u001b[0;34m.\u001b[0m\u001b[0mread\u001b[0m\u001b[0;34m(\u001b[0m\u001b[0mlen\u001b[0m\u001b[0;34m)\u001b[0m\u001b[0;34m\u001b[0m\u001b[0;34m\u001b[0m\u001b[0m\n",
      "\u001b[0;31mKeyboardInterrupt\u001b[0m: "
     ]
    }
   ],
   "source": [
    "# retrieving artist's popularity info \n",
    "final_recomm = get_pop_link(recomm_songs)"
   ]
  },
  {
   "cell_type": "code",
   "execution_count": 163,
   "metadata": {
    "ExecuteTime": {
     "end_time": "2020-05-22T19:04:46.804377Z",
     "start_time": "2020-05-22T19:04:46.781786Z"
    }
   },
   "outputs": [
    {
     "data": {
      "text/html": [
       "<div>\n",
       "<style scoped>\n",
       "    .dataframe tbody tr th:only-of-type {\n",
       "        vertical-align: middle;\n",
       "    }\n",
       "\n",
       "    .dataframe tbody tr th {\n",
       "        vertical-align: top;\n",
       "    }\n",
       "\n",
       "    .dataframe thead th {\n",
       "        text-align: right;\n",
       "    }\n",
       "</style>\n",
       "<table border=\"1\" class=\"dataframe\">\n",
       "  <thead>\n",
       "    <tr style=\"text-align: right;\">\n",
       "      <th></th>\n",
       "      <th>track</th>\n",
       "      <th>artist</th>\n",
       "      <th>art_genres</th>\n",
       "      <th>link</th>\n",
       "    </tr>\n",
       "  </thead>\n",
       "  <tbody>\n",
       "    <tr>\n",
       "      <th>62</th>\n",
       "      <td>Shelter</td>\n",
       "      <td>Vertical Worship</td>\n",
       "      <td>['anthem worship', 'ccm', 'christian music', '...</td>\n",
       "      <td>https://open.spotify.com/artist/6N6Sk9XOoHsadA...</td>\n",
       "    </tr>\n",
       "    <tr>\n",
       "      <th>65</th>\n",
       "      <td>A Poem</td>\n",
       "      <td>Stella Donnelly</td>\n",
       "      <td>['australian indie', 'australian singer-songwr...</td>\n",
       "      <td>https://open.spotify.com/artist/2mHjhKyKCLh6MZ...</td>\n",
       "    </tr>\n",
       "    <tr>\n",
       "      <th>14</th>\n",
       "      <td>Nei Garage A Milano Nord</td>\n",
       "      <td>Le Luci Della Centrale Elettrica</td>\n",
       "      <td>['italian alternative', 'italian indie pop']</td>\n",
       "      <td>https://open.spotify.com/artist/6lnSL91XbQXZJZ...</td>\n",
       "    </tr>\n",
       "    <tr>\n",
       "      <th>44</th>\n",
       "      <td>Make Us One - House Of Worship Album Version</td>\n",
       "      <td>Twila Paris</td>\n",
       "      <td>['christian music', 'christian relaxative', 'c...</td>\n",
       "      <td>https://open.spotify.com/artist/7ua35iM0VjwfuH...</td>\n",
       "    </tr>\n",
       "    <tr>\n",
       "      <th>90</th>\n",
       "      <td>Long Daddy Green</td>\n",
       "      <td>Thad Jones</td>\n",
       "      <td>['bebop', 'big band', 'contemporary post-bop',...</td>\n",
       "      <td>https://open.spotify.com/artist/6DbqS0X8cSFOPG...</td>\n",
       "    </tr>\n",
       "    <tr>\n",
       "      <th>70</th>\n",
       "      <td>Your Sister's Apartment, Brooklyn, 2014</td>\n",
       "      <td>Wes Leslie</td>\n",
       "      <td>['blues rock', 'electric blues', 'modern blues']</td>\n",
       "      <td>https://open.spotify.com/artist/0ks4E3VJXDIRAB...</td>\n",
       "    </tr>\n",
       "  </tbody>\n",
       "</table>\n",
       "</div>"
      ],
      "text/plain": [
       "                                           track  \\\n",
       "62                                       Shelter   \n",
       "65                                        A Poem   \n",
       "14                      Nei Garage A Milano Nord   \n",
       "44  Make Us One - House Of Worship Album Version   \n",
       "90                              Long Daddy Green   \n",
       "70       Your Sister's Apartment, Brooklyn, 2014   \n",
       "\n",
       "                              artist  \\\n",
       "62                  Vertical Worship   \n",
       "65                   Stella Donnelly   \n",
       "14  Le Luci Della Centrale Elettrica   \n",
       "44                       Twila Paris   \n",
       "90                        Thad Jones   \n",
       "70                        Wes Leslie   \n",
       "\n",
       "                                           art_genres  \\\n",
       "62  ['anthem worship', 'ccm', 'christian music', '...   \n",
       "65  ['australian indie', 'australian singer-songwr...   \n",
       "14       ['italian alternative', 'italian indie pop']   \n",
       "44  ['christian music', 'christian relaxative', 'c...   \n",
       "90  ['bebop', 'big band', 'contemporary post-bop',...   \n",
       "70   ['blues rock', 'electric blues', 'modern blues']   \n",
       "\n",
       "                                                 link  \n",
       "62  https://open.spotify.com/artist/6N6Sk9XOoHsadA...  \n",
       "65  https://open.spotify.com/artist/2mHjhKyKCLh6MZ...  \n",
       "14  https://open.spotify.com/artist/6lnSL91XbQXZJZ...  \n",
       "44  https://open.spotify.com/artist/7ua35iM0VjwfuH...  \n",
       "90  https://open.spotify.com/artist/6DbqS0X8cSFOPG...  \n",
       "70  https://open.spotify.com/artist/0ks4E3VJXDIRAB...  "
      ]
     },
     "execution_count": 163,
     "metadata": {},
     "output_type": "execute_result"
    }
   ],
   "source": [
    "# data to be shown\n",
    "final_feat = ['track', 'artist','art_genres','link']\n",
    "\n",
    "# Tuning by some other parameters and showing the final results\n",
    "recommendation = final_recomm.loc[list(ind[0])].query('billboard ==0').sort_values(by='popularity', ascending=False)\n",
    "recommendation[final_feat]"
   ]
  },
  {
   "cell_type": "markdown",
   "metadata": {},
   "source": [
    "# Classes & Functions"
   ]
  },
  {
   "cell_type": "markdown",
   "metadata": {
    "heading_collapsed": true
   },
   "source": [
    "## Pipeline"
   ]
  },
  {
   "cell_type": "code",
   "execution_count": 34,
   "metadata": {
    "ExecuteTime": {
     "end_time": "2020-05-22T17:36:50.110086Z",
     "start_time": "2020-05-22T17:36:50.105157Z"
    },
    "hidden": true
   },
   "outputs": [],
   "source": [
    "class AudioFeatures():\n",
    "    \n",
    "    def __init__(self):     \n",
    "        pass\n",
    "    \n",
    "    def fit(self, X, y=None):\n",
    "        '''\n",
    "        `.fit()` method needs to return the object itself\n",
    "        '''\n",
    "        return self\n",
    "    \n",
    "    def transform(self, X):\n",
    "        '''\n",
    "        `.transform()` method needs to return a transformed data like X\n",
    "        '''\n",
    "        feat_selection = ['danceability', 'energy', 'loudness', 'speechiness',\n",
    "       'acousticness', 'instrumentalness', 'valence', 'tempo',\n",
    "       'time_signature']\n",
    "        \n",
    "        X = X[feat_selection ]\n",
    "        \n",
    "        return X\n",
    "        "
   ]
  },
  {
   "cell_type": "markdown",
   "metadata": {
    "heading_collapsed": true
   },
   "source": [
    "## Clean Artist's names "
   ]
  },
  {
   "cell_type": "code",
   "execution_count": 6,
   "metadata": {
    "ExecuteTime": {
     "end_time": "2020-05-22T17:32:14.671281Z",
     "start_time": "2020-05-22T17:32:14.664996Z"
    },
    "hidden": true
   },
   "outputs": [],
   "source": [
    "def clean_name(df:pd.DataFrame, column_name:str)-> pd.DataFrame:\n",
    "    '''\n",
    "    This function cleans the artist's name column of a dataframe and \n",
    "    returns the df with the respective column containing only the main name\n",
    "    '''\n",
    "    \n",
    "    import re\n",
    "    \n",
    "    df = df.reset_index(drop=True)\n",
    "\n",
    "    for i in range(df.shape[0]):\n",
    "        string = df.loc[i,'artist']\n",
    "        pattern ='(?:Feat(?:\\. |uring )|, |\\/|\\+|&| [Xx] | \\(|\\)| [Ww]ith | And | y )'\n",
    "        artists = re.split(pattern, string)\n",
    "        df.loc[i, 'artist'] = artists[0]\n",
    "    return df"
   ]
  },
  {
   "cell_type": "markdown",
   "metadata": {},
   "source": [
    "## Spotify API functions"
   ]
  },
  {
   "cell_type": "code",
   "execution_count": 7,
   "metadata": {
    "ExecuteTime": {
     "end_time": "2020-05-22T17:32:15.399263Z",
     "start_time": "2020-05-22T17:32:15.395639Z"
    }
   },
   "outputs": [],
   "source": [
    "def get_sptf_link(track_uri):\n",
    "    'external_urls'"
   ]
  },
  {
   "cell_type": "code",
   "execution_count": 192,
   "metadata": {
    "ExecuteTime": {
     "end_time": "2020-05-22T19:57:45.025686Z",
     "start_time": "2020-05-22T19:57:45.010912Z"
    },
    "code_folding": [
     0
    ]
   },
   "outputs": [],
   "source": [
    "def access_spotify():\n",
    "    '''\n",
    "    this function initializes spotify access \n",
    "    '''\n",
    "    import spotipy\n",
    "    import spotipy.util as util\n",
    "    from spotipy.oauth2 import SpotifyClientCredentials\n",
    "    \n",
    "    # Credentials\n",
    "    client_id= '1337a27731b840f98acd0c79f0d011f3'\n",
    "    client_secret = '98f2df2fdde44f40ad768a8142b20074'\n",
    "    response_type = 'code'\n",
    "    redirect_uri = 'https://aceworld.com.br/'\n",
    "    state= 'https%3A%2F%2Faceworld.com.br%2F'\n",
    "    scope = 'playlist-read-private scope'\n",
    "    username = 'dnekdiptrsu4rr1heu145y07j'\n",
    "    playlist = 'spotify:playlist:2QDyvRV0Ct7bGg3AREkL6P'\n",
    "\n",
    "    #Accessing with token\n",
    "    scope = 'user-library-read playlist-read-private'\n",
    "    try:\n",
    "        token = util.prompt_for_user_token(username, scope,client_id=client_id, \n",
    "                                           client_secret=client_secret, \n",
    "                                           redirect_uri=redirect_uri)\n",
    "        sp=spotipy.Spotify(auth= token)\n",
    "    except:\n",
    "        print('Token is not accesible for ' + username)\n",
    "\n",
    "    return sp"
   ]
  },
  {
   "cell_type": "code",
   "execution_count": 9,
   "metadata": {
    "ExecuteTime": {
     "end_time": "2020-05-22T17:32:16.201169Z",
     "start_time": "2020-05-22T17:32:15.750553Z"
    },
    "code_folding": [
     0,
     14,
     16,
     50,
     54,
     58,
     62,
     72,
     74
    ]
   },
   "outputs": [],
   "source": [
    "def get_artist_stats(df=False, artist_name: str = 'None', billboard_col: bool = False,\n",
    "                     spotify_access=access_spotify())-> pd.DataFrame:\n",
    "    \n",
    "    '''\n",
    "    This function receives a dataframe containing a column with artists' names ('artist')\n",
    "    or a single artist name and the spotify authenticated access to make the requests, \n",
    "    and returns a new dataframe, containing the spotify attributes for that artist:\n",
    "        - artist spotify id (uri)\n",
    "        - number of followers\n",
    "        - genres\n",
    "        - popularity\n",
    "    \n",
    "    <parameters>\n",
    "    df: a DataFrame or 'False' if the request will be for a single artist\n",
    "    billboard_col: True if the input df already contains a target \n",
    "                    column named 'billboard'.\n",
    "    spotify_access: function that accesses spotify authorization token, \n",
    "                    by default: access_spotify()\n",
    "    '''\n",
    "    import time\n",
    "    \n",
    "    sp = spotify_access\n",
    "    artists=[]\n",
    "    uris = []\n",
    "    followers = []\n",
    "    genres =[]\n",
    "    popularities = []\n",
    "    error_artists = []\n",
    "    billboard_targets = []\n",
    "    \n",
    "    if df == False and artist_name != 'None':\n",
    "        artist = artist_name\n",
    "        q = f'artist:{artist}'\n",
    "        try:\n",
    "            results = sp.search(q=q, limit=1, type='artist')['artists']['items'][0]\n",
    "        except:\n",
    "            try:\n",
    "                sp=access_spotify()\n",
    "                results = sp.search(q=q, limit=1, type='artist')['artists']['items'][0]\n",
    "            except:\n",
    "                pass\n",
    "            \n",
    "        df_final = pd.DataFrame({'artist': artist,\n",
    "                     'uri': results['uri'],\n",
    "                     'followers': results['followers']['total'],\n",
    "                     'genres': [results['genres']],\n",
    "                     'popularity': results['popularity'],\n",
    "                     'billboard': ''})\n",
    "        \n",
    "    else: \n",
    "        for i in range(df.index[0], df.shape[0]):\n",
    "            artist = df.loc[i, 'artist']\n",
    "            q = f'artist:{artist}'\n",
    "\n",
    "            try:\n",
    "                results = sp.search(q=q, limit=1, type='artist')['artists']['items'][0]\n",
    "                print (artist)\n",
    "            except:\n",
    "                try:\n",
    "                    print ('refreshing token')\n",
    "                    sp=access_spotify()\n",
    "                    results = sp.search(q=q, limit=1, type='artist')['artists']['items'][0]\n",
    "                except:\n",
    "                    print ('error:', artist)\n",
    "                    pass\n",
    "\n",
    "            artists.append(artist)\n",
    "            uris.append(results['uri'])\n",
    "            followers.append(results['followers']['total'])\n",
    "            genres.append(results['genres'])\n",
    "            popularities.append(results['popularity'])\n",
    "            # if input df contains 'billboard' column\n",
    "            if billboard_col == True:\n",
    "                billboard_targets.append(df.loc[i, 'billboard'])\n",
    "            else:\n",
    "                pass\n",
    "\n",
    "            df_2 = pd.DataFrame({'artist': artists,\n",
    "                                 'uri': uris,\n",
    "                                 'followers': followers,\n",
    "                                 'genres': genres,\n",
    "                                 'popularity': popularities,\n",
    "                                 'billboard': billboard_targets})\n",
    "            # saving a version to .csv\n",
    "            df_2.to_csv('data/processed/artists_stats_process.csv', index=False)\n",
    "\n",
    "    # saving final version to .csv    \n",
    "        df_final = df_2\n",
    "        df_final.to_csv('data/processed/artists_stats_final.csv', index=False)\n",
    "\n",
    "    return df_final"
   ]
  },
  {
   "cell_type": "code",
   "execution_count": 211,
   "metadata": {
    "ExecuteTime": {
     "end_time": "2020-05-22T20:06:20.557633Z",
     "start_time": "2020-05-22T20:06:20.539341Z"
    },
    "code_folding": [
     0
    ]
   },
   "outputs": [],
   "source": [
    "def get_audio_features(df=False, track_title:str='None', artist_name:str='None',\n",
    "                      sp=access_spotify())-> pd.DataFrame:\n",
    "    '''\n",
    "    This function receives a dataframe containing tracks' Spotify uris \n",
    "    or a single track title and\n",
    "    and returns a dataframe with the track's audio features.\n",
    "    \n",
    "    <parameters>\n",
    "    df: a DataFrame or 'False' if the request will be made for a single track\n",
    "    spotify_access: function that accesses spotify authorization token, \n",
    "                    by default: access_spotify()\n",
    "    '''\n",
    "    feat_df = pd.DataFrame()\n",
    "    pop=[]\n",
    "    art_genres=[]\n",
    "    cluster=[]\n",
    "    \n",
    "    if df == False :\n",
    "        q= f'track:{track_title} artist:{artist_name}'    \n",
    "        results = sp.search(q=q, limit=1, type='track')\n",
    "        track_title =results['tracks']['items'][0]['name']\n",
    "        tracks_uri = results['tracks']['items'][0]['uri']\n",
    "        artist_name = results['tracks']['items'][0]['artists'][0]['name']\n",
    "        artist_uri = results['tracks']['items'][0]['artists'][0]['uri'] \n",
    "        \n",
    "        audio_feat = sp.audio_features(tracks_uri)\n",
    "        art_genres = sp.artist(artist_uri)['genres']\n",
    "        cluster= ''\n",
    "        \n",
    "        new_df = pd.concat([pd.DataFrame([[\n",
    "            track_title, artist_name,tracks_uri, artist_uri, art_genres,cluster]], \n",
    "            columns=['track','artist','tracks_uri','artist_uri','art_genres', 'cluster']), \n",
    "                            pd.DataFrame(audio_feat)], axis=1)\n",
    "    else:\n",
    "        saved_uris = list(df.tracks_uri)\n",
    "\n",
    "        for uri in saved_uris:\n",
    "            feat_df = feat_df.append(pd.DataFrame(sp.audio_features(uri)))\n",
    "            track_req=sp.track(uri)\n",
    "            pop.append(track_req['popularity'])\n",
    "            art_genres.append(sp.artist(track_req['artists'][0]['uri'])['genres'])\n",
    "            cluster.append('')\n",
    "\n",
    "        new_df = pd.concat([df, feat_df.reset_index(drop=True), \n",
    "                            pd.DataFrame(pop, columns=['popularity']),\n",
    "                            pd.DataFrame(art_genres, columns=['art_genres']),\n",
    "                            pd.DataFrame(cluster, columns=['cluster'])], axis=1)\n",
    "    \n",
    "    \n",
    "    new_df = new_df [['track', 'artist', 'tracks_uri', 'art_genres',\n",
    "       'danceability', 'energy', 'key', 'loudness', 'mode', 'speechiness',\n",
    "       'acousticness', 'instrumentalness', 'liveness', 'valence', 'tempo',\n",
    "       'time_signature', 'cluster']]\n",
    "    \n",
    "    return new_df"
   ]
  },
  {
   "cell_type": "code",
   "execution_count": 217,
   "metadata": {
    "ExecuteTime": {
     "end_time": "2020-05-22T20:08:04.958703Z",
     "start_time": "2020-05-22T20:08:04.950236Z"
    },
    "code_folding": []
   },
   "outputs": [],
   "source": [
    "def get_pop_link (df, sp = access_spotify()):\n",
    "    \n",
    "    popularity = []\n",
    "    url =[]\n",
    "\n",
    "    for artist in df.artist:\n",
    "        result= sp.search(q=f\"artist:{artist}\", limit=1, type='artist')\n",
    "        url.append(result['artists']['items'][0]['external_urls']['spotify'])\n",
    "        popularity.append(result['artists']['items'][0]['popularity'])\n",
    "    \n",
    "    df['popularity']= popularity\n",
    "    df['link']=url\n",
    "    \n",
    "    return df"
   ]
  },
  {
   "cell_type": "markdown",
   "metadata": {
    "heading_collapsed": true
   },
   "source": [
    "## Billboard API functions"
   ]
  },
  {
   "cell_type": "code",
   "execution_count": 11,
   "metadata": {
    "ExecuteTime": {
     "end_time": "2020-05-22T17:32:16.229472Z",
     "start_time": "2020-05-22T17:32:16.223903Z"
    },
    "hidden": true
   },
   "outputs": [],
   "source": [
    "def get_billboard_charts_data(chart_types: list) -> pd.DataFrame:\n",
    "    '''\n",
    "    This function retrieves data from the given list of chart types:\n",
    "        - song title\n",
    "        - artist name\n",
    "        - chart name\n",
    "    > for more information about chart_types: access 'billboard.charts()'\n",
    "    '''\n",
    "    \n",
    "    df=pd.DataFrame()\n",
    "    title_list=[]\n",
    "    artist_list=[]\n",
    "    chart_name=[]\n",
    "\n",
    "    for chart_type in chart_types:\n",
    "        chart = billboard.ChartData(chart_type)\n",
    "        for song in chart:\n",
    "            title_list.append(song.title)\n",
    "            artist_list.append(song.artist)\n",
    "            chart_name.append(chart.name)\n",
    "\n",
    "        df = pd.DataFrame({'title':title_list, \n",
    "                       'artist':artist_list, \n",
    "                       'chart':chart_name})\n",
    "        df.to_csv('data/raw/billboard_artists_process.csv', index=False)\n",
    "    \n",
    "    df=df.drop_duplicates()\n",
    "    df.to_csv('data/raw/billboard_artists.csv', index=False)\n",
    "    \n",
    "    return df"
   ]
  },
  {
   "cell_type": "markdown",
   "metadata": {},
   "source": [
    "## Recommendation System Flow"
   ]
  },
  {
   "cell_type": "code",
   "execution_count": 12,
   "metadata": {
    "ExecuteTime": {
     "end_time": "2020-05-22T17:32:16.486042Z",
     "start_time": "2020-05-22T17:32:16.482107Z"
    },
    "code_folding": [
     0
    ]
   },
   "outputs": [],
   "source": [
    "# Adding new target based on number of followers:\n",
    "def artist_recommended(df):\n",
    "    df['is_recommended'] = df.followers.apply(lambda x: 0 if x > 400000 else 1)\n",
    "    return df"
   ]
  },
  {
   "cell_type": "code",
   "execution_count": 13,
   "metadata": {
    "ExecuteTime": {
     "end_time": "2020-05-22T17:32:16.644073Z",
     "start_time": "2020-05-22T17:32:16.638383Z"
    },
    "code_folding": [
     0
    ]
   },
   "outputs": [],
   "source": [
    "def get_audio(audio_type:str)-> str:\n",
    "    '''\n",
    "    this function receives a speaked audio and transforms it into written text\n",
    "    you must specify the type between: 'artist' or 'title'\n",
    "    '''\n",
    "    import speech_recognition as sr\n",
    "    import time\n",
    "    \n",
    "    r = sr.Recognizer()\n",
    "    sec = 4\n",
    "    \n",
    "    if audio_type == 'title':\n",
    "        print(f'Tell us the title of a song you like :)')\n",
    "    elif audio_type == 'artist':\n",
    "        print(f'Tell us the artist who sings that song')\n",
    "    else:\n",
    "        raise ValueError ('audio_type must be \"artist\" or \"title\"')\n",
    "    \n",
    "    with sr.Microphone() as source:\n",
    "        # read the audio data from the default microphone\n",
    "        print(f\"Listening... (you've got {sec} seconds)\")\n",
    "        try:\n",
    "            audio_data = r.record(source, duration=sec)\n",
    "        except:\n",
    "            print(f\"I didn't hear you, would you repeat please?\")\n",
    "            print(f\"Listening... (you've got {sec} seconds)\")\n",
    "        # convert speech to text\n",
    "        print(\"Processing...\")\n",
    "        user_input = r.recognize_google(audio_data)\n",
    "        \n",
    "        return user_input"
   ]
  },
  {
   "cell_type": "code",
   "execution_count": 14,
   "metadata": {
    "ExecuteTime": {
     "end_time": "2020-05-22T17:32:16.821688Z",
     "start_time": "2020-05-22T17:32:16.818351Z"
    },
    "code_folding": [
     0
    ]
   },
   "outputs": [],
   "source": [
    "def get_text(text_type:str)-> str:\n",
    "    '''\n",
    "    this function receives a written text\n",
    "    you must specify the type between: 'artist' or 'title'\n",
    "    '''\n",
    "    if text_type == 'title':\n",
    "        user_input = str(input(f'Tell us the title of a song you like :)'))\n",
    "    elif text_type == 'artist':\n",
    "        user_input = str(input(f'Tell us the artist who sings that song'))\n",
    "    else:\n",
    "        raise ValueError ('audio_type must be \"artist\" or \"title\"')    \n",
    "\n",
    "    return user_input"
   ]
  },
  {
   "cell_type": "code",
   "execution_count": 15,
   "metadata": {
    "ExecuteTime": {
     "end_time": "2020-05-22T17:32:17.120803Z",
     "start_time": "2020-05-22T17:32:17.107763Z"
    },
    "code_folding": [
     0
    ]
   },
   "outputs": [],
   "source": [
    "def check_input(song_input: str, artist_input: str)-> list:\n",
    "    '''\n",
    "    this function receives an input and confirms if the title was well captured.\n",
    "    returns a list containing:\n",
    "        - in position [0]: string (the song title)\n",
    "        - in position [1]: string (the artist name)\n",
    "        - in position [2]: bool (0 if not found in database, 1 if found in database)\n",
    "    '''\n",
    "    import textdistance\n",
    "    import time\n",
    "    n=4\n",
    "\n",
    "    # assuring if it got the song correctly:     \n",
    "    try:\n",
    "        song_lev_dists = songs.track.apply(lambda x:textdistance.levenshtein.normalized_similarity(\n",
    "                           song_input, x)).sort_values(ascending=False).head(n)\n",
    "        song_recomm_index = list(song_lev_dists.index)\n",
    "        song_recomm = songs.loc[song_recomm_index,['track', 'artist']]\n",
    "        song_recomm['song_dist']=song_lev_dists\n",
    "        song_recomm['art_dist']= song_recomm.artist.apply(lambda x:textdistance.levenshtein.normalized_similarity(\n",
    "                           artist_input, x))\n",
    "        final_recomm = song_recomm.sort_values(by=['song_dist', 'art_dist'], ascending=False)\n",
    "        final_recomm = final_recomm.query('art_dist > 0.5 and song_dist > 0.5').head(1)\n",
    "        final_recomm_song = songs.loc[final_recomm.index[0],'track']\n",
    "        final_recomm_artist = songs.loc[final_recomm.index[0],'artist']    \n",
    "\n",
    "        # assuring the artist is the same\n",
    "        if song_lev_dists[final_recomm.index[0]] >= 0.6:\n",
    "            validate = str(input(f'You chose \"{final_recomm_song}\" by {final_recomm_artist}, right? (y/n)'))\n",
    "\n",
    "        elif song_lev_dists[final_recomm.index[0]] < 0.6 and song_lev_dists[final_recomm.index[0]] >= 0.4:\n",
    "            validate = str(input(f'Did you mean: \"{final_recomm_song}\" by {final_recomm_artist}? (y/n)'))\n",
    "\n",
    "        if validate in ['y', 'yes', 'Y', 'Yes', 'YES','sim','Sim','S', 's','SIM']:\n",
    "            return [final_recomm_song, final_recomm_artist, 1]\n",
    "        else:\n",
    "            ## Look for \n",
    "            return [song_input, artist_input, 0]\n",
    "    except:\n",
    "        validate = str(input(f'You chose \"{song_input}\" by {artist_input}, right? (y/n)'))\n",
    "        if validate in ['y', 'yes', 'Y', 'Yes', 'YES','sim','Sim','S', 's','SIM']:\n",
    "            return [song_input, artist_input, 0]\n",
    "        else:\n",
    "            print(\"We're sorry, we couldn't find this song :(\")"
   ]
  },
  {
   "cell_type": "code",
   "execution_count": 209,
   "metadata": {
    "ExecuteTime": {
     "end_time": "2020-05-22T20:05:08.642710Z",
     "start_time": "2020-05-22T20:05:08.631303Z"
    },
    "code_folding": []
   },
   "outputs": [],
   "source": [
    "# look for the song in the songs database\n",
    "\n",
    "def target_process(user_input: list, sp=access_spotify())-> list:\n",
    "    '''\n",
    "    This function processes the target song, and clusterizes it given its features\n",
    "    returns a list containing:\n",
    "        - target_song\n",
    "        - target_cluster\n",
    "    It also saves to the database new songs/artists.\n",
    "    '''\n",
    "    \n",
    "    songs = pd.read_csv('data/final/songs.csv')\n",
    "    artists = pd.read_csv('data/final/artists.csv')\n",
    "\n",
    "    if user_input[2] == 1:\n",
    "        target_song = songs.query(f'track == \"{user_input[0]}\"')\n",
    "        target_index = target_song.index[0]\n",
    "        target_cluster =  songs.loc[target_index, 'cluster']\n",
    "        target_artist = songs.loc[target_index, 'artist']\n",
    "        print('found in the database')\n",
    "    else:\n",
    "        print('not found in the database, retrieving infos from spotify')\n",
    "\n",
    "        # look for song in spotify\n",
    "        target_song = get_audio_features(track_title=user_input[0], artist_name=user_input[1])\n",
    "        pipeline.transform(target_song)\n",
    "        target_cluster = pipeline.predict(target_song)\n",
    "        target_song['cluster'] = target_cluster\n",
    "        \n",
    "        # adding new song to songs database\n",
    "        if target_song.track[0] not in list(songs.track):\n",
    "            songs = pd.concat([songs, target_song], axis=0).reset_index(drop=True)\n",
    "            songs.to_csv('data/final/songs.csv', index=False)\n",
    "\n",
    "        #ADDING new artist to artist database_\n",
    "        target_artist = target_song.artist[0]\n",
    "        new_art = artist_recommended(get_artist_stats(artist_name=target_artist))\n",
    "        if new_art.artist[0] not in list(artists.artist):\n",
    "            artists = pd.concat([artists, new_art]).reset_index(drop=True)\n",
    "            artists.to_csv('data/final/artists.csv', index=False)        \n",
    "        print(\"we're all set\")\n",
    "    \n",
    "    return [target_song, target_cluster]\n"
   ]
  },
  {
   "cell_type": "code",
   "execution_count": 17,
   "metadata": {
    "ExecuteTime": {
     "end_time": "2020-05-22T17:32:17.454039Z",
     "start_time": "2020-05-22T17:32:17.448494Z"
    }
   },
   "outputs": [],
   "source": [
    "def get_recomm_songs (target_cluster: int) -> pd.DataFrame:\n",
    "    '''\n",
    "    this function receives the target cluster label, filters songs dataset by \n",
    "    cluster and target artists (non famous artists)\n",
    "    '''\n",
    "    \n",
    "    # filter song dataset by target artists\n",
    "    recomm_artists = artists.query('is_recommended == 1').loc[:,['artist', 'followers', 'popularity']]\n",
    "\n",
    "\n",
    "    # filter songs dataset by cluster\n",
    "    cluster_songs = songs.loc[songs.cluster == target_cluster]\n",
    "\n",
    "    # filter songs by artist (is_recommended or not)\n",
    "    cluster_songs['is_recommended'] = cluster_songs.artist.apply(lambda x: 1 if x in list(recomm_artists.artist) else 0)\n",
    "    cluster_songs = cluster_songs.loc[cluster_songs.is_recommended == 1]\n",
    "    cluster_songs = cluster_songs.loc[cluster_songs.decade > 1990]\n",
    "\n",
    "    cluster_songs = cluster_songs.loc[cluster_songs.art_genres != \"[]\",:]\n",
    "    \n",
    "    return cluster_songs"
   ]
  },
  {
   "cell_type": "markdown",
   "metadata": {
    "heading_collapsed": true
   },
   "source": [
    "## Other"
   ]
  },
  {
   "cell_type": "code",
   "execution_count": 18,
   "metadata": {
    "ExecuteTime": {
     "end_time": "2020-05-22T17:32:19.532722Z",
     "start_time": "2020-05-22T17:32:19.526649Z"
    },
    "hidden": true
   },
   "outputs": [],
   "source": [
    "def remove_outlier(df_in:pd.DataFrame, col_name:str):\n",
    "    '''\n",
    "    this function accepts a dataframe, removes outliers, \n",
    "    returns a list, containing:\n",
    "        - [0] new dataframe filtering outliers\n",
    "        - [1] tuple, containing low, high fences of outliers\n",
    "    '''\n",
    "    q1 = df_in[col_name].quantile(0.25)\n",
    "    q3 = df_in[col_name].quantile(0.75)\n",
    "    iqr = q3-q1 #Interquartile range\n",
    "    fence_low  = q1-1.5*iqr\n",
    "    fence_high = q3+1.5*iqr\n",
    "    df_out = df_in.loc[(df_in[col_name] > fence_low) & (df_in[col_name] < fence_high)]\n",
    "    return [df_out, (fence_low, fence_high)]"
   ]
  },
  {
   "cell_type": "code",
   "execution_count": null,
   "metadata": {
    "hidden": true
   },
   "outputs": [],
   "source": []
  }
 ],
 "metadata": {
  "kernelspec": {
   "display_name": "Python 3",
   "language": "python",
   "name": "python3"
  },
  "language_info": {
   "codemirror_mode": {
    "name": "ipython",
    "version": 3
   },
   "file_extension": ".py",
   "mimetype": "text/x-python",
   "name": "python",
   "nbconvert_exporter": "python",
   "pygments_lexer": "ipython3",
   "version": "3.8.2"
  },
  "toc": {
   "base_numbering": 1,
   "nav_menu": {},
   "number_sections": true,
   "sideBar": true,
   "skip_h1_title": false,
   "title_cell": "Table of Contents",
   "title_sidebar": "Contents",
   "toc_cell": false,
   "toc_position": {
    "height": "calc(100% - 180px)",
    "left": "10px",
    "top": "150px",
    "width": "202px"
   },
   "toc_section_display": true,
   "toc_window_display": true
  }
 },
 "nbformat": 4,
 "nbformat_minor": 4
}
