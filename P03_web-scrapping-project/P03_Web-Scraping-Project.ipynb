{
 "cells": [
  {
   "cell_type": "code",
   "execution_count": 1,
   "metadata": {},
   "outputs": [],
   "source": [
    "from bs4 import BeautifulSoup\n",
    "import pandas as pd\n",
    "import requests\n",
    "import re\n",
    "import math"
   ]
  },
  {
   "cell_type": "markdown",
   "metadata": {},
   "source": [
    "# Extracting Data - Via Web Scraping"
   ]
  },
  {
   "cell_type": "markdown",
   "metadata": {},
   "source": [
    "## Health Insurance Data"
   ]
  },
  {
   "cell_type": "markdown",
   "metadata": {},
   "source": [
    "<img src=\"ans-logo.png\" width=\"400\">"
   ]
  },
  {
   "cell_type": "markdown",
   "metadata": {},
   "source": [
    "### Connecting to the server"
   ]
  },
  {
   "cell_type": "code",
   "execution_count": 4,
   "metadata": {},
   "outputs": [
    {
     "data": {
      "text/plain": [
       "200"
      ]
     },
     "execution_count": 4,
     "metadata": {},
     "output_type": "execute_result"
    }
   ],
   "source": [
    "ans = requests.get('http://www.dados.gov.br/organization/agencia-nacional-de-saude-suplementar-ans?page=1')\n",
    "ans_soup = BeautifulSoup(ans.content)\n",
    "ans.status_code"
   ]
  },
  {
   "cell_type": "markdown",
   "metadata": {},
   "source": [
    "### Getting link to files"
   ]
  },
  {
   "cell_type": "code",
   "execution_count": 5,
   "metadata": {},
   "outputs": [
    {
     "data": {
      "text/plain": [
       "3"
      ]
     },
     "execution_count": 5,
     "metadata": {},
     "output_type": "execute_result"
    }
   ],
   "source": [
    "# finding number of results and pages to scrap: \n",
    "\n",
    "results_text = ans_soup.find_all('h3')[0].text.strip()\n",
    "result = re.findall('\\d+', results_text)[0]\n",
    "\n",
    "# rounding up to get number of pages: \n",
    "page_number = math.ceil(int(result)/20)\n",
    "page_number"
   ]
  },
  {
   "cell_type": "code",
   "execution_count": 8,
   "metadata": {
    "scrolled": true
   },
   "outputs": [
    {
     "name": "stdout",
     "output_type": "stream",
     "text": [
      "47\n"
     ]
    },
    {
     "data": {
      "text/plain": [
       "['http://www.dados.gov.br/dataset/indice-de-reclamacoes',\n",
       " 'http://www.dados.gov.br/dataset/dados-de-beneficiarios-por-regiao-geografica',\n",
       " 'http://www.dados.gov.br/dataset/programa-de-qualificacao-institucional',\n",
       " 'http://www.dados.gov.br/dataset/procedimentos-ambulatoriais-por-uf',\n",
       " 'http://www.dados.gov.br/dataset/procedimentos-hospitalares-por-uf',\n",
       " 'http://www.dados.gov.br/dataset/caderno-de-informacao',\n",
       " 'http://www.dados.gov.br/dataset/http-www-ans-gov-br-perfil-do-setor-dados-abertos-dados-abertos-disponiveis-n3',\n",
       " 'http://www.dados.gov.br/dataset/operadoras-e-prestadores-nao-hospitalares',\n",
       " 'http://www.dados.gov.br/dataset/glossario-da-saude-suplementar',\n",
       " 'http://www.dados.gov.br/dataset/produtos-e-prestadores-hospitalares',\n",
       " 'http://www.dados.gov.br/dataset/caracteristicas-dos-produtos-da-saude-suplementar',\n",
       " 'http://www.dados.gov.br/dataset/dados-de-pagamento-do-ressarcimento-ao-sus-por-operadora',\n",
       " 'http://www.dados.gov.br/dataset/dados-de-cobranca-e-arrecadacao-do-ressarcimento-ao-sus',\n",
       " 'http://www.dados.gov.br/dataset/historico-do-idss',\n",
       " 'http://www.dados.gov.br/dataset/terminologia-unificada-da-saude-suplementar-tuss',\n",
       " 'http://www.dados.gov.br/dataset/dados-gov-br-dataset-dados-de-beneficiarios-por-operadora',\n",
       " 'http://www.dados.gov.br/dataset/operadoras-de-planos-privados-de-saude',\n",
       " 'http://www.dados.gov.br/dataset/operadoras-de-planos-de-saude-com-registro-cancelado',\n",
       " 'http://www.dados.gov.br/dataset/demandas-dos-consumidores-nip',\n",
       " 'http://www.dados.gov.br/dataset/peona-sus',\n",
       " 'http://www.dados.gov.br/dataset/percentual-historico-de-cobranca-hc-do-ressarcimento-ao-sus',\n",
       " 'http://www.dados.gov.br/dataset/reajuste-de-planos-coletivos',\n",
       " 'http://www.dados.gov.br/dataset/penalidades-aplicadas-a-operadoras',\n",
       " 'http://www.dados.gov.br/dataset/historico-de-planos-de-saude',\n",
       " 'http://www.dados.gov.br/dataset/plano-anual-de-atividades-da-auditoria-interna-paint',\n",
       " 'http://www.dados.gov.br/dataset/fator-de-qualidade-profissionais-100',\n",
       " 'http://www.dados.gov.br/dataset/operadoras-acreditadas',\n",
       " 'http://www.dados.gov.br/dataset/informacoes-consolidadas-de-beneficiarios',\n",
       " 'http://www.dados.gov.br/dataset/fator-de-qualidade-hospitais-100',\n",
       " 'http://www.dados.gov.br/dataset/fator-de-qualidade-sadt-100',\n",
       " 'http://www.dados.gov.br/dataset/fator-de-qualidade-hospitais-105',\n",
       " 'http://www.dados.gov.br/dataset/fator-de-qualidade-profissionais-105',\n",
       " 'http://www.dados.gov.br/dataset/fator-de-qualidade-hospitais-dia-100',\n",
       " 'http://www.dados.gov.br/dataset/fator-de-qualidade-sadt-105',\n",
       " 'http://www.dados.gov.br/dataset/fator-de-qualidade-hospitais-dia-105',\n",
       " 'http://www.dados.gov.br/dataset/beneficiarios-com-vinculos-ativos-por-tipo-de-contratacao-para-calculo-da-vda',\n",
       " 'http://www.dados.gov.br/dataset/dados-do-ressarcimento-ao-sus-por-operadora-de-planos-de-saude',\n",
       " 'http://www.dados.gov.br/dataset/beneficiarios-identificados-sus-abi',\n",
       " 'http://www.dados.gov.br/dataset/taxa-de-cobertura-de-planos-de-saude',\n",
       " 'http://www.dados.gov.br/dataset/abrangencia-geografica-de-comercializacao-dos-planos-de-saude-ntrp',\n",
       " 'http://www.dados.gov.br/dataset/planos-de-saude-e-operadoras-ntrp',\n",
       " 'http://www.dados.gov.br/dataset/abrangencia-geografica-dos-planos-de-saude',\n",
       " 'http://www.dados.gov.br/dataset/percentual-de-finalizacao-assistencial-pfa',\n",
       " 'http://www.dados.gov.br/dataset/indice-de-abertura-de-processo-administrativo-iap',\n",
       " 'http://www.dados.gov.br/dataset/prestadores-acreditados',\n",
       " 'http://www.dados.gov.br/dataset/demandas-dos-consumidores-reclamacoes-de-beneficiarios',\n",
       " 'http://www.dados.gov.br/dataset/saude-suplementar']"
      ]
     },
     "execution_count": 8,
     "metadata": {},
     "output_type": "execute_result"
    }
   ],
   "source": [
    "# getting the links to each files page\n",
    "\n",
    "url = 'http://www.dados.gov.br/organization/agencia-nacional-de-saude-suplementar-ans?page='\n",
    "file_links = get_file_link (url, page_number)\n",
    "print(len(file_links))\n",
    "file_links"
   ]
  },
  {
   "cell_type": "code",
   "execution_count": 7,
   "metadata": {},
   "outputs": [],
   "source": [
    "# function that get file links from all pages:\n",
    "\n",
    "def get_file_link (url: str, page_number: int) -> list:\n",
    "    '''\n",
    "    This function receives:\n",
    "        - a url without the page number\n",
    "        - the total number of pages to go forward\n",
    "    it connects to all pages available in the url\n",
    "    and outputs a list of links to all files in each page.\n",
    "    \n",
    "    example:\n",
    "    inputs: \n",
    "        url = 'http://www.dados.gov.br/organization/agencia-nacional-de-saude-suplementar-ans?page='\n",
    "        page_number = 3\n",
    "    output:\n",
    "        list with all the complete links to access files from the pages.\n",
    "        \n",
    "    '''\n",
    "    list_pages = []\n",
    "    list_links = []\n",
    "    root = 'http://' + url.split('/')[2]\n",
    "    \n",
    "    for i in range(1, page_number+1):\n",
    "        ans = requests.get(url+str(i))\n",
    "        list_pages.append (BeautifulSoup(ans.content))\n",
    "\n",
    "    for j in range(len(list_pages)):\n",
    "        soup = list_pages[j].find_all('h3', attrs={'class':'dataset-heading'})\n",
    "        for k in range(len(soup)):\n",
    "            link = soup[k].find_all('a')[0]['href']\n",
    "            list_links.append (root + link)\n",
    "   \n",
    "    return list_links"
   ]
  },
  {
   "cell_type": "markdown",
   "metadata": {},
   "source": [
    "From all files, filter only files related to 'plano', 'plano de saúde', 'beneficiário' or 'operadora':"
   ]
  },
  {
   "cell_type": "code",
   "execution_count": 9,
   "metadata": {},
   "outputs": [
    {
     "name": "stdout",
     "output_type": "stream",
     "text": [
      "20\n"
     ]
    },
    {
     "data": {
      "text/plain": [
       "['http://www.dados.gov.br/dataset/dados-de-beneficiarios-por-regiao-geografica',\n",
       " 'http://www.dados.gov.br/dataset/operadoras-e-prestadores-nao-hospitalares',\n",
       " 'http://www.dados.gov.br/dataset/dados-de-pagamento-do-ressarcimento-ao-sus-por-operadora',\n",
       " 'http://www.dados.gov.br/dataset/dados-gov-br-dataset-dados-de-beneficiarios-por-operadora',\n",
       " 'http://www.dados.gov.br/dataset/operadoras-de-planos-privados-de-saude',\n",
       " 'http://www.dados.gov.br/dataset/operadoras-de-planos-de-saude-com-registro-cancelado',\n",
       " 'http://www.dados.gov.br/dataset/reajuste-de-planos-coletivos',\n",
       " 'http://www.dados.gov.br/dataset/penalidades-aplicadas-a-operadoras',\n",
       " 'http://www.dados.gov.br/dataset/historico-de-planos-de-saude',\n",
       " 'http://www.dados.gov.br/dataset/plano-anual-de-atividades-da-auditoria-interna-paint',\n",
       " 'http://www.dados.gov.br/dataset/operadoras-acreditadas',\n",
       " 'http://www.dados.gov.br/dataset/informacoes-consolidadas-de-beneficiarios',\n",
       " 'http://www.dados.gov.br/dataset/beneficiarios-com-vinculos-ativos-por-tipo-de-contratacao-para-calculo-da-vda',\n",
       " 'http://www.dados.gov.br/dataset/dados-do-ressarcimento-ao-sus-por-operadora-de-planos-de-saude',\n",
       " 'http://www.dados.gov.br/dataset/beneficiarios-identificados-sus-abi',\n",
       " 'http://www.dados.gov.br/dataset/taxa-de-cobertura-de-planos-de-saude',\n",
       " 'http://www.dados.gov.br/dataset/abrangencia-geografica-de-comercializacao-dos-planos-de-saude-ntrp',\n",
       " 'http://www.dados.gov.br/dataset/planos-de-saude-e-operadoras-ntrp',\n",
       " 'http://www.dados.gov.br/dataset/abrangencia-geografica-dos-planos-de-saude',\n",
       " 'http://www.dados.gov.br/dataset/demandas-dos-consumidores-reclamacoes-de-beneficiarios']"
      ]
     },
     "execution_count": 9,
     "metadata": {},
     "output_type": "execute_result"
    }
   ],
   "source": [
    "filtered_list = [] \n",
    "pattern = \".*[Pp]lano.*|.*[Pp]lano.+[Ss]aúde.*|.*[Bb]enefici[áa]ri[oa].*|.*[Oo]peradora.*\"\n",
    "\n",
    "for file in file_links:\n",
    "    file = re.findall(pattern, file)\n",
    "    if len(file)>0:\n",
    "        filtered_list.append(file[0])\n",
    "print(len(filtered_list))\n",
    "filtered_list"
   ]
  },
  {
   "cell_type": "code",
   "execution_count": 11,
   "metadata": {},
   "outputs": [],
   "source": [
    "# requesting every filtered pages to access link to the file download page:\n",
    "\n",
    "list_files = []\n",
    "\n",
    "for page_url in filtered_list:\n",
    "    soup = BeautifulSoup(requests.get(page_url).content)\n",
    "    files = soup.find_all('a', attrs={'class':'heading'})\n",
    "\n",
    "    # in case there are more than 1 files listed in the page:\n",
    "    for i in range(len(files)):\n",
    "        file_name = files[i].text.strip()\n",
    "\n",
    "        if file_name.endswith('csv') or file_name.endswith('zip'):\n",
    "            file_url = 'http://www.dados.gov.br' + files[i]['href']\n",
    "            list_files.append(file_url)\n",
    "            \n",
    "        else:\n",
    "            pass"
   ]
  },
  {
   "cell_type": "markdown",
   "metadata": {},
   "source": [
    "### Verifiy if there are files saved in directory"
   ]
  },
  {
   "cell_type": "code",
   "execution_count": null,
   "metadata": {},
   "outputs": [],
   "source": []
  },
  {
   "cell_type": "markdown",
   "metadata": {},
   "source": [
    "### Saving new files to local directory"
   ]
  },
  {
   "cell_type": "code",
   "execution_count": 12,
   "metadata": {
    "scrolled": false
   },
   "outputs": [
    {
     "name": "stdout",
     "output_type": "stream",
     "text": [
      "None\n",
      "http://ftp.dadosabertos.ans.gov.br/FTP/PDA/dados_de_beneficiarios_por_regiao_geografica/benef_regiao_geog.zip\n",
      "benef_regiao_geog.zip\n",
      "None\n",
      "http://ftp.dadosabertos.ans.gov.br/FTP/PDA/operadoras_e_prestadores_nao_hospitalares/operadoras_e_prestadores_nao_hospitalares.zip\n",
      "operadoras_e_prestadores_nao_hospitalares.zip\n",
      "None\n",
      "http://ftp.dadosabertos.ans.gov.br/FTP/PDA/ressarcimento_ao_SUS_indice_efetivo_pagamento/PDA_Indice_de_Efetivo_Pagamento_Ressarcimento_SUS.csv\n",
      "PDA_Indice_de_Efetivo_Pagamento_Ressarcimento_SUS.csv\n",
      "None\n",
      "http://ftp.dadosabertos.ans.gov.br/FTP/PDA/dados_de_beneficiarios_por_operadora/sib_ativos.zip\n",
      "sib_ativos.zip\n",
      "None\n",
      "http://ftp.dadosabertos.ans.gov.br/FTP/PDA/dados_de_beneficiarios_por_operadora/sib_inativos.zip\n",
      "sib_inativos.zip\n",
      "None\n",
      "http://ftp.dadosabertos.ans.gov.br/FTP/PDA/penalidades_aplicadas_a_operadoras/penalidades_aplicadas_a_operadoras.csv\n",
      "penalidades_aplicadas_a_operadoras.csv\n",
      "None\n",
      "http://ftp.dadosabertos.ans.gov.br/FTP/PDA/historico_planos_saude/HISTORICO_PLANOS.csv\n",
      "HISTORICO_PLANOS.csv\n",
      "None\n",
      "http://ftp.dadosabertos.ans.gov.br/FTP/PDA/plano_anual_de_atividades_da_auditoria_interna_PAINT/paint.zip\n",
      "paint.zip\n",
      "None\n",
      "http://ftp.dadosabertos.ans.gov.br/FTP/PDA/informacoes_consolidadas_de_beneficiarios/\n",
      "\n"
     ]
    },
    {
     "ename": "IsADirectoryError",
     "evalue": "[Errno 21] Is a directory: './data/'",
     "output_type": "error",
     "traceback": [
      "\u001b[0;31m---------------------------------------------------------------------------\u001b[0m",
      "\u001b[0;31mIsADirectoryError\u001b[0m                         Traceback (most recent call last)",
      "\u001b[0;32m<ipython-input-12-420593febc17>\u001b[0m in \u001b[0;36m<module>\u001b[0;34m\u001b[0m\n\u001b[1;32m     14\u001b[0m     \u001b[0mprint\u001b[0m\u001b[0;34m(\u001b[0m\u001b[0mfile_name\u001b[0m\u001b[0;34m)\u001b[0m\u001b[0;34m\u001b[0m\u001b[0;34m\u001b[0m\u001b[0m\n\u001b[1;32m     15\u001b[0m     \u001b[0mfolder_name\u001b[0m \u001b[0;34m=\u001b[0m \u001b[0;34m'./data'\u001b[0m\u001b[0;34m\u001b[0m\u001b[0;34m\u001b[0m\u001b[0m\n\u001b[0;32m---> 16\u001b[0;31m     \u001b[0murllib\u001b[0m\u001b[0;34m.\u001b[0m\u001b[0mrequest\u001b[0m\u001b[0;34m.\u001b[0m\u001b[0murlretrieve\u001b[0m\u001b[0;34m(\u001b[0m\u001b[0mfile\u001b[0m\u001b[0;34m,\u001b[0m \u001b[0;34mf'{folder_name}/{file_name}'\u001b[0m\u001b[0;34m)\u001b[0m\u001b[0;34m\u001b[0m\u001b[0;34m\u001b[0m\u001b[0m\n\u001b[0m\u001b[1;32m     17\u001b[0m \u001b[0;34m\u001b[0m\u001b[0m\n\u001b[1;32m     18\u001b[0m \u001b[0;31m#    if file_name.endswith('zip'):\u001b[0m\u001b[0;34m\u001b[0m\u001b[0;34m\u001b[0m\u001b[0;34m\u001b[0m\u001b[0m\n",
      "\u001b[0;32m/Applications/Xcode.app/Contents/Developer/Library/Frameworks/Python3.framework/Versions/3.7/lib/python3.7/urllib/request.py\u001b[0m in \u001b[0;36murlretrieve\u001b[0;34m(url, filename, reporthook, data)\u001b[0m\n\u001b[1;32m    255\u001b[0m         \u001b[0;31m# Handle temporary file setup.\u001b[0m\u001b[0;34m\u001b[0m\u001b[0;34m\u001b[0m\u001b[0;34m\u001b[0m\u001b[0m\n\u001b[1;32m    256\u001b[0m         \u001b[0;32mif\u001b[0m \u001b[0mfilename\u001b[0m\u001b[0;34m:\u001b[0m\u001b[0;34m\u001b[0m\u001b[0;34m\u001b[0m\u001b[0m\n\u001b[0;32m--> 257\u001b[0;31m             \u001b[0mtfp\u001b[0m \u001b[0;34m=\u001b[0m \u001b[0mopen\u001b[0m\u001b[0;34m(\u001b[0m\u001b[0mfilename\u001b[0m\u001b[0;34m,\u001b[0m \u001b[0;34m'wb'\u001b[0m\u001b[0;34m)\u001b[0m\u001b[0;34m\u001b[0m\u001b[0;34m\u001b[0m\u001b[0m\n\u001b[0m\u001b[1;32m    258\u001b[0m         \u001b[0;32melse\u001b[0m\u001b[0;34m:\u001b[0m\u001b[0;34m\u001b[0m\u001b[0;34m\u001b[0m\u001b[0m\n\u001b[1;32m    259\u001b[0m             \u001b[0mtfp\u001b[0m \u001b[0;34m=\u001b[0m \u001b[0mtempfile\u001b[0m\u001b[0;34m.\u001b[0m\u001b[0mNamedTemporaryFile\u001b[0m\u001b[0;34m(\u001b[0m\u001b[0mdelete\u001b[0m\u001b[0;34m=\u001b[0m\u001b[0;32mFalse\u001b[0m\u001b[0;34m)\u001b[0m\u001b[0;34m\u001b[0m\u001b[0;34m\u001b[0m\u001b[0m\n",
      "\u001b[0;31mIsADirectoryError\u001b[0m: [Errno 21] Is a directory: './data/'"
     ]
    }
   ],
   "source": [
    "# accessing files download pages to save in local 'data' directory:\n",
    "\n",
    "import urllib.request, urllib.parse, urllib.error \n",
    "\n",
    "for i in range(len(list_files)):\n",
    "    new_soup = BeautifulSoup(requests.get(list_files[i]).content)\n",
    "    print(new_soup.status_code)\n",
    "\n",
    "    file = new_soup.find_all('p', attrs={'class':'muted ellipsis'})[0].find_all('a')[0]['href']\n",
    "    print(file)\n",
    "    \n",
    "    # saving file to folder:\n",
    "    file_name = file.split('/')[-1]\n",
    "    print(file_name)    \n",
    "    folder_name = './data'\n",
    "    urllib.request.urlretrieve(file, f'{folder_name}/{file_name}')\n",
    "    \n",
    "# Unzipping files \n",
    "    if file_name.endswith('zip'):\n",
    "        extract_zip(folder_name, file_name)\n",
    "    else: \n",
    "        pass    \n",
    "  "
   ]
  },
  {
   "cell_type": "code",
   "execution_count": 166,
   "metadata": {},
   "outputs": [],
   "source": [
    "# accessory functions: \n",
    "\n",
    "def extract_zip(folder_name:str, zip_file:str):\n",
    "    '''\n",
    "    This function unzips ziped files.\n",
    "    Input: folder_name or path, ziped file name\n",
    "    Output: unziped files (saved in the same folder)\n",
    "    '''\n",
    "    \n",
    "    from zipfile import ZipFile\n",
    "\n",
    "    with ZipFile(f'{folder_name}/{zip_file}', 'r') as zipObj:\n",
    "       # Extract all the contents of zip file in current directory\n",
    "       zipObj.extractall(path= f'{folder_name}/')"
   ]
  },
  {
   "cell_type": "markdown",
   "metadata": {
    "heading_collapsed": true
   },
   "source": [
    "### TESTES"
   ]
  },
  {
   "cell_type": "code",
   "execution_count": null,
   "metadata": {
    "hidden": true
   },
   "outputs": [],
   "source": [
    "# teste 2 - SUCCESS"
   ]
  },
  {
   "cell_type": "code",
   "execution_count": 211,
   "metadata": {
    "hidden": true
   },
   "outputs": [
    {
     "data": {
      "text/plain": [
       "'http://www.dados.gov.br/dataset/dados-de-pagamento-do-ressarcimento-ao-sus-por-operadora/resource/9e687209-8497-467e-8d0d-fcd310cfe782'"
      ]
     },
     "execution_count": 211,
     "metadata": {},
     "output_type": "execute_result"
    }
   ],
   "source": [
    "list_files[2]"
   ]
  },
  {
   "cell_type": "code",
   "execution_count": 212,
   "metadata": {
    "hidden": true
   },
   "outputs": [
    {
     "data": {
      "text/plain": [
       "<!DOCTYPE html>\n",
       "<!--[if IE 7]> <html lang=\"pt_BR\" class=\"ie ie7\"> <![endif]--><!--[if IE 8]> <html lang=\"pt_BR\" class=\"ie ie8\"> <![endif]--><!--[if IE 9]> <html lang=\"pt_BR\" class=\"ie9\"> <![endif]--><!--[if gt IE 8]><!--><html lang=\"pt_BR\"> <!--<![endif]-->\n",
       "<head>\n",
       "<!--[if lte ie 8]><script type=\"text/javascript\" src=\"/fanstatic/vendor/:version:2018-07-05T22:13:16/html5.min.js\"></script><![endif]-->\n",
       "<link href=\"/fanstatic/vendor/:version:2018-07-05T22:13:16/select2/select2.css\" rel=\"stylesheet\" type=\"text/css\"/>\n",
       "<link href=\"/fanstatic/css/:version:2018-07-05T22:13:16/main.min.css\" rel=\"stylesheet\" type=\"text/css\"/>\n",
       "<link href=\"/fanstatic/vendor/:version:2018-07-05T22:13:16/font-awesome/css/font-awesome.min.css\" rel=\"stylesheet\" type=\"text/css\"/>\n",
       "<!--[if ie 7]><link rel=\"stylesheet\" type=\"text/css\" href=\"/fanstatic/vendor/:version:2018-07-05T22:13:16/font-awesome/css/font-awesome-ie7.min.css\" /><![endif]-->\n",
       "<link href=\"/fanstatic/ckanext-harvest/:version:2018-07-05T22:15:46/styles/harvest.css\" rel=\"stylesheet\" type=\"text/css\"/>\n",
       "<meta charset=\"utf-8\"/>\n",
       "<meta content=\"ckan 2.6.3\" name=\"generator\"/>\n",
       "<meta content=\"width=device-width, initial-scale=1.0\" name=\"viewport\"/>\n",
       "<meta name=\"description\" value=\"O Portal Brasileiro de Dados Abertos (dados.gov.br) é o sítio eletrônico de referência para a busca e o acesso aos dados públicos, seus metadados, informações, aplicativos e serviços relacionados.\"/>\n",
       "<title>Dados de pagamento do Ressarcimento ao SUS por operadora - Dados - Portal Brasileiro de Dados Abertos</title>\n",
       "<link href=\"/images/icons/ckan.ico\" rel=\"shortcut icon\"/>\n",
       "<!-- CSS Basic UI - Governo Brasileiro -->\n",
       "<link href=\"/css/application.css\" rel=\"stylesheet\"/>\n",
       "<!-- CSS Bootstrap 3 - Grid and Responsive -->\n",
       "<link href=\"/css/bootstrap3-grid.min.css\" rel=\"stylesheet\"/>\n",
       "<link href=\"/css/bootstrap3-responsive.min.css\" rel=\"stylesheet\"/>\n",
       "<!-- JS jQuery 3 -->\n",
       "<script src=\"https://code.jquery.com/jquery-3.2.1.min.js\"></script>\n",
       "<!-- Semantic UI -->\n",
       "<link href=\"https://cdnjs.cloudflare.com/ajax/libs/semantic-ui/2.2.10/semantic.min.css\" rel=\"stylesheet\"/>\n",
       "<script src=\"https://cdnjs.cloudflare.com/ajax/libs/semantic-ui/2.2.10/semantic.min.js\"></script>\n",
       "<!-- CSS Main CSS - dados.gov.br -->\n",
       "<link href=\"/css/extra.min.css\" rel=\"stylesheet\"/>\n",
       "<!-- CSS Font Awesome -->\n",
       "<link crossorigin=\"anonymous\" href=\"https://maxcdn.bootstrapcdn.com/font-awesome/4.7.0/css/font-awesome.min.css\" integrity=\"sha384-wvfXpqpZZVQGK6TAh5PVlGOfQNHSoD2xbE+QkPxCAFlNEevoEH3Sl0sibVcOQVnN\" rel=\"stylesheet\"/>\n",
       "<!-- Favicon -->\n",
       "<link href=\"/img/favicon/apple-icon-57x57.png\" rel=\"apple-touch-icon\" sizes=\"57x57\"/>\n",
       "<link href=\"/img/favicon/apple-icon-60x60.png\" rel=\"apple-touch-icon\" sizes=\"60x60\"/>\n",
       "<link href=\"/img/favicon/apple-icon-72x72.png\" rel=\"apple-touch-icon\" sizes=\"72x72\"/>\n",
       "<link href=\"/img/favicon/apple-icon-76x76.png\" rel=\"apple-touch-icon\" sizes=\"76x76\"/>\n",
       "<link href=\"/img/favicon/apple-icon-114x114.png\" rel=\"apple-touch-icon\" sizes=\"114x114\"/>\n",
       "<link href=\"/img/favicon/apple-icon-120x120.png\" rel=\"apple-touch-icon\" sizes=\"120x120\"/>\n",
       "<link href=\"/img/favicon/apple-icon-144x144.png\" rel=\"apple-touch-icon\" sizes=\"144x144\"/>\n",
       "<link href=\"/img/favicon/apple-icon-152x152.png\" rel=\"apple-touch-icon\" sizes=\"152x152\"/>\n",
       "<link href=\"/img/favicon/apple-icon-180x180.png\" rel=\"apple-touch-icon\" sizes=\"180x180\"/>\n",
       "<link href=\"/img/favicon/android-icon-192x192.png\" rel=\"icon\" sizes=\"192x192\" type=\"image/png\"/>\n",
       "<link href=\"/img/favicon/favicon-32x32.png\" rel=\"icon\" sizes=\"32x32\" type=\"image/png\"/>\n",
       "<link href=\"/img/favicon/favicon-96x96.png\" rel=\"icon\" sizes=\"96x96\" type=\"image/png\"/>\n",
       "<link href=\"/img/favicon/favicon-16x16.png\" rel=\"icon\" sizes=\"16x16\" type=\"image/png\"/>\n",
       "<link href=\"/img/favicon/manifest.json\" rel=\"manifest\"/>\n",
       "<meta content=\"#ffffff\" name=\"msapplication-TileColor\"/>\n",
       "<meta content=\"/ms-icon-144x144.png\" name=\"msapplication-TileImage\"/>\n",
       "<meta content=\"#ffffff\" name=\"theme-color\"/>\n",
       "<meta content=\"Dados de pagamento do Ressarcimento ao SUS por operadora - Dados - Portal Brasileiro de Dados Abertos\" property=\"og:title\"/>\n",
       "<meta content=\"\n",
       "Os valores relativos aos processos sob vigência da RE n.5 não são considerados para fins dessa divulgação;\n",
       "O porte da operadora é classificado como pequeno, médio ou grande porte, conforme RN nº...\" property=\"og:description\"/>\n",
       "</head>\n",
       "<body data-locale-root=\"http://dados.gov.br/\" data-site-root=\"http://dados.gov.br/\">\n",
       "<div class=\"hide\"><a href=\"#content\">Pular para o conteúdo</a></div>\n",
       "<div id=\"barra-brasil\">\n",
       "<a href=\"http://brasil.gov.br\" style=\"background:#7F7F7F; height: 20px; padding:4px 0 4px 10px; display: block; font-family:sans,sans-serif; text-decoration:none; color:white; \">Portal do Governo Brasileiro</a>\n",
       "</div>\n",
       "<header class=\"masthead\">\n",
       "<div class=\"container\">\n",
       "<ul id=\"accessibility\">\n",
       "<li>\n",
       "<a accesskey=\"1\" href=\"#content\" id=\"link-conteudo\">\n",
       "          Ir para o conteúdo\n",
       "          <span>1</span>\n",
       "</a>\n",
       "</li>\n",
       "<li>\n",
       "<a accesskey=\"2\" href=\"#menu-horizontal\" id=\"link-navegacao\">\n",
       "          Ir para o menu\n",
       "          <span>2</span>\n",
       "</a>\n",
       "</li>\n",
       "<li>\n",
       "<a accesskey=\"3\" href=\"#search\" id=\"link-buscar\">\n",
       "          Ir para a busca\n",
       "          <span>3</span>\n",
       "</a>\n",
       "</li>\n",
       "<li>\n",
       "<a accesskey=\"4\" href=\"#footer\" id=\"link-rodape\" onclick=\"window.scrollTo(0,document.body.scrollHeight)\">\n",
       "          Ir para o rodapé\n",
       "          <span>4</span>\n",
       "</a>\n",
       "</li>\n",
       "</ul>\n",
       "<hgroup class=\"header-text-logo-tagline\" id=\"site_logo\">\n",
       "<h1>\n",
       "<a href=\"/\" title=\"Portal Brasileiro de Dados Abertos\"><span id=\"portal-title\">dados.gov.br</span></a>\n",
       "</h1>\n",
       "<h2><span id=\"portal-description\">Portal Brasileiro de Dados Abertos</span></h2>\n",
       "</hgroup>\n",
       "<form action=\"/dataset\" class=\"search-form\" data-module=\"select-switch\" method=\"get\">\n",
       "<div class=\"search-input control-group\">\n",
       "<input autocomplete=\"off\" class=\"search\" name=\"q\" placeholder=\"Pesquisar conjuntos de dados...\" type=\"text\" value=\"\"/>\n",
       "<button type=\"submit\" value=\"search\">\n",
       "<i class=\"icon-search\"></i>\n",
       "<span>Enviar</span>\n",
       "</button>\n",
       "</div>\n",
       "</form>\n",
       "<ul id=\"news\">\n",
       "<li id=\"feed\"><a href=\"/feed/\" rel=\"feed\" title=\"Inscrever-se no feed de notícias\">feed</a></li>\n",
       "<li id=\"twitter\"><a href=\"http://twitter.com/dadosgovbr\" title=\"Microblog no Twitter\">twitter</a></li>\n",
       "<li id=\"github\"><a href=\"https://github.com/dadosgovbr\" title=\"Códigos fonte de projetos do dados.gov.br no Github\">Códigos fonte de projetos do dados.gov.br no Github</a></li>\n",
       "</ul>\n",
       "<div class=\"content hidden\">\n",
       "<form action=\"/dataset\" class=\"section site-search simple-input\" method=\"get\">\n",
       "<div class=\"field\">\n",
       "<label for=\"field-sitewide-search\">Buscar conjunto de dados</label>\n",
       "<input id=\"field-sitewide-search\" name=\"q\" placeholder=\"Pesquisar conjuntos de dados...\" type=\"text\"/>\n",
       "<button class=\"btn-search\" type=\"submit\"><i class=\"icon-search\"></i></button>\n",
       "</div>\n",
       "</form>\n",
       "</div>\n",
       "</div>\n",
       "<div id=\"barra-menu\">\n",
       "</div>\n",
       "<nav class=\"section navigation\" id=\"menu-horizontal\">\n",
       "<ul class=\"barra-apoio\">\n",
       "<li class=\"first link-dados\"><a href=\"/dataset/\">Dados</a></li>\n",
       "<li class=\"link-organizacoes\"><a href=\"/organization/\">Organizações</a></li>\n",
       "<!--<li class=\"link-aplicativos\"><a href=\"/pagina/aplicativos/\">Aplicativos</a></li>-->\n",
       "<li class=\"link-aplicativos\"><a href=\"/aplicativos/\">Aplicativos</a></li>\n",
       "<li class=\"link-inventarios\"><a href=\"/inventarios/\">Inventários</a></li>\n",
       "<li class=\"link-concursos\"><a href=\"/concursos/\">Concursos</a></li>\n",
       "<li class=\"link-wiki\"><a href=\"http://wiki.dados.gov.br/\"><abbr style=\"border: none;\" title=\"Infraestrutura Nacional de Dados Abertos\">INDA</abbr></a></li>\n",
       "<li class=\"link-perguntas-frequentes\"><a href=\"/pagina/faq/\">Perguntas frequentes</a></li>\n",
       "<li class=\"link-contato\"><a href=\"/pagina/contato/\">Contato</a></li>\n",
       "<li class=\"link-sobre\"><a href=\"/pagina/sobre/\">Sobre o portal</a></li>\n",
       "</ul>\n",
       "</nav>\n",
       "</header>\n",
       "<div role=\"main\">\n",
       "<div class=\"container\" id=\"content\">\n",
       "<div class=\"flash-messages\">\n",
       "</div>\n",
       "<div class=\"toolbar\">\n",
       "<ol class=\"breadcrumb\">\n",
       "<li class=\"home\"><a href=\"/\"><i class=\"icon-home\"></i><span> Início</span></a></li>\n",
       "<li><a href=\"/organization\">Organizações</a></li>\n",
       "<li><a href=\"/organization/agencia-nacional-de-saude-suplementar-ans\">Agência Nacional de Saúde ...</a></li>\n",
       "<li><a href=\"/dataset/dados-de-pagamento-do-ressarcimento-ao-sus-por-operadora\">Dados de pagamento do ...</a></li>\n",
       "<li class=\"active\"><a href=\"\">Dados</a></li>\n",
       "</ol>\n",
       "</div>\n",
       "<div class=\"row wrapper\">\n",
       "<section class=\"module module-resource\">\n",
       "<div class=\"module-content\">\n",
       "<div class=\"actions\">\n",
       "<ul>\n",
       "<li>\n",
       "<a class=\"btn btn-primary resource-url-analytics resource-type-None\" href=\"http://ftp.dadosabertos.ans.gov.br/FTP/PDA/ressarcimento_ao_SUS_indice_efetivo_pagamento/PDA_Indice_de_Efetivo_Pagamento_Ressarcimento_SUS.csv\">\n",
       "<i class=\"fa fa-external-link\"></i> Ir para recurso\n",
       "            \n",
       "        </a>\n",
       "</li>\n",
       "</ul>\n",
       "</div>\n",
       "<h1 class=\"page-heading\">Dados</h1>\n",
       "<p class=\"muted ellipsis\">URL: <a href=\"http://ftp.dadosabertos.ans.gov.br/FTP/PDA/ressarcimento_ao_SUS_indice_efetivo_pagamento/PDA_Indice_de_Efetivo_Pagamento_Ressarcimento_SUS.csv\" title=\"http://ftp.dadosabertos.ans.gov.br/FTP/PDA/ressarcimento_ao_SUS_indice_efetivo_pagamento/PDA_Indice_de_Efetivo_Pagamento_Ressarcimento_SUS.csv\">http://ftp.dadosabertos.ans.gov.br/FTP/PDA/ressarcimento_ao_SUS_indice_efetivo_pagamento/PDA_Indice_de_Efetivo_Pagamento_Ressarcimento_SUS.csv</a></p>\n",
       "<div class=\"prose notes\" property=\"rdfs:label\">\n",
       "<ul>\n",
       "<li>Os valores relativos aos processos sob vigência da RE n.5 não são considerados para fins dessa divulgação;</li>\n",
       "<li>O porte da operadora é classificado como pequeno, médio ou grande porte, conforme RN nº 26;</li>\n",
       "<li>Os valores cobrados correspondem à soma de valores originais das Guias de Recolhimento da União (GRUs) de ressarcimento ao SUS;</li>\n",
       "<li>Os valores pagos correspondem à soma de valores originais das GRUs efetivamente quitadas pelas operadoras, seja por meio de pagamento direto ou conversão em renda;</li>\n",
       "<li>Os valores parcelados correspondem à soma de valores originais das GRUs que compõem parcelamentos deferidos;</li>\n",
       "<li>O percentual de adimplência é correspondente ao resultado do cálculo a seguir: valores pagos + valores em parcelamento x 100 / valores cobrados.</li>\n",
       "</ul>\n",
       "</div>\n",
       "</div>\n",
       "<div class=\"module-content\">\n",
       "<div class=\"resource-view\">\n",
       "<div class=\"module-content data-viewer-info\">\n",
       "<p>Não há visões criadas para este recurso ainda.</p>\n",
       "</div>\n",
       "</div>\n",
       "</div>\n",
       "</section>\n",
       "<div class=\"primary span9\">\n",
       "<section class=\"module\">\n",
       "<div class=\"module-content\">\n",
       "<h2>Informações Adicionais</h2>\n",
       "<table class=\"table table-striped table-bordered table-condensed\" data-module=\"table-toggle-more\">\n",
       "<thead>\n",
       "<tr>\n",
       "<th scope=\"col\">Campo</th>\n",
       "<th scope=\"col\">Valor</th>\n",
       "</tr>\n",
       "</thead>\n",
       "<tbody>\n",
       "<tr>\n",
       "<th scope=\"row\">Ultima atualização</th>\n",
       "<td>27/Novembro/2019</td>\n",
       "</tr>\n",
       "<tr>\n",
       "<th scope=\"row\">Criado</th>\n",
       "<td>27/Novembro/2019</td>\n",
       "</tr>\n",
       "<tr>\n",
       "<th scope=\"row\">Formato</th>\n",
       "<td>zip+csv</td>\n",
       "</tr>\n",
       "<tr>\n",
       "<th scope=\"row\">Licença</th>\n",
       "<td>\n",
       "<a href=\"http://www.opendefinition.org/licenses/cc-by\" rel=\"dc:rights\">Creative Commons Attribution</a>\n",
       "</td>\n",
       "</tr>\n",
       "<tr class=\"toggle-more\"><th scope=\"row\">created</th><td>há 4 meses</td></tr>\n",
       "<tr class=\"toggle-more\"><th scope=\"row\">format</th><td>zip+csv</td></tr>\n",
       "<tr class=\"toggle-more\"><th scope=\"row\">id</th><td>9e687209-8497-467e-8d0d-fcd310cfe782</td></tr>\n",
       "<tr class=\"toggle-more\"><th scope=\"row\">package id</th><td>09510d0c-1822-4422-85cb-4fca6c920a2a</td></tr>\n",
       "<tr class=\"toggle-more\"><th scope=\"row\">revision id</th><td>8b24c13b-5140-4ea8-bb57-3eb367b54fba</td></tr>\n",
       "<tr class=\"toggle-more\"><th scope=\"row\">state</th><td>active</td></tr>\n",
       "</tbody>\n",
       "</table>\n",
       "</div>\n",
       "</section>\n",
       "</div>\n",
       "<aside class=\"secondary span3\">\n",
       "<section class=\"module module-narrow resources\">\n",
       "<h2 class=\"module-heading\"><i class=\"icon-copy\"></i> Recursos</h2>\n",
       "<ul class=\"unstyled nav nav-simple\">\n",
       "<li class=\"nav-item active\">\n",
       "<a class=\"active\" href=\"/dataset/dados-de-pagamento-do-ressarcimento-ao-sus-por-operadora/resource/9e687209-8497-467e-8d0d-fcd310cfe782?inner_span=True\"><span>Dados</span></a>\n",
       "</li>\n",
       "<li class=\"nav-item\">\n",
       "<a class=\"active\" href=\"/dataset/dados-de-pagamento-do-ressarcimento-ao-sus-por-operadora/resource/0f79dde3-957e-413c-9bd6-c95a75976f08?inner_span=True\"><span>Dicionário dos dados</span></a>\n",
       "</li>\n",
       "</ul>\n",
       "</section>\n",
       "<section class=\"module module-narrow social\">\n",
       "<h2 class=\"module-heading\"><i class=\"icon-medium icon-share\"></i> Social</h2>\n",
       "<ul class=\"nav nav-simple\">\n",
       "<li class=\"nav-item\"><a href=\"https://plus.google.com/share?url=http://dados.gov.br/dataset/dados-de-pagamento-do-ressarcimento-ao-sus-por-operadora/resource/9e687209-8497-467e-8d0d-fcd310cfe782\" target=\"_blank\"><i class=\"icon-google-plus-sign\"></i> Google+</a></li>\n",
       "<li class=\"nav-item\"><a href=\"https://twitter.com/share?url=http://dados.gov.br/dataset/dados-de-pagamento-do-ressarcimento-ao-sus-por-operadora/resource/9e687209-8497-467e-8d0d-fcd310cfe782\" target=\"_blank\"><i class=\"icon-twitter-sign\"></i> Twitter</a></li>\n",
       "<li class=\"nav-item\"><a href=\"https://www.facebook.com/sharer.php?u=http://dados.gov.br/dataset/dados-de-pagamento-do-ressarcimento-ao-sus-por-operadora/resource/9e687209-8497-467e-8d0d-fcd310cfe782\" target=\"_blank\"><i class=\"icon-facebook-sign\"></i> Facebook</a></li>\n",
       "</ul>\n",
       "</section>\n",
       "</aside>\n",
       "</div>\n",
       "</div>\n",
       "</div>\n",
       "<div class=\"container\">\n",
       "<div class=\"footer outer\">\n",
       "<div class=\"footer inner bs3\">\n",
       "<footer>\n",
       "<!-- Navegação do Rodapé -->\n",
       "<div class=\"row\">\n",
       "<div class=\"col-sm-6 col-md-3\" id=\"portal\">\n",
       "<h3> O Portal </h3>\n",
       "<ul>\n",
       "<li>\n",
       "<a href=\"/dataset/\"> Catálogo </a>\n",
       "</li>\n",
       "<li>\n",
       "<a href=\"/organization/\"> Organizações </a>\n",
       "</li>\n",
       "<li>\n",
       "<a href=\"/pagina/cadastrar-organizacao/\"> Catalogue seus dados </a>\n",
       "</li>\n",
       "<li>\n",
       "<a href=\"/pagina/mapa-do-site/\"> Mapa do site </a>\n",
       "</li>\n",
       "<li>\n",
       "<a href=\"/pagina/sobre/\"> Sobre o portal </a>\n",
       "</li>\n",
       "<li>\n",
       "<a href=\"/pagina/faq/\"> Perguntas frequentes </a>\n",
       "</li>\n",
       "<li>\n",
       "<a href=\"/pagina/dev/\"> Desenvolvimento do portal </a>\n",
       "</li>\n",
       "<li>\n",
       "<a href=\"/pagina/agradecimentos/\"> Agradecimentos </a>\n",
       "</li>\n",
       "</ul>\n",
       "</div>\n",
       "<div class=\"col-sm-6 col-md-3\" id=\"comunidade\">\n",
       "<h3> Comunidade </h3>\n",
       "<ul>\n",
       "<li>\n",
       "<a href=\"/pagina/comunidade\"> Comunidades </a>\n",
       "</li>\n",
       "<li>\n",
       "<a href=\"http://twitter.com/dadosgovbr\" target=\"_blank\"> Twitter </a>\n",
       "</li>\n",
       "<li>\n",
       "<a href=\"http://identi.ca/dadosgovbr\" target=\"_blank\"> Identi.ca </a>\n",
       "</li>\n",
       "<li>\n",
       "<a href=\"https://groups.google.com/forum/#!forum/inda-br\" target=\"_blank\"> Lista de discussão </a>\n",
       "</li>\n",
       "<li>\n",
       "<a href=\"/pagina/ferramentas-colaboracao/\"> Ferramentas de colaboração </a>\n",
       "</li>\n",
       "<li>\n",
       "<a href=\"/revision/list\"> Últimas alterações </a>\n",
       "</li>\n",
       "<li>\n",
       "<a href=\"/pagina/sugira-dados/\"> Sugira dados </a>\n",
       "</li>\n",
       "<li>\n",
       "<a href=\"/pagina/agenda/\"> Agenda </a>\n",
       "</li>\n",
       "<li>\n",
       "<a href=\"/pagina/contato/\"> Sugestões </a>\n",
       "</li>\n",
       "</ul>\n",
       "</div>\n",
       "<div class=\"col-sm-12 visible-sm\" style=\"text-align: center\">\n",
       "<hr class=\"divisor\"/>\n",
       "</div>\n",
       "<div class=\"col-sm-6 col-md-3\" id=\"manuais\">\n",
       "<h3> Manuais </h3>\n",
       "<ul>\n",
       "<li>\n",
       "<a href=\"/pagina/cartilha-publicacao-dados-abertos/\"> Cartilha de publicação de dados </a>\n",
       "</li>\n",
       "<li>\n",
       "<a href=\"http://wiki.gtinda.ibge.gov.br/GetFile.aspx?File=%2fGT3-Tecnologia%2fArquitetura%20Tecnica%20Referencial%20de%20Abertura%20de%20Dados%20v1%20edicao_duke.odt\" target=\"_blank\"> Arquitetura Técnica Referencial </a>\n",
       "</li>\n",
       "<li>\n",
       "<a href=\"http://wiki.dados.gov.br/Capacitacao-para-Catalogacao-de-Dados.ashx\" target=\"_blank\">Manual de Catalogação</a>\n",
       "</li>\n",
       "<li>\n",
       "<a href=\"http://www.w3c.br/pub/Materiais/PublicacoesW3C/Manual_Dados_Abertos_WEB.pdf\" target=\"_blank\"> Manual de Dados Abertos <abbr title=\"World Wide Web Consortium\">W3C</abbr></a>\n",
       "</li>\n",
       "<li>\n",
       "<a href=\"http://www.w3c.br/pub/Materiais/PublicacoesW3C/manual_dados_abertos_desenvolvedores_web.pdf\" target=\"_blank\"> Manual do desenvolvedor <abbr title=\"World Wide Web Consortium\">W3C</abbr></a>\n",
       "</li>\n",
       "<li>\n",
       "<a href=\"http://www.w3c.br/pub/Materiais/PublicacoesW3C/encarte_manual_desenvolvedores_web.pdf\" target=\"_blank\"> Cartilha do desenvolvedor <abbr title=\"World Wide Web Consortium\">W3C</abbr> </a>\n",
       "</li>\n",
       "<li>\n",
       "<a href=\"http://opendatahandbook.org/guide/pt_BR/\" target=\"_blank\"> Guia de Dados Abertos <abbr title=\"Open Knowledge International\">OKI</abbr> </a>\n",
       "</li>\n",
       "<li>\n",
       "<a href=\"http://www.planejamento.gov.br/secretarias/upload/arquivo/governo-aberto/copy_of_manual_elaboracao_plano_dados_abertos.pdf/@@download/file/manual_elaboracao_plano_dados_abertos.pdf\" target=\"_blank\"> Manual para Elaboração de Planos de Dados Abertos </a>\n",
       "</li>\n",
       "</ul>\n",
       "</div>\n",
       "<div class=\"col-sm-6 col-md-3\" id=\"about\">\n",
       "<h3> Saiba mais </h3>\n",
       "<ul>\n",
       "<li>\n",
       "<a href=\"/pagina/dados-abertos/\"> O que são dados abertos? </a>\n",
       "</li>\n",
       "<li>\n",
       "<a href=\"http://www.acessoainformacao.gov.br/\" target=\"_blank\"> Lei de acesso a informação </a>\n",
       "</li>\n",
       "<li>\n",
       "<a href=\"http://wiki.gtinda.ibge.gov.br/\" target=\"_blank\"> Wiki da <abbr title=\"Infraestrutura Nacional de Dados Abertos\">INDA</abbr> </a>\n",
       "</li>\n",
       "<li>\n",
       "<a href=\"/pagina/instrucao-normativa-da-inda/\"> Instrução Normativa da <abbr title=\"Infraestrutura Nacional de Dados Abertos\">INDA</abbr> </a>\n",
       "</li>\n",
       "<li>\n",
       "<a href=\"http://www.opengovpartnership.org/\" target=\"_blank\"> Parceria para Governo Aberto </a>\n",
       "</li>\n",
       "<li>\n",
       "<a href=\"/pagina/outras-iniciativas/\"> Outras iniciativas </a>\n",
       "</li>\n",
       "<li>\n",
       "<a href=\"http://i3gov.planejamento.gov.br/\" target=\"_blank\"> Indicadores de governo </a>\n",
       "</li>\n",
       "<li>\n",
       "<a href=\"http://paineis.cgu.gov.br/dadosabertos/index.htm\" target=\"_blank\"> Painel de Monitoramento </a>\n",
       "</li>\n",
       "</ul>\n",
       "</div>\n",
       "</div>\n",
       "<!-- FIM Navegação do Rodapé -->\n",
       "<div id=\"colophon\">\n",
       "          Desenvolvido pela <a href=\"http://www.planejamento.gov.br/acesso-a-informacao/institucional/unidades/sti\" target=\"_blank\">Secretaria de Tecnologia da Informação</a>, <a href=\"http://www.planejamento.gov.br/\" target=\"_blank\">Ministério do Planejamento, Desenvolvimento e Gestão</a>.\n",
       "          <a href=\"http://creativecommons.org/licenses/by-sa/3.0/deed.pt_BR\" rel=\"license\" target=\"_blank\">\n",
       "<br/>\n",
       "<img alt=\"Licença Creative Commons\" src=\"https://i.creativecommons.org/l/by-sa/3.0/80x15.png\"/></a>\n",
       "            Todo conteúdo licenciado sob uma  Licença <a href=\"http://creativecommons.org/licenses/by-sa/3.0/deed.pt_BR\" rel=\"license\" target=\"_blank\">\n",
       "              Creative Commons Attribution-ShareAlike 3.0 Unported</a>.\n",
       "              <br/>\n",
       "              Logotipo Licenciado sob <a href=\"http://www.softwarepublico.gov.br/lpm\" target=\"_blank\">Licença Pública de Marca</a>.\n",
       "        </div>\n",
       "<!-- Logos \"Acesso a informação\", \"CKAN\" e \"Governo Brasileiro\" -->\n",
       "<div class=\"row\" id=\"footer-logos\">\n",
       "<div class=\"col-xs-6\">\n",
       "<div class=\"acesso-brasil-rodape\">\n",
       "<a class=\"logo-acesso\" href=\"http://www.acessoainformacao.gov.br/\">\n",
       "<img alt=\"Acesso a Informação\" src=\"/img/acesso-a-informacao2.png\"/>\n",
       "</a>\n",
       "</div>\n",
       "<div class=\"attribution\">\n",
       "<p><strong>Impulsionado por</strong> <a class=\"hide-text ckan-footer-logo\" href=\"http://ckan.org\">CKAN</a></p>\n",
       "</div>\n",
       "</div><!-- /.col-xs-6 -->\n",
       "<div class=\"col-xs-6\">\n",
       "</div><!-- /.col-xs-6 -->\n",
       "</div><!-- /.row -->\n",
       "</footer>\n",
       "</div>\n",
       "</div>\n",
       "</div>\n",
       "<script src=\"https://barra.brasil.gov.br/barra.js\" type=\"text/javascript\"></script>\n",
       "<!-- GA -->\n",
       "<script>\n",
       "  (function(i,s,o,g,r,a,m){i['GoogleAnalyticsObject']=r;i[r]=i[r]||function(){\n",
       "    (i[r].q=i[r].q||[]).push(arguments)},i[r].l=1*new Date();a=s.createElement(o),\n",
       "    m=s.getElementsByTagName(o)[0];a.async=1;a.src=g;m.parentNode.insertBefore(a,m)\n",
       "  })(window,document,'script','//www.google-analytics.com/analytics.js','ga');\n",
       "  ga('create', 'UA-27511850-1', 'auto');\n",
       "  ga('send', 'pageview');\n",
       "  </script>\n",
       "<!-- End GA -->\n",
       "<script>document.getElementsByTagName('html')[0].className += ' js';</script>\n",
       "<script src=\"/fanstatic/vendor/:version:2018-07-05T22:13:16/jquery.min.js\" type=\"text/javascript\"></script>\n",
       "<script src=\"/fanstatic/vendor/:version:2018-07-05T22:13:16/:bundle:bootstrap/js/bootstrap.min.js;jed.min.js;moment-with-locales.js;select2/select2.min.js\" type=\"text/javascript\"></script>\n",
       "<script src=\"/fanstatic/base/:version:2018-07-05T22:13:16/:bundle:plugins/jquery.inherit.min.js;plugins/jquery.proxy-all.min.js;plugins/jquery.url-helpers.min.js;plugins/jquery.date-helpers.min.js;plugins/jquery.slug.min.js;plugins/jquery.slug-preview.min.js;plugins/jquery.truncator.min.js;plugins/jquery.masonry.min.js;plugins/jquery.form-warning.min.js;sandbox.min.js;module.min.js;pubsub.min.js;client.min.js;notify.min.js;i18n.min.js;main.min.js;modules/select-switch.min.js;modules/slug-preview.min.js;modules/basic-form.min.js;modules/confirm-action.min.js;modules/api-info.min.js;modules/autocomplete.min.js;modules/custom-fields.min.js;modules/data-viewer.min.js;modules/table-selectable-rows.min.js;modules/resource-form.min.js;modules/resource-upload-field.min.js;modules/resource-reorder.min.js;modules/resource-view-reorder.min.js;modules/follow.min.js;modules/activity-stream.min.js;modules/dashboard.min.js;modules/resource-view-embed.min.js;view-filters.min.js;modules/resource-view-filters-form.min.js;modules/resource-view-filters.min.js;modules/table-toggle-more.min.js;modules/dataset-visibility.min.js;modules/media-grid.min.js;modules/image-upload.min.js\" type=\"text/javascript\"></script></body>\n",
       "</html>"
      ]
     },
     "execution_count": 212,
     "metadata": {},
     "output_type": "execute_result"
    }
   ],
   "source": [
    "new_soup = BeautifulSoup(requests.get(list_files[2]).content)\n",
    "new_soup"
   ]
  },
  {
   "cell_type": "code",
   "execution_count": 205,
   "metadata": {
    "hidden": true
   },
   "outputs": [
    {
     "data": {
      "text/plain": [
       "'http://ftp.dadosabertos.ans.gov.br/FTP/PDA/ressarcimento_ao_SUS_indice_efetivo_pagamento/PDA_Indice_de_Efetivo_Pagamento_Ressarcimento_SUS.csv'"
      ]
     },
     "execution_count": 205,
     "metadata": {},
     "output_type": "execute_result"
    }
   ],
   "source": [
    "file = new_soup.find_all('p', attrs={'class':'muted ellipsis'})[0].find_all('a')[0]['href']\n",
    "file"
   ]
  },
  {
   "cell_type": "code",
   "execution_count": 206,
   "metadata": {
    "hidden": true,
    "scrolled": true
   },
   "outputs": [
    {
     "data": {
      "text/plain": [
       "<Response [200]>"
      ]
     },
     "execution_count": 206,
     "metadata": {},
     "output_type": "execute_result"
    }
   ],
   "source": [
    "last_url = requests.get(file)\n",
    "last_url"
   ]
  },
  {
   "cell_type": "code",
   "execution_count": 208,
   "metadata": {
    "hidden": true
   },
   "outputs": [
    {
     "data": {
      "text/plain": [
       "'PDA_Indice_de_Efetivo_Pagamento_Ressarcimento_SUS.csv'"
      ]
     },
     "execution_count": 208,
     "metadata": {},
     "output_type": "execute_result"
    }
   ],
   "source": [
    "file_name = file.split('/')[-1]\n",
    "file_name"
   ]
  },
  {
   "cell_type": "code",
   "execution_count": 209,
   "metadata": {
    "hidden": true,
    "scrolled": false
   },
   "outputs": [
    {
     "name": "stdout",
     "output_type": "stream",
     "text": [
      "PDA_Indice_de_Efetivo_Pagamento_Ressarcimento_SUS.csv\n"
     ]
    },
    {
     "data": {
      "text/plain": [
       "('./data/PDA_Indice_de_Efetivo_Pagamento_Ressarcimento_SUS.csv',\n",
       " <http.client.HTTPMessage at 0x11ae543c8>)"
      ]
     },
     "execution_count": 209,
     "metadata": {},
     "output_type": "execute_result"
    }
   ],
   "source": [
    "file_name = file.split('/')[-1]\n",
    "print(file_name)\n",
    "folder_name = './data'\n",
    "urllib.request.urlretrieve(file, f'{folder_name}/{file_name}')"
   ]
  },
  {
   "cell_type": "code",
   "execution_count": null,
   "metadata": {
    "hidden": true
   },
   "outputs": [],
   "source": []
  },
  {
   "cell_type": "code",
   "execution_count": null,
   "metadata": {
    "hidden": true
   },
   "outputs": [],
   "source": [
    "# teste1 - SUCCESS"
   ]
  },
  {
   "cell_type": "code",
   "execution_count": 192,
   "metadata": {
    "hidden": true
   },
   "outputs": [],
   "source": [
    "new_soup = BeautifulSoup(requests.get(list_files[0]).content)"
   ]
  },
  {
   "cell_type": "code",
   "execution_count": 199,
   "metadata": {
    "hidden": true
   },
   "outputs": [
    {
     "data": {
      "text/plain": [
       "'http://ftp.dadosabertos.ans.gov.br/FTP/PDA/dados_de_beneficiarios_por_regiao_geografica/benef_regiao_geog.zip'"
      ]
     },
     "execution_count": 199,
     "metadata": {},
     "output_type": "execute_result"
    }
   ],
   "source": [
    "new_soup.find_all('p', attrs={'class':'muted ellipsis'})[0].find_all('a')[0]['href']"
   ]
  },
  {
   "cell_type": "code",
   "execution_count": 184,
   "metadata": {
    "hidden": true,
    "scrolled": true
   },
   "outputs": [
    {
     "data": {
      "text/plain": [
       "<Response [200]>"
      ]
     },
     "execution_count": 184,
     "metadata": {},
     "output_type": "execute_result"
    }
   ],
   "source": [
    "new_soup = BeautifulSoup(requests.get(list_files[0]).content)\n",
    "file = new_soup.find_all('p')[0].find_all('a')[0]['href']\n",
    "last_url = requests.get(file)\n",
    "last_url"
   ]
  },
  {
   "cell_type": "code",
   "execution_count": 185,
   "metadata": {
    "hidden": true,
    "scrolled": true
   },
   "outputs": [
    {
     "name": "stdout",
     "output_type": "stream",
     "text": [
      "benef_regiao_geog.zip\n"
     ]
    },
    {
     "data": {
      "text/plain": [
       "('./data/benef_regiao_geog.zip', <http.client.HTTPMessage at 0x11c54f550>)"
      ]
     },
     "execution_count": 185,
     "metadata": {},
     "output_type": "execute_result"
    }
   ],
   "source": [
    "file_name = file.split('/')[-1]\n",
    "print(file_name)\n",
    "folder_name = './data'\n",
    "urllib.request.urlretrieve(file, f'{folder_name}/{file_name}')"
   ]
  },
  {
   "cell_type": "markdown",
   "metadata": {
    "hidden": true
   },
   "source": [
    "---------------"
   ]
  },
  {
   "cell_type": "markdown",
   "metadata": {},
   "source": [
    "# Extracting Data - Via API Wrapper"
   ]
  },
  {
   "cell_type": "markdown",
   "metadata": {},
   "source": [
    "## Google Trends API"
   ]
  },
  {
   "cell_type": "markdown",
   "metadata": {},
   "source": [
    "<img src=\"Google.png\"  width=\"400\">"
   ]
  },
  {
   "cell_type": "markdown",
   "metadata": {},
   "source": [
    "### Instaling API Wrapper"
   ]
  },
  {
   "cell_type": "code",
   "execution_count": 13,
   "metadata": {
    "collapsed": true
   },
   "outputs": [
    {
     "name": "stdout",
     "output_type": "stream",
     "text": [
      "Defaulting to user installation because normal site-packages is not writeable\n",
      "Collecting pytrends\n",
      "  Downloading pytrends-4.7.2.tar.gz (17 kB)\n",
      "Requirement already satisfied: requests in /Users/serachung/Library/Python/3.7/lib/python/site-packages (from pytrends) (2.23.0)\n",
      "Requirement already satisfied: pandas in /Users/serachung/Library/Python/3.7/lib/python/site-packages (from pytrends) (1.0.1)\n",
      "Requirement already satisfied: lxml in /Users/serachung/Library/Python/3.7/lib/python/site-packages (from pytrends) (4.5.0)\n",
      "Requirement already satisfied: chardet<4,>=3.0.2 in /Users/serachung/Library/Python/3.7/lib/python/site-packages (from requests->pytrends) (3.0.4)\n",
      "Requirement already satisfied: urllib3!=1.25.0,!=1.25.1,<1.26,>=1.21.1 in /Users/serachung/Library/Python/3.7/lib/python/site-packages (from requests->pytrends) (1.25.8)\n",
      "Requirement already satisfied: certifi>=2017.4.17 in /Users/serachung/Library/Python/3.7/lib/python/site-packages (from requests->pytrends) (2019.11.28)\n",
      "Requirement already satisfied: idna<3,>=2.5 in /Users/serachung/Library/Python/3.7/lib/python/site-packages (from requests->pytrends) (2.9)\n",
      "Requirement already satisfied: numpy>=1.13.3 in /Users/serachung/Library/Python/3.7/lib/python/site-packages (from pandas->pytrends) (1.18.1)\n",
      "Requirement already satisfied: python-dateutil>=2.6.1 in /Users/serachung/Library/Python/3.7/lib/python/site-packages (from pandas->pytrends) (2.8.1)\n",
      "Requirement already satisfied: pytz>=2017.2 in /Users/serachung/Library/Python/3.7/lib/python/site-packages (from pandas->pytrends) (2019.3)\n",
      "Requirement already satisfied: six>=1.5 in /Applications/Xcode.app/Contents/Developer/Library/Frameworks/Python3.framework/Versions/3.7/lib/python3.7/site-packages (from python-dateutil>=2.6.1->pandas->pytrends) (1.12.0)\n",
      "Building wheels for collected packages: pytrends\n",
      "  Building wheel for pytrends (setup.py) ... \u001b[?25ldone\n",
      "\u001b[?25h  Created wheel for pytrends: filename=pytrends-4.7.2-py3-none-any.whl size=14261 sha256=9e429a093c8b1b2e3d310ed0ff4f51c541c63688b01a9add2b83d9079919864b\n",
      "  Stored in directory: /Users/serachung/Library/Caches/pip/wheels/58/87/76/aae69ce81a925e574db418628ebbe184387c1e67320697511c\n",
      "Successfully built pytrends\n",
      "Installing collected packages: pytrends\n",
      "Successfully installed pytrends-4.7.2\n"
     ]
    }
   ],
   "source": [
    "!pip install pytrends"
   ]
  },
  {
   "cell_type": "markdown",
   "metadata": {},
   "source": [
    "### Importing libraries"
   ]
  },
  {
   "cell_type": "code",
   "execution_count": 48,
   "metadata": {},
   "outputs": [],
   "source": [
    "from pytrends.request import TrendReq\n",
    "pytrend = TrendReq()"
   ]
  },
  {
   "cell_type": "markdown",
   "metadata": {},
   "source": [
    "### Filtering related queries"
   ]
  },
  {
   "cell_type": "code",
   "execution_count": 105,
   "metadata": {
    "scrolled": true
   },
   "outputs": [
    {
     "data": {
      "text/plain": [
       "{'plano de saúde': {'top':                          query  value\n",
       "  0               plano de saude    100\n",
       "  1                       unimed     46\n",
       "  2        unimed plano de saúde     45\n",
       "  3              planos de saúde     34\n",
       "  4      plano de saúde bradesco     29\n",
       "  5                   plano amil     29\n",
       "  6          amil plano de saúde     28\n",
       "  7               bradesco saúde     28\n",
       "  8                         amil     27\n",
       "  9              planos de saude     21\n",
       "  10       plano de saude unimed     15\n",
       "  11                         ans     15\n",
       "  12          lei plano de saúde     14\n",
       "  13       lei de plano de saúde     14\n",
       "  14     plano de saude bradesco     13\n",
       "  15              bradesco saude     13\n",
       "  16  plano de saúde empresarial     12\n",
       "  17   plano de saúde individual     12\n",
       "  18       plano de saúde preços     11\n",
       "  19      hapvida plano de saúde     10\n",
       "  20         plano de saude amil     10\n",
       "  21     plano nacional de saúde      9\n",
       "  22     reajuste plano de saúde      9\n",
       "  23     carência plano de saúde      8\n",
       "  24       melhor plano de saúde      8,\n",
       "  'rising':                                                 query  value\n",
       "  0                        reajuste plano de saúde 2018  12850\n",
       "  1                 plano estadual de saúde 2016 a 2019  10450\n",
       "  2                plano municipal de saúde 2018 a 2021   9300\n",
       "  3                              pop rio plano de saúde   6550\n",
       "  4                                affix plano de saúde   6100\n",
       "  5                                             allcare   3400\n",
       "  6                                 ibcm plano de saúde   2550\n",
       "  7                                 plano de saúde next    850\n",
       "  8                          medical rio plano de saúde    350\n",
       "  9                                     cartão de todos    350\n",
       "  10                            plano de saúde para mei    250\n",
       "  11                             plano de saúde premium    200\n",
       "  12                             plano de saúde popular    200\n",
       "  13                                             agemed    190\n",
       "  14                    plano de saúde bradesco valores    180\n",
       "  15                       plano de saúde sao francisco    170\n",
       "  16  uma pessoa vai escolher um plano de saúde entr...    170\n",
       "  17                    telefone da amil plano de saúde    160\n",
       "  18                       plano de saude para cachorro    150\n",
       "  19              plano de saúde notre dame intermédica    150\n",
       "  20                               caarj plano de saúde    140\n",
       "  21                            plano garantia de saúde    130\n",
       "  22                             hapvida plano de saúde    110\n",
       "  23                          plano de saúde individual     50}}"
      ]
     },
     "execution_count": 105,
     "metadata": {},
     "output_type": "execute_result"
    }
   ],
   "source": [
    "# Finding queries related to 'plano de saúde' to use as <key words> for the search:\n",
    "\n",
    "pytrend.build_payload(kw_list=['plano de saúde'])\n",
    "related_queries = pytrend.related_queries()\n",
    "related_queries"
   ]
  },
  {
   "cell_type": "code",
   "execution_count": 103,
   "metadata": {},
   "outputs": [
    {
     "data": {
      "text/plain": [
       "['top', 'rising']"
      ]
     },
     "execution_count": 103,
     "metadata": {},
     "output_type": "execute_result"
    }
   ],
   "source": [
    "# Finding related key words categories: \n",
    "\n",
    "key_word = list(related_queries.keys())[0]\n",
    "list(related_queries.get(key_word).keys())"
   ]
  },
  {
   "cell_type": "code",
   "execution_count": 98,
   "metadata": {
    "scrolled": true
   },
   "outputs": [
    {
     "data": {
      "text/html": [
       "<div>\n",
       "<style scoped>\n",
       "    .dataframe tbody tr th:only-of-type {\n",
       "        vertical-align: middle;\n",
       "    }\n",
       "\n",
       "    .dataframe tbody tr th {\n",
       "        vertical-align: top;\n",
       "    }\n",
       "\n",
       "    .dataframe thead th {\n",
       "        text-align: right;\n",
       "    }\n",
       "</style>\n",
       "<table border=\"1\" class=\"dataframe\">\n",
       "  <thead>\n",
       "    <tr style=\"text-align: right;\">\n",
       "      <th></th>\n",
       "      <th>query</th>\n",
       "      <th>value</th>\n",
       "    </tr>\n",
       "  </thead>\n",
       "  <tbody>\n",
       "    <tr>\n",
       "      <th>0</th>\n",
       "      <td>plano de saude</td>\n",
       "      <td>100</td>\n",
       "    </tr>\n",
       "    <tr>\n",
       "      <th>1</th>\n",
       "      <td>unimed</td>\n",
       "      <td>46</td>\n",
       "    </tr>\n",
       "    <tr>\n",
       "      <th>2</th>\n",
       "      <td>unimed plano de saúde</td>\n",
       "      <td>45</td>\n",
       "    </tr>\n",
       "    <tr>\n",
       "      <th>3</th>\n",
       "      <td>planos de saúde</td>\n",
       "      <td>34</td>\n",
       "    </tr>\n",
       "    <tr>\n",
       "      <th>4</th>\n",
       "      <td>plano de saúde bradesco</td>\n",
       "      <td>29</td>\n",
       "    </tr>\n",
       "  </tbody>\n",
       "</table>\n",
       "</div>"
      ],
      "text/plain": [
       "                     query  value\n",
       "0           plano de saude    100\n",
       "1                   unimed     46\n",
       "2    unimed plano de saúde     45\n",
       "3          planos de saúde     34\n",
       "4  plano de saúde bradesco     29"
      ]
     },
     "execution_count": 98,
     "metadata": {},
     "output_type": "execute_result"
    }
   ],
   "source": [
    "# Selecting top 3 key words for the TOP category:\n",
    "\n",
    "top_queries = list(related_queries.get('plano de saúde').values())[0]\n",
    "top_queries.head()"
   ]
  },
  {
   "cell_type": "markdown",
   "metadata": {},
   "source": [
    "**This is the list of key words that will be queried:**"
   ]
  },
  {
   "cell_type": "code",
   "execution_count": 188,
   "metadata": {},
   "outputs": [],
   "source": [
    "query_list = ['plano de saúde', top_queries.loc[0,'query'], top_queries.loc[3,'query']]"
   ]
  },
  {
   "cell_type": "markdown",
   "metadata": {},
   "source": [
    "### Defining range of dates to collect data"
   ]
  },
  {
   "cell_type": "code",
   "execution_count": 186,
   "metadata": {
    "scrolled": true
   },
   "outputs": [
    {
     "name": "stdout",
     "output_type": "stream",
     "text": [
      "61  months\n"
     ]
    },
    {
     "data": {
      "text/plain": [
       "['2015-01-01 2015-01-31',\n",
       " '2015-02-01 2015-02-28',\n",
       " '2015-03-01 2015-03-31',\n",
       " '2015-04-01 2015-04-30',\n",
       " '2015-05-01 2015-05-31',\n",
       " '2015-06-01 2015-06-30',\n",
       " '2015-07-01 2015-07-31',\n",
       " '2015-08-01 2015-08-31',\n",
       " '2015-09-01 2015-09-30',\n",
       " '2015-10-01 2015-10-31',\n",
       " '2015-11-01 2015-11-30',\n",
       " '2015-12-01 2015-12-31',\n",
       " '2016-01-01 2016-01-31',\n",
       " '2016-02-01 2016-02-29',\n",
       " '2016-03-01 2016-03-31',\n",
       " '2016-04-01 2016-04-30',\n",
       " '2016-05-01 2016-05-31',\n",
       " '2016-06-01 2016-06-30',\n",
       " '2016-07-01 2016-07-31',\n",
       " '2016-08-01 2016-08-31',\n",
       " '2016-09-01 2016-09-30',\n",
       " '2016-10-01 2016-10-31',\n",
       " '2016-11-01 2016-11-30',\n",
       " '2016-12-01 2016-12-31',\n",
       " '2017-01-01 2017-01-31',\n",
       " '2017-02-01 2017-02-28',\n",
       " '2017-03-01 2017-03-31',\n",
       " '2017-04-01 2017-04-30',\n",
       " '2017-05-01 2017-05-31',\n",
       " '2017-06-01 2017-06-30',\n",
       " '2017-07-01 2017-07-31',\n",
       " '2017-08-01 2017-08-31',\n",
       " '2017-09-01 2017-09-30',\n",
       " '2017-10-01 2017-10-31',\n",
       " '2017-11-01 2017-11-30',\n",
       " '2017-12-01 2017-12-31',\n",
       " '2018-01-01 2018-01-31',\n",
       " '2018-02-01 2018-02-28',\n",
       " '2018-03-01 2018-03-31',\n",
       " '2018-04-01 2018-04-30',\n",
       " '2018-05-01 2018-05-31',\n",
       " '2018-06-01 2018-06-30',\n",
       " '2018-07-01 2018-07-31',\n",
       " '2018-08-01 2018-08-31',\n",
       " '2018-09-01 2018-09-30',\n",
       " '2018-10-01 2018-10-31',\n",
       " '2018-11-01 2018-11-30',\n",
       " '2018-12-01 2018-12-31',\n",
       " '2019-01-01 2019-01-31',\n",
       " '2019-02-01 2019-02-28',\n",
       " '2019-03-01 2019-03-31',\n",
       " '2019-04-01 2019-04-30',\n",
       " '2019-05-01 2019-05-31',\n",
       " '2019-06-01 2019-06-30',\n",
       " '2019-07-01 2019-07-31',\n",
       " '2019-08-01 2019-08-31',\n",
       " '2019-09-01 2019-09-30',\n",
       " '2019-10-01 2019-10-31',\n",
       " '2019-11-01 2019-11-30',\n",
       " '2019-12-01 2019-12-31',\n",
       " '2020-01-01 2020-01-31']"
      ]
     },
     "execution_count": 186,
     "metadata": {},
     "output_type": "execute_result"
    }
   ],
   "source": [
    "# Creating a list containing all date ranges for data collection\n",
    "\n",
    "from datetimerange import DateTimeRange\n",
    "from dateutil.relativedelta import relativedelta\n",
    "\n",
    "dates_list = []\n",
    "time_range = DateTimeRange(\"2015-01-01\", \"2020-01-01\")\n",
    "\n",
    "for value in time_range.range(relativedelta(months=+1)):\n",
    "    start_date = value.strftime(\"%Y-%m-%d\")\n",
    "    end_date = find_last_day(start_date)\n",
    "    dates_list.append(start_date + \" \" + end_date)\n",
    "\n",
    "print(len(dates_list), ' months')\n",
    "dates_list"
   ]
  },
  {
   "cell_type": "markdown",
   "metadata": {},
   "source": [
    "`This is a side function`"
   ]
  },
  {
   "cell_type": "code",
   "execution_count": 182,
   "metadata": {},
   "outputs": [],
   "source": [
    "def find_last_day(date):\n",
    "    \n",
    "    '''\n",
    "    This function receives any date and returns the last day of the informed month.\n",
    "    example: \n",
    "        input: 2015-01-02\n",
    "        output: 2015-01-31\n",
    "    '''\n",
    "    \n",
    "    year = date.split('-')[0]\n",
    "    month = date.split('-')[1]\n",
    "    day = calendar.monthrange(int(year), int(month))[1]\n",
    "    \n",
    "    return year + '-' + month + '-' + str(day)"
   ]
  },
  {
   "cell_type": "markdown",
   "metadata": {},
   "source": [
    "### Search queries made in Brazil \n",
    "- Based on main related key words\n",
    "- Monthly, since January 2015"
   ]
  },
  {
   "cell_type": "code",
   "execution_count": 198,
   "metadata": {
    "scrolled": true
   },
   "outputs": [
    {
     "data": {
      "text/html": [
       "<div>\n",
       "<style scoped>\n",
       "    .dataframe tbody tr th:only-of-type {\n",
       "        vertical-align: middle;\n",
       "    }\n",
       "\n",
       "    .dataframe tbody tr th {\n",
       "        vertical-align: top;\n",
       "    }\n",
       "\n",
       "    .dataframe thead th {\n",
       "        text-align: right;\n",
       "    }\n",
       "</style>\n",
       "<table border=\"1\" class=\"dataframe\">\n",
       "  <thead>\n",
       "    <tr style=\"text-align: right;\">\n",
       "      <th></th>\n",
       "      <th>geoCode</th>\n",
       "      <th>plano de saúde</th>\n",
       "      <th>plano de saude</th>\n",
       "      <th>planos de saúde</th>\n",
       "      <th>date</th>\n",
       "    </tr>\n",
       "    <tr>\n",
       "      <th>geoName</th>\n",
       "      <th></th>\n",
       "      <th></th>\n",
       "      <th></th>\n",
       "      <th></th>\n",
       "      <th></th>\n",
       "    </tr>\n",
       "  </thead>\n",
       "  <tbody>\n",
       "    <tr>\n",
       "      <th>Federal District</th>\n",
       "      <td>BR-DF</td>\n",
       "      <td>23</td>\n",
       "      <td>70</td>\n",
       "      <td>7</td>\n",
       "      <td>2015-01-01 2015-01-31</td>\n",
       "    </tr>\n",
       "    <tr>\n",
       "      <th>State of Acre</th>\n",
       "      <td>BR-AC</td>\n",
       "      <td>0</td>\n",
       "      <td>0</td>\n",
       "      <td>0</td>\n",
       "      <td>2015-01-01 2015-01-31</td>\n",
       "    </tr>\n",
       "    <tr>\n",
       "      <th>State of Alagoas</th>\n",
       "      <td>BR-AL</td>\n",
       "      <td>24</td>\n",
       "      <td>69</td>\n",
       "      <td>7</td>\n",
       "      <td>2015-01-01 2015-01-31</td>\n",
       "    </tr>\n",
       "    <tr>\n",
       "      <th>State of Amapá</th>\n",
       "      <td>BR-AP</td>\n",
       "      <td>42</td>\n",
       "      <td>58</td>\n",
       "      <td>0</td>\n",
       "      <td>2015-01-01 2015-01-31</td>\n",
       "    </tr>\n",
       "    <tr>\n",
       "      <th>State of Amazonas</th>\n",
       "      <td>BR-AM</td>\n",
       "      <td>20</td>\n",
       "      <td>66</td>\n",
       "      <td>14</td>\n",
       "      <td>2015-01-01 2015-01-31</td>\n",
       "    </tr>\n",
       "    <tr>\n",
       "      <th>...</th>\n",
       "      <td>...</td>\n",
       "      <td>...</td>\n",
       "      <td>...</td>\n",
       "      <td>...</td>\n",
       "      <td>...</td>\n",
       "    </tr>\n",
       "    <tr>\n",
       "      <th>State of Roraima</th>\n",
       "      <td>BR-RR</td>\n",
       "      <td>42</td>\n",
       "      <td>58</td>\n",
       "      <td>0</td>\n",
       "      <td>2020-01-01 2020-01-31</td>\n",
       "    </tr>\n",
       "    <tr>\n",
       "      <th>State of Santa Catarina</th>\n",
       "      <td>BR-SC</td>\n",
       "      <td>22</td>\n",
       "      <td>72</td>\n",
       "      <td>6</td>\n",
       "      <td>2020-01-01 2020-01-31</td>\n",
       "    </tr>\n",
       "    <tr>\n",
       "      <th>State of Sergipe</th>\n",
       "      <td>BR-SE</td>\n",
       "      <td>22</td>\n",
       "      <td>72</td>\n",
       "      <td>6</td>\n",
       "      <td>2020-01-01 2020-01-31</td>\n",
       "    </tr>\n",
       "    <tr>\n",
       "      <th>State of São Paulo</th>\n",
       "      <td>BR-SP</td>\n",
       "      <td>22</td>\n",
       "      <td>72</td>\n",
       "      <td>6</td>\n",
       "      <td>2020-01-01 2020-01-31</td>\n",
       "    </tr>\n",
       "    <tr>\n",
       "      <th>State of Tocantins</th>\n",
       "      <td>BR-TO</td>\n",
       "      <td>16</td>\n",
       "      <td>84</td>\n",
       "      <td>0</td>\n",
       "      <td>2020-01-01 2020-01-31</td>\n",
       "    </tr>\n",
       "  </tbody>\n",
       "</table>\n",
       "<p>1647 rows × 5 columns</p>\n",
       "</div>"
      ],
      "text/plain": [
       "                        geoCode  plano de saúde  plano de saude  \\\n",
       "geoName                                                           \n",
       "Federal District          BR-DF              23              70   \n",
       "State of Acre             BR-AC               0               0   \n",
       "State of Alagoas          BR-AL              24              69   \n",
       "State of Amapá            BR-AP              42              58   \n",
       "State of Amazonas         BR-AM              20              66   \n",
       "...                         ...             ...             ...   \n",
       "State of Roraima          BR-RR              42              58   \n",
       "State of Santa Catarina   BR-SC              22              72   \n",
       "State of Sergipe          BR-SE              22              72   \n",
       "State of São Paulo        BR-SP              22              72   \n",
       "State of Tocantins        BR-TO              16              84   \n",
       "\n",
       "                         planos de saúde                   date  \n",
       "geoName                                                          \n",
       "Federal District                       7  2015-01-01 2015-01-31  \n",
       "State of Acre                          0  2015-01-01 2015-01-31  \n",
       "State of Alagoas                       7  2015-01-01 2015-01-31  \n",
       "State of Amapá                         0  2015-01-01 2015-01-31  \n",
       "State of Amazonas                     14  2015-01-01 2015-01-31  \n",
       "...                                  ...                    ...  \n",
       "State of Roraima                       0  2020-01-01 2020-01-31  \n",
       "State of Santa Catarina                6  2020-01-01 2020-01-31  \n",
       "State of Sergipe                       6  2020-01-01 2020-01-31  \n",
       "State of São Paulo                     6  2020-01-01 2020-01-31  \n",
       "State of Tocantins                     0  2020-01-01 2020-01-31  \n",
       "\n",
       "[1647 rows x 5 columns]"
      ]
     },
     "execution_count": 198,
     "metadata": {},
     "output_type": "execute_result"
    }
   ],
   "source": [
    "# Building Payload for all dates:\n",
    "\n",
    "list_df = []\n",
    "\n",
    "for date_range in dates_list:\n",
    "\n",
    "    pytrend.build_payload(kw_list = query_list, \n",
    "                          geo = 'BR',\n",
    "                          timeframe = date_range)\n",
    "    \n",
    "    df = pytrend.interest_by_region(inc_geo_code=True, inc_low_vol=True)\n",
    "    df['date'] = date_range\n",
    "    list_df.append(df)\n",
    "\n",
    "full_df = pd.concat(list_df)\n",
    "full_df"
   ]
  },
  {
   "cell_type": "markdown",
   "metadata": {},
   "source": [
    "----------------"
   ]
  },
  {
   "cell_type": "markdown",
   "metadata": {},
   "source": [
    "# Saving to DataBase"
   ]
  },
  {
   "cell_type": "markdown",
   "metadata": {},
   "source": [
    "## Connecting do Postgres"
   ]
  },
  {
   "cell_type": "code",
   "execution_count": 200,
   "metadata": {},
   "outputs": [],
   "source": [
    "import sqlalchemy as db"
   ]
  },
  {
   "cell_type": "code",
   "execution_count": 201,
   "metadata": {},
   "outputs": [],
   "source": [
    "db_server = 'postgresql'\n",
    "user = 'postgres'\n",
    "password = XXX\n",
    "ip = 'localhost'\n",
    "db_name = 'Project_03'\n",
    "\n",
    "# create the engine\n",
    "engine = db.create_engine(f'{db_server}://{user}:{password}@{ip}/{db_name}')\n",
    "\n",
    "# localhost = 127.0.0.1\n",
    "\n",
    "# open the connection\n",
    "conn = engine.connect()"
   ]
  },
  {
   "cell_type": "markdown",
   "metadata": {},
   "source": [
    "## Saving ANS Web scraped data to DB"
   ]
  },
  {
   "cell_type": "code",
   "execution_count": 204,
   "metadata": {},
   "outputs": [],
   "source": [
    "# code here"
   ]
  },
  {
   "cell_type": "markdown",
   "metadata": {},
   "source": [
    "## Saving Google Trends information to DB"
   ]
  },
  {
   "cell_type": "code",
   "execution_count": 202,
   "metadata": {},
   "outputs": [],
   "source": [
    "full_df.to_sql('google_trends', con=conn, if_exists='replace', index=False)"
   ]
  },
  {
   "cell_type": "markdown",
   "metadata": {},
   "source": [
    "------------"
   ]
  },
  {
   "cell_type": "markdown",
   "metadata": {},
   "source": [
    "# Sources"
   ]
  },
  {
   "cell_type": "markdown",
   "metadata": {},
   "source": [
    "## For Google Trends API"
   ]
  },
  {
   "cell_type": "markdown",
   "metadata": {},
   "source": [
    "https://pypi.org/project/pytrends/\n",
    "\n",
    "https://github.com/Tanu-N-Prabhu/Python/blob/master/Google_Trends_API.ipynb"
   ]
  },
  {
   "cell_type": "markdown",
   "metadata": {},
   "source": [
    "## Additional Data Sources to access"
   ]
  },
  {
   "cell_type": "markdown",
   "metadata": {},
   "source": [
    "### Social Data"
   ]
  },
  {
   "cell_type": "code",
   "execution_count": 2,
   "metadata": {},
   "outputs": [
    {
     "data": {
      "text/plain": [
       "'http://www.dados.gov.br/dataset?tags=Consumo&organization=instituto-brasileiro-de-geografia-e-estatistica-ibge&_tags_limit=0'"
      ]
     },
     "execution_count": 2,
     "metadata": {},
     "output_type": "execute_result"
    }
   ],
   "source": [
    "# IBGE (Pesquisa de Orçamentos Familiares/ Censo Demográfico)\n",
    "'http://www.dados.gov.br/dataset?tags=Consumo&organization=instituto-brasileiro-de-geografia-e-estatistica-ibge&_tags_limit=0'"
   ]
  },
  {
   "cell_type": "code",
   "execution_count": 3,
   "metadata": {},
   "outputs": [
    {
     "data": {
      "text/plain": [
       "'http://www.dados.gov.br/organization/5b283f30-ced3-4ccc-b44a-406e8a92e1ad?groups=dados-em-destaque'"
      ]
     },
     "execution_count": 3,
     "metadata": {},
     "output_type": "execute_result"
    }
   ],
   "source": [
    "# MINISTÉRIO DA SAÚDE (Cadastro Nacional de Estabelecimentos de Saúde - CNES)\n",
    "'http://www.dados.gov.br/organization/5b283f30-ced3-4ccc-b44a-406e8a92e1ad?groups=dados-em-destaque'"
   ]
  },
  {
   "cell_type": "markdown",
   "metadata": {},
   "source": [
    "### EPIDEMIAS / PANDEMIAS"
   ]
  },
  {
   "cell_type": "code",
   "execution_count": 205,
   "metadata": {},
   "outputs": [
    {
     "data": {
      "text/plain": [
       "'https://apps.who.int/gho/data/node.country.country-BRA?lang=en'"
      ]
     },
     "execution_count": 205,
     "metadata": {},
     "output_type": "execute_result"
    }
   ],
   "source": [
    "# GHO\n",
    "'https://apps.who.int/gho/data/node.country.country-BRA?lang=en'"
   ]
  },
  {
   "cell_type": "code",
   "execution_count": null,
   "metadata": {},
   "outputs": [],
   "source": [
    "# Pandemia 2003 -2004 – Gripe Aviária\n"
   ]
  },
  {
   "cell_type": "code",
   "execution_count": null,
   "metadata": {},
   "outputs": [],
   "source": [
    "# Pandemia de 2009 – Gripe A (H1N1)  pdm 09 – Gripe Suína."
   ]
  }
 ],
 "metadata": {
  "kernelspec": {
   "display_name": "Python 3",
   "language": "python",
   "name": "python3"
  },
  "language_info": {
   "codemirror_mode": {
    "name": "ipython",
    "version": 3
   },
   "file_extension": ".py",
   "mimetype": "text/x-python",
   "name": "python",
   "nbconvert_exporter": "python",
   "pygments_lexer": "ipython3",
   "version": "3.7.3"
  },
  "toc": {
   "base_numbering": 1,
   "nav_menu": {},
   "number_sections": true,
   "sideBar": true,
   "skip_h1_title": false,
   "title_cell": "Table of Contents",
   "title_sidebar": "Contents",
   "toc_cell": false,
   "toc_position": {
    "height": "369px",
    "left": "69px",
    "top": "110px",
    "width": "239px"
   },
   "toc_section_display": true,
   "toc_window_display": true
  }
 },
 "nbformat": 4,
 "nbformat_minor": 4
}
